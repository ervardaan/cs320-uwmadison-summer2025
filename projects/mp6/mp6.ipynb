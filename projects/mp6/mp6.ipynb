{
 "cells": [
  {
   "cell_type": "markdown",
   "id": "4363f7e0-a654-4df1-ad89-67a1fff8825c",
   "metadata": {},
   "source": [
    "# Machine Project 6: EDGAR Web Logs"
   ]
  },
  {
   "cell_type": "markdown",
   "id": "6161d8f0-39c8-4107-b38d-99dc7f3fd4f3",
   "metadata": {},
   "source": [
    "#### <span style=\"color:red\">Make sure to read the [README](README.md) before starting this project</span>"
   ]
  },
  {
   "cell_type": "markdown",
   "id": "0bd91055-51ee-4d92-bb36-19f408572cab",
   "metadata": {},
   "source": [
    "## Required Information\n",
    "\n",
    "Please fill out the following details.  \n",
    "- Enter your **full name (as it appears on Canvas)** and **NetID**.  \n",
    "- If you are working in a group (maximum of 4 members), include the **full names and NetIDs** of all your partners.  \n",
    "- If you're working alone, enter `None` for the partner fields.\n",
    "\n",
    "> **Important:** Each student must submit the project individually.  \n",
    "Failure to complete this section may result in your submission being flagged for plagiarism."
   ]
  },
  {
   "cell_type": "code",
   "execution_count": null,
   "id": "85dbbce9-e174-4adc-b6e3-47666d7c9187",
   "metadata": {},
   "outputs": [],
   "source": [
    "# Project: MP6\n",
    "# Student 1: vardaan kapoor, vkapoor5"
   ]
  },
  {
   "cell_type": "markdown",
   "id": "2f380d8e-5d2c-472b-bc56-2618fd1acb7c",
   "metadata": {},
   "source": [
    "## <span style=\"color:red\">Important:</span>\n",
    "\n",
    "* **Before you begin**, make sure to `pull` any changes from GitLab. From the terminal, run:\n",
    "```\n",
    "git checkout main\n",
    "git pull\n",
    "git checkout MP6\n",
    "git merge main\n",
    "```\n",
    "* Follow all instructions carefully. If anything is unclear, attend office hours or post on Piazza.\n",
    "* You may add additional code cells as needed. However, **only cells with `#Q_` in the code will be graded**.\n",
    "* To test, **Restart and Run all Cells** then **save the notebook** and run `python3 tester.py` from the terminal\n",
    "\n",
    "> ⚠️ **Reminders:**\n",
    ">\n",
    "> - Make sure you are on the `MP6` branch by running `git branch` and checking the output.\n",
    "> - Frequently `add`, `commit`, and `push` your code to avoid losing progress.\n"
   ]
  },
  {
   "cell_type": "code",
   "execution_count": 1,
   "id": "3a0df377-dab6-4220-8ba1-5137b4c7782d",
   "metadata": {},
   "outputs": [],
   "source": [
    "# Add additional imports used throughout the project here\n",
    "\n",
    "# these lines automatically reload modules when their code changes\n",
    "%load_ext autoreload\n",
    "%autoreload 2\n",
    "\n",
    "\n"
   ]
  },
  {
   "cell_type": "code",
   "execution_count": 72,
   "id": "b785aaa4-8234-41c5-a869-07c2ee9fa101",
   "metadata": {},
   "outputs": [],
   "source": [
    "import pandas as pd\n",
    "import pickle # used for grading graphs\n",
    "from zipfile import ZipFile\n",
    "from io import TextIOWrapper\n",
    "import numpy as np\n",
    "from edgar_utils import lookup_region"
   ]
  },
  {
   "cell_type": "markdown",
   "id": "3285c3e5-e9ed-411f-8e11-fb5aa4c6db76",
   "metadata": {},
   "source": [
    "# Group Part (75%)\n",
    "\n",
    "For this portion of the machine project, you may collaborate with your group members in any way (including looking at group members' code). You may also seek help from CS 320 course staff (peer mentors, TAs, and the instructor). You **may not** seek or receive help from other CS 320 students (outside of your group) or anybody else outside of the course."
   ]
  },
  {
   "cell_type": "markdown",
   "id": "74e94aa2-409d-49bd-9452-315d25a06bff",
   "metadata": {},
   "source": [
    "## Part 1: `server_log.zip` analysis\n",
    "> 📄 **Work in:** [`mp6.ipynb`](mp6.ipynb)"
   ]
  },
  {
   "cell_type": "code",
   "execution_count": 6,
   "id": "44364298-db8e-4f14-b039-3aa9bedbfd67",
   "metadata": {},
   "outputs": [
    {
     "name": "stdout",
     "output_type": "stream",
     "text": [
      "0    0.0\n",
      "1    0.0\n",
      "2    0.0\n",
      "3    0.0\n",
      "4    0.0\n",
      "Name: zone, dtype: float64\n"
     ]
    }
   ],
   "source": [
    "# Use pandas to read in \"server_log.zip as a csv file\"\n",
    "with ZipFile(\"server_log.zip\") as zf:\n",
    "    with zf.open(\"rows.csv\") as f:\n",
    "        df=pd.read_csv(f)\n",
    "        print(df.head(n=5))"
   ]
  },
  {
   "cell_type": "markdown",
   "id": "158789f6-e360-476f-b9da-0c29864c6e88",
   "metadata": {},
   "source": [
    "### Q1: What's the total size in bytes of the files requested?\n",
    "\n",
    "Look at the `size` column of the CSV in `server_log.zip`.  We want to include duplicates here; this gives us an estimate of the amount of network traffic handled by EDGAR (since this data is only a sample, the true value will be even larger). Answer with an integer. \n",
    "\n",
    "**Note:** If you use `numpy` make sure to cast the final answer to an `int`."
   ]
  },
  {
   "cell_type": "code",
   "execution_count": 13,
   "id": "24e069fd-1aeb-4e7c-ba6b-747562ecbed8",
   "metadata": {},
   "outputs": [
    {
     "data": {
      "text/plain": [
       "24801002666"
      ]
     },
     "execution_count": 13,
     "metadata": {},
     "output_type": "execute_result"
    }
   ],
   "source": [
    "#Q1\n",
    "sizeCol=df[\"size\"]\n",
    "(int)(sizeCol.sum())"
   ]
  },
  {
   "cell_type": "markdown",
   "id": "bffb264a-8b2d-4530-a8a0-ee536b051d9e",
   "metadata": {},
   "source": [
    "### Q2: How many filings have been accessed by the 10 IPs with the most accesses?\n",
    "\n",
    "Answer with a dictionary, with the (anonymized) IP as key and the number of requests seen in the logs as the values. Each row in the logs corresponds to one request. Note that the anonymized IP addresses are consistent between requests.\n",
    "\n",
    "**Hint:** for this question and most of the others expecting dictionary output, it might be easiest to use Pandas operations to process the data into a `Series` and to use the `to_dict()` method. Consider using tools like `groupby`, `apply`, and aggregation methods like `size()`. In Q30-32 from [MP1](../mp1/README.md), there is an example of `apply`.\n"
   ]
  },
  {
   "cell_type": "code",
   "execution_count": 25,
   "id": "b09b960e-7ba4-46a1-86e4-ab2ecaf46e05",
   "metadata": {},
   "outputs": [
    {
     "data": {
      "text/plain": [
       "{'54.152.17.ccg': 12562,\n",
       " '183.195.251.hah': 6524,\n",
       " '52.45.218.ihf': 5562,\n",
       " '68.180.231.abf': 5493,\n",
       " '204.212.175.bch': 4708,\n",
       " '103.238.106.gif': 4428,\n",
       " '208.77.215.jeh': 3903,\n",
       " '208.77.214.jeh': 3806,\n",
       " '217.174.255.dgd': 3551,\n",
       " '82.13.163.caf': 3527}"
      ]
     },
     "execution_count": 25,
     "metadata": {},
     "output_type": "execute_result"
    }
   ],
   "source": [
    "#Q2\n",
    "top10ip=df.groupby(\"ip\").size().sort_values(ascending=False).head(10)\n",
    "top10ip.to_dict()"
   ]
  },
  {
   "cell_type": "code",
   "execution_count": 34,
   "id": "9540b2e7-3996-4c64-bdc3-32974221e9d6",
   "metadata": {},
   "outputs": [],
   "source": [
    "def findErrors():\n",
    "    c=0\n",
    "    for row in df.itertuples():\n",
    "        if(row[8]>400):\n",
    "            c+=1\n",
    "    return c"
   ]
  },
  {
   "cell_type": "markdown",
   "id": "ea4f4d4e-b493-4022-aef4-949bf1ff6434",
   "metadata": {},
   "source": [
    "### Q3: What fraction of the requests had errors?\n",
    "\n",
    "Any request with a status code greater than or equal to 400 has an error. Answer with a floating point number. \n",
    "\n",
    "**Note:** If you use `numpy` make sure to cast the final answer to a `float`."
   ]
  },
  {
   "cell_type": "code",
   "execution_count": 36,
   "id": "1f6c5b24-eca4-41db-a662-6d58b4b1ab75",
   "metadata": {},
   "outputs": [
    {
     "data": {
      "text/plain": [
       "0.03466852724527611"
      ]
     },
     "execution_count": 36,
     "metadata": {},
     "output_type": "execute_result"
    }
   ],
   "source": [
    "#Q3\n",
    "\n",
    "findErrors()/len(df)\n",
    "\n",
    "    "
   ]
  },
  {
   "cell_type": "code",
   "execution_count": 69,
   "id": "5e79d854-500e-41f1-90e9-1e2b4d594944",
   "metadata": {},
   "outputs": [],
   "source": [
    "def createFileFormatting(row):\n",
    "    return \"{}/{}/{}\".format((int)(row[\"cik\"]),row[\"accession\"],row[\"extention\"])\n",
    "    "
   ]
  },
  {
   "cell_type": "markdown",
   "id": "1e31ca2d-e565-4fd9-aa15-db8de1c11f56",
   "metadata": {},
   "source": [
    "### Q4: What is the second most frequently accessed file?\n",
    "\n",
    "Answer with a string formatted like so: \"cik/accession/extention\" (these are the names of columns in \"rows.csv\")."
   ]
  },
  {
   "cell_type": "code",
   "execution_count": 70,
   "id": "5c8d99df-7357-4df0-a490-eac1f7edf4a6",
   "metadata": {},
   "outputs": [],
   "source": [
    "\n",
    "df[\"concatSt\"]=df.apply(createFileFormatting,axis=1)\n"
   ]
  },
  {
   "cell_type": "code",
   "execution_count": 71,
   "id": "ff00547f-c7c1-45c6-a4d2-fac98b83488a",
   "metadata": {},
   "outputs": [
    {
     "data": {
      "text/plain": [
       "'1584509/0001584509-16-000514/armk-20160930_def.xml'"
      ]
     },
     "execution_count": 71,
     "metadata": {},
     "output_type": "execute_result"
    }
   ],
   "source": [
    "#Q4\n",
    "file_counts = df.groupby(\"concatSt\").size().reset_index(name=\"count\")\n",
    "second_file = file_counts.sort_values(\"count\", ascending=False).iloc[1]\n",
    "second_file[\"concatSt\"]"
   ]
  },
  {
   "cell_type": "markdown",
   "id": "5508d262-ab1f-473d-b85b-e78141369fe5",
   "metadata": {},
   "source": [
    "## Part 2: Creating `edgar_utils.py` module\n",
    "> 📄 **Work in:** [`edgar_utils.py`](edgar_utils.py)\n",
    "\n",
    "This part is to be started during [Lab 9](../../labs/Lab9/README.md). Finish the `edgar_utils.py` module now if you didn't have enough time\n",
    "during the scheduled lab."
   ]
  },
  {
   "cell_type": "code",
   "execution_count": 114,
   "id": "e0cf419e-3f05-450c-8d65-87cf8137637e",
   "metadata": {},
   "outputs": [
    {
     "data": {
      "text/plain": [
       "'China'"
      ]
     },
     "execution_count": 114,
     "metadata": {},
     "output_type": "execute_result"
    }
   ],
   "source": [
    "df2=lookup_region(\"101.1.1.abc\")\n",
    "df2"
   ]
  },
  {
   "cell_type": "markdown",
   "id": "de3cd5f6-76b2-4329-b0db-d62dadd4227b",
   "metadata": {},
   "source": [
    "## Part 3: Using `edgar_utils.py` module\n",
    "> 📄 **Work in:** [`mp6.ipynb`](mp6.ipynb)"
   ]
  },
  {
   "cell_type": "markdown",
   "id": "64ebd47b-e0e1-4d4c-a34c-52bacf5a3ae5",
   "metadata": {},
   "source": [
    "### Q5: Which region accesses resources most heavily in `server_log.zip`?\n",
    "\n",
    "Use your `lookup_region` function and answer with a string."
   ]
  },
  {
   "cell_type": "code",
   "execution_count": null,
   "id": "6259e08d-c826-4f67-ad81-0df6410b9a96",
   "metadata": {},
   "outputs": [],
   "source": [
    "#Q5"
   ]
  },
  {
   "cell_type": "markdown",
   "id": "b4f54855-ae79-46f5-b52f-ed0816cffe1a",
   "metadata": {},
   "source": [
    "### Q6: What fraction of IPs in each region are high-volume users?\n",
    "\n",
    "Consider IPs which accessed more than 300 EDGAR resoures to be\n",
    "high-volume. This might indicate machines running automated scraping\n",
    "and analysis tasks.\n",
    "\n",
    "Note that given the sampling done in the data, the true EDGAR usage of\n",
    "these machines is likely to be even heavier.\n",
    "\n",
    "Answer with a dictionary, where the keys are the regions and the\n",
    "values are the fraction (in floating point form) of IPs from that\n",
    "region classified as high-volume.\n",
    "\n",
    "**Example:**\n",
    "\n",
    "Say \"United States of America\" has four IPs:\n",
    "* 1.1.1.1 appears 1200 times in the logs\n",
    "* 2.2.2.2 appears 900 times in the logs\n",
    "* 3.3.3.3 appears 5 times in the logs\n",
    "* 4.4.4.4 appears 234 times in the logs\n",
    "\n",
    "This means that 1/2 of the IPs in the US are high volume, so there should be an entry like this:\n",
    "\n",
    "```\n",
    "{\n",
    "    \"United States of America\": 0.5,\n",
    "    ...\n",
    "}\n",
    "```\n",
    "\n",
    "**Note:** Some of the filings are listed as having a region of '-'. Please include this in your final\n",
    "answer.\n",
    "\n",
    "**Note:** If you use `numpy` make sure to cast dictionary entries to `float`."
   ]
  },
  {
   "cell_type": "code",
   "execution_count": null,
   "id": "5aad5538-a98a-4055-a29d-b89f3acd1b3c",
   "metadata": {},
   "outputs": [],
   "source": [
    "#Q6"
   ]
  },
  {
   "cell_type": "markdown",
   "id": "28ed59a7-99e8-464a-bd63-c950a31b7b5c",
   "metadata": {},
   "source": [
    "### Requirement: `filings` dictionary\n",
    "\n",
    "Read every file ending with .htm or .html in `docs.zip`, and create a `Filing`\n",
    "object based on that file. Then, save that `Filing` object to a dictionary as follows:\n",
    "- **Key:** The filepath for this filing object (ex. `850693/0000850693-07-000159/-index.htm`)\n",
    "- **Value:** The `Filing` object created from this filepath.\n",
    "\n",
    "Creating this dictionary once now will save us from needing to loop over all values\n",
    "in future questions."
   ]
  },
  {
   "cell_type": "code",
   "execution_count": null,
   "id": "49ab834c-ef6b-43ec-acc2-e45ad7920937",
   "metadata": {},
   "outputs": [],
   "source": [
    "# Create `filings` dictionary"
   ]
  },
  {
   "cell_type": "markdown",
   "id": "ad6f28cd-e6b2-44aa-a498-d428222b4006",
   "metadata": {},
   "source": [
    "### Q7: What dates appear in the `886982/0000769993-16-001958/-index.htm` file of `docs.zip`?\n",
    "\n",
    "Read the HTML from this file and use it to create a `Filing` object,\n",
    "from which you can access the `.dates` attribute."
   ]
  },
  {
   "cell_type": "code",
   "execution_count": null,
   "id": "50efdb1f-271e-4136-903a-0bf635a76eb0",
   "metadata": {},
   "outputs": [],
   "source": [
    "#Q7"
   ]
  },
  {
   "cell_type": "markdown",
   "id": "ad2ef0d1-757b-478a-ab71-03e03d6e8abb",
   "metadata": {},
   "source": [
    "### Q8: What is the distribution of states for the filings in `docs.zip`?\n",
    "\n",
    "Answer with a dict, like the following:\n",
    "\n",
    "```\n",
    "{'CA': 92,\n",
    " 'NY': 83,\n",
    " 'TX': 67,\n",
    " 'None': 56,\n",
    " 'MA': 30,\n",
    " 'IL': 25,\n",
    " 'PA': 25,\n",
    " 'CO': 25,\n",
    " ...\n",
    "}\n",
    "```\n",
    "\n",
    "The showing order of each key-value pair doesn't really matter. Please include `None` in the\n",
    "dictionary.\n",
    "\n",
    "**Hint:** We created the `filings` dictionary above, which means we don't have to\n",
    "iterate through `docs.zip` here again!"
   ]
  },
  {
   "cell_type": "code",
   "execution_count": null,
   "id": "40c19918-1879-48c9-862e-a80c4d4b2384",
   "metadata": {},
   "outputs": [],
   "source": [
    "#Q8"
   ]
  },
  {
   "cell_type": "markdown",
   "id": "d7ec61c9-8a25-48f2-9e24-f36cec919fa6",
   "metadata": {},
   "source": [
    "### Q9: What is the distribution for the ten most common addresses for the filings in `docs.zip`?\n",
    "\n",
    "Answer in the same format as the previous question.\n",
    "\n",
    "Expected output:\n",
    "```\n",
    "{'2000 AVENUE OF THE STARS, 12TH FLOOR\\nLOS ANGELES CA 90067': 134,\n",
    " '2000 AVENUE OF THE STARS, 12TH FLOOR\\nLOS ANGELES CA 90067\\n3102014100': 113,\n",
    " '3 LANDMARK SQUARE\\nSUITE 500\\nSTAMFORD CT 06901\\n2033564400': 60,\n",
    " 'C/O KKR ASSET MANAGEMENT LLC\\n555 CALIFORNIA STREET, 50TH FLOOR\\nSAN FRANCISCO CA 94104': 36,\n",
    " 'C/O ARES MANAGEMENT LLC\\n2000 AVENUE OF THE STARS, 12TH FLOOR\\nLOS ANGELES CA 90067': 35,\n",
    " '4740 AGAR DRIVE\\nRICHMOND A1 V7B 1A3': 25,\n",
    " 'CENTRALIS S.A., 8-10 AVENUE DE LA GARE\\nLUXEMBOURG N4 L-1610': 25,\n",
    " 'CENTRALIS S.A., 8-10 AVENUE DE LA GARE\\nLUXEMBOURG N4 L-1610\\n352-26-186-1': 25,\n",
    " '3 LANDMARK SQUARE\\nSUITE 500\\nSTAMFORD CT 06901': 24,\n",
    " '801 CHERRY STREET\\nSUITE 2100\\nFORT WORTH TX 76102': 22}\n",
    "```"
   ]
  },
  {
   "cell_type": "code",
   "execution_count": null,
   "id": "d5cb2932-6e96-4747-ba84-09b795be5419",
   "metadata": {},
   "outputs": [],
   "source": [
    "#Q9"
   ]
  },
  {
   "cell_type": "markdown",
   "id": "795ed8ab-a980-4040-8e74-bfbf853ed378",
   "metadata": {},
   "source": [
    "# Individual Part (25%)\n",
    "\n",
    "For this portion of the machine project, you are only allowed to seek help from CS 320 course staff (peer mentors, TAs, and the instructor). You **may not** receive help from anyone else."
   ]
  },
  {
   "cell_type": "markdown",
   "id": "68d94198-5f35-4463-accd-8170062b3c86",
   "metadata": {},
   "source": [
    "## Part 4: Combining logs with documents\n",
    "> 📄 **Work in:** [`mp6.ipynb`](mp6.ipynb)"
   ]
  },
  {
   "cell_type": "markdown",
   "id": "a07046cb-3f50-4dca-ac32-03be88e0b607",
   "metadata": {},
   "source": [
    "### Q10: What is the distribution of requests across industries?\n",
    "\n",
    "For each request in the logs that has a corresponding filing in\n",
    "`docs.zip`, lookup the SIC (ignore rows in the logs which refer to\n",
    "pages not in `docs.zip`).\n",
    "\n",
    "Answer with a dictionary, where the keys are the SIC and the values\n",
    "are the number of times the resources of that industry were accessed.\n",
    "\n",
    "If you're curious, consider looking up the industry names for the top\n",
    "couple categories:\n",
    "https://www.sec.gov/corpfin/division-of-corporation-finance-standard-industrial-classification-sic-code-list\n",
    "\n",
    "Expected output:\n",
    "\n",
    "```\n",
    "{2834: 984,\n",
    " 1389: 656,\n",
    " 1311: 550,\n",
    " 2836: 429,\n",
    " 6022: 379,\n",
    " 1000: 273,\n",
    " ...\n",
    " }\n",
    " ```"
   ]
  },
  {
   "cell_type": "code",
   "execution_count": null,
   "id": "6cd5d2ab-5a12-439a-a31a-5165dc0fc34f",
   "metadata": {},
   "outputs": [],
   "source": [
    "#Q10"
   ]
  },
  {
   "cell_type": "markdown",
   "id": "37eb925c-737d-40c7-8a6d-6784d55afffb",
   "metadata": {},
   "source": [
    "\n",
    "### Q11: How many requests were made in each hour?\n",
    "\n",
    "Use `pd.to_datetime` (the `hour` attributes of the converted\n",
    "timestamps may be useful) or string manipulation to process the `time`\n",
    "column. Answer with a dictionary, where the keys are integers from 0\n",
    "to 23 representing the hour of the day, and the values are the number\n",
    "of requests made in that hour."
   ]
  },
  {
   "cell_type": "code",
   "execution_count": null,
   "id": "3904c452-b3b0-45dd-b85b-715e964ae766",
   "metadata": {},
   "outputs": [],
   "source": [
    "#Q11"
   ]
  },
  {
   "cell_type": "markdown",
   "id": "35944626-abbf-4ebb-bf48-5d923d57d857",
   "metadata": {},
   "source": [
    "### Q12: What is the geographic overlap in interest between Australia, France, Indonesia, and Viet Nam?\n",
    "\n",
    "Answer with a Digraph like the following:\n",
    "\n",
    "<img src=\"img/digraph.png\" width=400>\n",
    "\n",
    "In addition to a node for each of these three countries, there should\n",
    "be a node for each state having a filing accessed by somebody in one\n",
    "of these countries.\n",
    "\n",
    "An edge from a country to a state means somebody in that country\n",
    "looked at least one filing for a company in that state.\n",
    "\n",
    "**Important:** Make sure not to hardcode these values. It might be helpful to\n",
    "define a list like `countries = [\"Australia\", \"France\", \"Indonesia\", \"Viet Nam\"]` and then loop over the filings for these countries only."
   ]
  },
  {
   "cell_type": "code",
   "execution_count": null,
   "id": "a96b83e9-c913-48c5-8003-aa366a40a8d3",
   "metadata": {},
   "outputs": [],
   "source": [
    "#Q12\n",
    "d = graphviz.Digraph()\n",
    "\n",
    "# ADD CODE HERE\n",
    "\n",
    "# IMPORTANT -- Do not remove -- \n",
    "with open(\"Q12.pkl\", \"wb\") as f:\n",
    "    pickle.dump(d.source, f)\n",
    "\n",
    "d"
   ]
  },
  {
   "cell_type": "markdown",
   "id": "6dd23612-fb92-4a5b-a8c4-cbb56a21f4f8",
   "metadata": {},
   "source": [
    "### Q13: Geographic Plotting of Postal Codes\n",
    "\n",
    "In this question, you will plot geographic data from `locations.geojson` over a background map from the shapefile `\"shapes/cb_2018_us_state_20m.shp\"`. Each point represents an address and should be colored by its **postal code**.\n",
    "\n",
    "Follow the instructions **carefully**, as this question involves geospatial data manipulation that is sensitive to the order of operations.\n",
    "\n",
    "**Required Steps:**\n",
    "\n",
    "1. Extract ZIP codes from the address column:\n",
    "   - Use a regular expression to extract the **5-digit** ZIP code from the address string.\n",
    "   - Ignore entries with missing or malformed ZIP codes.\n",
    "   - If a ZIP code has a state and then the code, make sure to only take the 5 digit code. For example, only use `93821` in `CA 93821`.\n",
    "\n",
    "2. Filter valid ZIP codes:\n",
    "   - Only keep rows where the ZIP code is a number between **10000** and **60000**.\n",
    "\n",
    "3. Crop the data to a specific bounding box (do this **before** projecting):\n",
    "   - Define the bounding box:  \n",
    "     `west = -90`, `east = -65`, `south = 25`, `north = 50`\n",
    "   - Use `shapely.geometry.box(west, south, east, north)` to create a bounding box and either `.intersection()` to crop the background or `.intersects()` to filter the data points.\n",
    "\n",
    "4. Project to Mercator (\"epsg:2022\"):\n",
    "   - After filtering, apply `.to_crs(\"epsg:2022\")` **to both** the background and the locations.\n",
    "\n",
    "5. Plot:\n",
    "   - Use `.plot(ax=ax)` and be sure to **pass the same `ax` object** to both the background and the points.\n",
    "   - Set:\n",
    "     - Background color to `\"lightgray\"`\n",
    "     - Point colors using the `\"viridis\"` colormap\n",
    "     - Color of each point should represent the ZIP code using `column=\"zipcode\"` in `.plot(...)`.\n",
    "     - Add a colorbar with `legend=True`\n",
    "     - Remove axis labels with `ax.set_axis_off()`\n",
    "\n",
    "The result should look similar to this:\n",
    "\n",
    "<img src=\"img/geo.png\" width=\"400px\">\n",
    "\n",
    "**Hints:**\n",
    "\n",
    "- **Do not project before filtering or intersecting with the bounding box.** Always crop in latitude/longitude (the original coordinate system) first.\n",
    "- Use `re.findall(regex, address)` to extract ZIP codes.\n",
    "- Clean the data **before** plotting.\n",
    "- If your map looks distorted or blank, double-check that you projected **after** cropping and used the correct EPSG code.\n",
    "- Double-check the ZIP code range: it must be between 10000 and 60000.\n",
    "- Use `legend=True` for the colorbar.\n"
   ]
  },
  {
   "cell_type": "code",
   "execution_count": null,
   "id": "f33e3db0-1c1c-48af-9b39-5431cf9ee857",
   "metadata": {},
   "outputs": [],
   "source": [
    "west = -90\n",
    "east = -65\n",
    "north = 50\n",
    "south = 25"
   ]
  },
  {
   "cell_type": "code",
   "execution_count": null,
   "id": "9266c11c-2bc9-4882-943d-92dcb280fd5d",
   "metadata": {},
   "outputs": [],
   "source": [
    "#Q13\n",
    "\n",
    "# ADD CODE HERE\n",
    "\n",
    "# Create the plot\n",
    "fig, ax = plt.subplots()\n",
    "\n",
    "# PLOT HERE\n",
    "\n",
    "# IMPORTANT -- Do not remove -- \n",
    "with open(\"Q13.pkl\", \"wb\") as f:\n",
    "    pickle.dump(fig, f)\n",
    "\n",
    "plt.show()"
   ]
  },
  {
   "cell_type": "markdown",
   "id": "d0105d17-9fcb-4ae3-a653-8ee85f2cbb67",
   "metadata": {
    "jp-MarkdownHeadingCollapsed": true
   },
   "source": [
    "## <span style=\"color:red\">Important:</span>\n",
    "Make sure to follow these steps to submit the project\n",
    "1. **Kernel > Restart Kernel and Run All Cells** and then save the notebook\n",
    "2. Run `tester.py` to check your answers\n",
    "3. Run the following commands from the terminal:\n",
    "```\n",
    "git status # make sure you are in the correct branch\n",
    "git add <required files>\n",
    "git commit -m \"Some message\"\n",
    "git push\n",
    "```\n",
    "4. Once you've pushed your project to GitLab, **verify that the pipeline ran successfully**.\n",
    "    * Build > Jobs > Select the latest commit hash > Check tester output\n",
    "5. Create a **_merge request_** to submit the project\n",
    "    * Code > Merge requests > New merge request"
   ]
  }
 ],
 "metadata": {
  "kernelspec": {
   "display_name": "Python 3 (ipykernel)",
   "language": "python",
   "name": "python3"
  },
  "language_info": {
   "codemirror_mode": {
    "name": "ipython",
    "version": 3
   },
   "file_extension": ".py",
   "mimetype": "text/x-python",
   "name": "python",
   "nbconvert_exporter": "python",
   "pygments_lexer": "ipython3",
   "version": "3.10.12"
  }
 },
 "nbformat": 4,
 "nbformat_minor": 5
}
