{
 "cells": [
  {
   "cell_type": "markdown",
   "id": "4363f7e0-a654-4df1-ad89-67a1fff8825c",
   "metadata": {},
   "source": [
    "# Machine Project 6: EDGAR Web Logs"
   ]
  },
  {
   "cell_type": "markdown",
   "id": "6161d8f0-39c8-4107-b38d-99dc7f3fd4f3",
   "metadata": {},
   "source": [
    "#### <span style=\"color:red\">Make sure to read the [README](README.md) before starting this project</span>"
   ]
  },
  {
   "cell_type": "markdown",
   "id": "0bd91055-51ee-4d92-bb36-19f408572cab",
   "metadata": {},
   "source": [
    "## Required Information\n",
    "\n",
    "Please fill out the following details.  \n",
    "- Enter your **full name (as it appears on Canvas)** and **NetID**.  \n",
    "- If you are working in a group (maximum of 4 members), include the **full names and NetIDs** of all your partners.  \n",
    "- If you're working alone, enter `None` for the partner fields.\n",
    "\n",
    "> **Important:** Each student must submit the project individually.  \n",
    "Failure to complete this section may result in your submission being flagged for plagiarism."
   ]
  },
  {
   "cell_type": "code",
   "execution_count": 1,
   "id": "85dbbce9-e174-4adc-b6e3-47666d7c9187",
   "metadata": {},
   "outputs": [],
   "source": [
    "# Project: MP6\n",
    "# Student 1: vardaan kapoor, vkapoor5"
   ]
  },
  {
   "cell_type": "markdown",
   "id": "2f380d8e-5d2c-472b-bc56-2618fd1acb7c",
   "metadata": {},
   "source": [
    "## <span style=\"color:red\">Important:</span>\n",
    "\n",
    "* **Before you begin**, make sure to `pull` any changes from GitLab. From the terminal, run:\n",
    "```\n",
    "git checkout main\n",
    "git pull\n",
    "git checkout MP6\n",
    "git merge main\n",
    "```\n",
    "* Follow all instructions carefully. If anything is unclear, attend office hours or post on Piazza.\n",
    "* You may add additional code cells as needed. However, **only cells with `#Q_` in the code will be graded**.\n",
    "* To test, **Restart and Run all Cells** then **save the notebook** and run `python3 tester.py` from the terminal\n",
    "\n",
    "> ⚠️ **Reminders:**\n",
    ">\n",
    "> - Make sure you are on the `MP6` branch by running `git branch` and checking the output.\n",
    "> - Frequently `add`, `commit`, and `push` your code to avoid losing progress.\n"
   ]
  },
  {
   "cell_type": "code",
   "execution_count": 2,
   "id": "3a0df377-dab6-4220-8ba1-5137b4c7782d",
   "metadata": {},
   "outputs": [],
   "source": [
    "# Add additional imports used throughout the project here\n",
    "\n",
    "# these lines automatically reload modules when their code changes\n",
    "%load_ext autoreload\n",
    "%autoreload 2\n",
    "\n",
    "\n"
   ]
  },
  {
   "cell_type": "code",
   "execution_count": 3,
   "id": "b785aaa4-8234-41c5-a869-07c2ee9fa101",
   "metadata": {},
   "outputs": [],
   "source": [
    "import pandas as pd\n",
    "import re\n",
    "import matplotlib.pyplot as plt\n",
    "import geopandas as gpd\n",
    "from shapely.geometry import Point\n",
    "import graphviz\n",
    "import pickle # used for grading graphs\n",
    "from zipfile import ZipFile\n",
    "import zipfile\n",
    "from io import TextIOWrapper\n",
    "import numpy as np\n",
    "from edgar_utils import lookup_region\n",
    "from subprocess import check_output\n",
    "from collections import defaultdict"
   ]
  },
  {
   "cell_type": "markdown",
   "id": "3285c3e5-e9ed-411f-8e11-fb5aa4c6db76",
   "metadata": {},
   "source": [
    "# Group Part (75%)\n",
    "\n",
    "For this portion of the machine project, you may collaborate with your group members in any way (including looking at group members' code). You may also seek help from CS 320 course staff (peer mentors, TAs, and the instructor). You **may not** seek or receive help from other CS 320 students (outside of your group) or anybody else outside of the course."
   ]
  },
  {
   "cell_type": "markdown",
   "id": "74e94aa2-409d-49bd-9452-315d25a06bff",
   "metadata": {},
   "source": [
    "## Part 1: `server_log.zip` analysis\n",
    "> 📄 **Work in:** [`mp6.ipynb`](mp6.ipynb)"
   ]
  },
  {
   "cell_type": "code",
   "execution_count": 4,
   "id": "44364298-db8e-4f14-b039-3aa9bedbfd67",
   "metadata": {},
   "outputs": [
    {
     "name": "stdout",
     "output_type": "stream",
     "text": [
      "               ip        date      time  zone        cik  \\\n",
      "0  104.197.32.ihd  2017-01-01  00:00:00   0.0  1111711.0   \n",
      "1  208.77.214.jeh  2017-01-01  00:00:00   0.0   789019.0   \n",
      "2  54.197.228.dbe  2017-01-01  00:00:00   0.0   800166.0   \n",
      "3  108.39.205.jga  2017-01-01  00:00:01   0.0   354950.0   \n",
      "4   52.45.218.ihf  2017-01-01  00:00:01   0.0  1313918.0   \n",
      "\n",
      "              accession   extention   code     size  idx  norefer  noagent  \\\n",
      "0  0001193125-12-324016  -index.htm  200.0   7627.0  1.0      0.0      0.0   \n",
      "1  0001193125-06-031505        .txt  200.0  46327.0  0.0      0.0      0.0   \n",
      "2  0001279569-16-003038  -index.htm  200.0  16414.0  1.0      0.0      0.0   \n",
      "3  0000950123-09-011236  -index.htm  200.0   8718.0  1.0      0.0      0.0   \n",
      "4  0001209191-06-031555        .txt  200.0   8911.0  0.0      0.0      0.0   \n",
      "\n",
      "   find  crawler  browser  \n",
      "0  10.0      0.0      NaN  \n",
      "1  10.0      0.0      NaN  \n",
      "2  10.0      0.0      NaN  \n",
      "3  10.0      0.0      NaN  \n",
      "4  10.0      0.0      NaN  \n"
     ]
    }
   ],
   "source": [
    "# Use pandas to read in \"server_log.zip as a csv file\"\n",
    "with ZipFile(\"server_log.zip\") as zf:\n",
    "    with zf.open(\"rows.csv\") as f:\n",
    "        df=pd.read_csv(f)\n",
    "        print(df.head(n=5))"
   ]
  },
  {
   "cell_type": "markdown",
   "id": "158789f6-e360-476f-b9da-0c29864c6e88",
   "metadata": {},
   "source": [
    "### Q1: What's the total size in bytes of the files requested?\n",
    "\n",
    "Look at the `size` column of the CSV in `server_log.zip`.  We want to include duplicates here; this gives us an estimate of the amount of network traffic handled by EDGAR (since this data is only a sample, the true value will be even larger). Answer with an integer. \n",
    "\n",
    "**Note:** If you use `numpy` make sure to cast the final answer to an `int`."
   ]
  },
  {
   "cell_type": "code",
   "execution_count": 5,
   "id": "24e069fd-1aeb-4e7c-ba6b-747562ecbed8",
   "metadata": {},
   "outputs": [
    {
     "data": {
      "text/plain": [
       "24801002666"
      ]
     },
     "execution_count": 5,
     "metadata": {},
     "output_type": "execute_result"
    }
   ],
   "source": [
    "#Q1\n",
    "sizeCol=df[\"size\"]\n",
    "(int)(sizeCol.sum())"
   ]
  },
  {
   "cell_type": "markdown",
   "id": "bffb264a-8b2d-4530-a8a0-ee536b051d9e",
   "metadata": {},
   "source": [
    "### Q2: How many filings have been accessed by the 10 IPs with the most accesses?\n",
    "\n",
    "Answer with a dictionary, with the (anonymized) IP as key and the number of requests seen in the logs as the values. Each row in the logs corresponds to one request. Note that the anonymized IP addresses are consistent between requests.\n",
    "\n",
    "**Hint:** for this question and most of the others expecting dictionary output, it might be easiest to use Pandas operations to process the data into a `Series` and to use the `to_dict()` method. Consider using tools like `groupby`, `apply`, and aggregation methods like `size()`. In Q30-32 from [MP1](../mp1/README.md), there is an example of `apply`.\n"
   ]
  },
  {
   "cell_type": "code",
   "execution_count": 6,
   "id": "b09b960e-7ba4-46a1-86e4-ab2ecaf46e05",
   "metadata": {},
   "outputs": [
    {
     "data": {
      "text/plain": [
       "{'54.152.17.ccg': 12562,\n",
       " '183.195.251.hah': 6524,\n",
       " '52.45.218.ihf': 5562,\n",
       " '68.180.231.abf': 5493,\n",
       " '204.212.175.bch': 4708,\n",
       " '103.238.106.gif': 4428,\n",
       " '208.77.215.jeh': 3903,\n",
       " '208.77.214.jeh': 3806,\n",
       " '217.174.255.dgd': 3551,\n",
       " '82.13.163.caf': 3527}"
      ]
     },
     "execution_count": 6,
     "metadata": {},
     "output_type": "execute_result"
    }
   ],
   "source": [
    "#Q2\n",
    "top10ip=df.groupby(\"ip\").size().sort_values(ascending=False).head(10)\n",
    "top10ip.to_dict()"
   ]
  },
  {
   "cell_type": "code",
   "execution_count": 7,
   "id": "9540b2e7-3996-4c64-bdc3-32974221e9d6",
   "metadata": {},
   "outputs": [],
   "source": [
    "def findErrors():\n",
    "    c=0\n",
    "    for row in df.itertuples():\n",
    "        if(row[8]>400):\n",
    "            c+=1\n",
    "    return c"
   ]
  },
  {
   "cell_type": "markdown",
   "id": "ea4f4d4e-b493-4022-aef4-949bf1ff6434",
   "metadata": {},
   "source": [
    "### Q3: What fraction of the requests had errors?\n",
    "\n",
    "Any request with a status code greater than or equal to 400 has an error. Answer with a floating point number. \n",
    "\n",
    "**Note:** If you use `numpy` make sure to cast the final answer to a `float`."
   ]
  },
  {
   "cell_type": "code",
   "execution_count": 8,
   "id": "1f6c5b24-eca4-41db-a662-6d58b4b1ab75",
   "metadata": {},
   "outputs": [
    {
     "data": {
      "text/plain": [
       "0.03466852724527611"
      ]
     },
     "execution_count": 8,
     "metadata": {},
     "output_type": "execute_result"
    }
   ],
   "source": [
    "#Q3\n",
    "\n",
    "findErrors()/len(df)\n",
    "\n",
    "    "
   ]
  },
  {
   "cell_type": "code",
   "execution_count": 9,
   "id": "5e79d854-500e-41f1-90e9-1e2b4d594944",
   "metadata": {},
   "outputs": [],
   "source": [
    "def createFileFormatting(row):\n",
    "    return \"{}/{}/{}\".format((int)(row[\"cik\"]),row[\"accession\"],row[\"extention\"])\n",
    "\n",
    "    "
   ]
  },
  {
   "cell_type": "markdown",
   "id": "1e31ca2d-e565-4fd9-aa15-db8de1c11f56",
   "metadata": {},
   "source": [
    "### Q4: What is the second most frequently accessed file?\n",
    "\n",
    "Answer with a string formatted like so: \"cik/accession/extention\" (these are the names of columns in \"rows.csv\")."
   ]
  },
  {
   "cell_type": "code",
   "execution_count": 10,
   "id": "5c8d99df-7357-4df0-a490-eac1f7edf4a6",
   "metadata": {},
   "outputs": [],
   "source": [
    "\n",
    "df[\"concatSt\"]=df.apply(createFileFormatting,axis=1)\n"
   ]
  },
  {
   "cell_type": "code",
   "execution_count": 11,
   "id": "ff00547f-c7c1-45c6-a4d2-fac98b83488a",
   "metadata": {},
   "outputs": [
    {
     "data": {
      "text/plain": [
       "'1584509/0001584509-16-000514/armk-20160930_def.xml'"
      ]
     },
     "execution_count": 11,
     "metadata": {},
     "output_type": "execute_result"
    }
   ],
   "source": [
    "#Q4\n",
    "file_counts = df.groupby(\"concatSt\").size().reset_index(name=\"count\")\n",
    "second_file = file_counts.sort_values(\"count\", ascending=False).iloc[1]\n",
    "second_file[\"concatSt\"]"
   ]
  },
  {
   "cell_type": "code",
   "execution_count": 12,
   "id": "2fff59c1-8878-49ed-879c-99a656a7fd55",
   "metadata": {},
   "outputs": [],
   "source": [
    "sampledf = df\n",
    "sampledf['cik'] = sampledf['cik'].astype(int)\n"
   ]
  },
  {
   "cell_type": "markdown",
   "id": "5508d262-ab1f-473d-b85b-e78141369fe5",
   "metadata": {},
   "source": [
    "## Part 2: Creating `edgar_utils.py` module\n",
    "> 📄 **Work in:** [`edgar_utils.py`](edgar_utils.py)\n",
    "\n",
    "This part is to be started during [Lab 9](../../labs/Lab9/README.md). Finish the `edgar_utils.py` module now if you didn't have enough time\n",
    "during the scheduled lab."
   ]
  },
  {
   "cell_type": "markdown",
   "id": "de3cd5f6-76b2-4329-b0db-d62dadd4227b",
   "metadata": {},
   "source": [
    "## Part 3: Using `edgar_utils.py` module\n",
    "> 📄 **Work in:** [`mp6.ipynb`](mp6.ipynb)"
   ]
  },
  {
   "cell_type": "code",
   "execution_count": 13,
   "id": "8e339277-dc7d-4ed6-aa89-a0b2ba08e23f",
   "metadata": {},
   "outputs": [],
   "source": [
    "from edgar_utils import Filing"
   ]
  },
  {
   "cell_type": "code",
   "execution_count": 14,
   "id": "ca274bc4-ee61-4fea-a738-899325cbfd75",
   "metadata": {},
   "outputs": [
    {
     "name": "stderr",
     "output_type": "stream",
     "text": [
      "/home/varda/labs-and-projects/projects/mp6/edgar_utils.py:13: FutureWarning: Series.__getitem__ treating keys as positions is deprecated. In a future version, integer keys will always be treated as labels (consistent with DataFrame behavior). To access a value by position, use `ser.iloc[pos]`\n",
      "  return df.iloc[index-1][3]\n"
     ]
    }
   ],
   "source": [
    "sampledf['region'] = sampledf['ip'].apply(lookup_region)"
   ]
  },
  {
   "cell_type": "markdown",
   "id": "64ebd47b-e0e1-4d4c-a34c-52bacf5a3ae5",
   "metadata": {},
   "source": [
    "### Q5: Which region accesses resources most heavily in `server_log.zip`?\n",
    "\n",
    "Use your `lookup_region` function and answer with a string."
   ]
  },
  {
   "cell_type": "code",
   "execution_count": 15,
   "id": "244dafe5-8c43-461e-9fe1-05c320a8b48c",
   "metadata": {},
   "outputs": [],
   "source": [
    " def getSortedCountries(df):\n",
    "        countriesList={}\n",
    "        for row in df.itertuples():\n",
    "            countryName=lookup_region(row[1])\n",
    "            if(countryName in countriesList):\n",
    "                countriesList[countryName]+=1\n",
    "            else:\n",
    "                countriesList[countryName]=1\n",
    "        return countriesList\n",
    "    "
   ]
  },
  {
   "cell_type": "code",
   "execution_count": 16,
   "id": "6259e08d-c826-4f67-ad81-0df6410b9a96",
   "metadata": {},
   "outputs": [
    {
     "name": "stderr",
     "output_type": "stream",
     "text": [
      "/home/varda/labs-and-projects/projects/mp6/edgar_utils.py:13: FutureWarning: Series.__getitem__ treating keys as positions is deprecated. In a future version, integer keys will always be treated as labels (consistent with DataFrame behavior). To access a value by position, use `ser.iloc[pos]`\n",
      "  return df.iloc[index-1][3]\n"
     ]
    }
   ],
   "source": [
    "\n",
    "countriesList=getSortedCountries(df)"
   ]
  },
  {
   "cell_type": "code",
   "execution_count": 17,
   "id": "9d471c2b-e132-4781-b1cb-bbb76bb22e19",
   "metadata": {},
   "outputs": [
    {
     "data": {
      "text/plain": [
       "'United States of America'"
      ]
     },
     "execution_count": 17,
     "metadata": {},
     "output_type": "execute_result"
    }
   ],
   "source": [
    "#Q5\n",
    "sorted_items = sorted(countriesList.items(), key=lambda item: item[1], reverse=True)\n",
    "sorted_items[0][0]"
   ]
  },
  {
   "cell_type": "markdown",
   "id": "b4f54855-ae79-46f5-b52f-ed0816cffe1a",
   "metadata": {},
   "source": [
    "### Q6: What fraction of IPs in each region are high-volume users?\n",
    "\n",
    "Consider IPs which accessed more than 300 EDGAR resoures to be\n",
    "high-volume. This might indicate machines running automated scraping\n",
    "and analysis tasks.\n",
    "\n",
    "Note that given the sampling done in the data, the true EDGAR usage of\n",
    "these machines is likely to be even heavier.\n",
    "\n",
    "Answer with a dictionary, where the keys are the regions and the\n",
    "values are the fraction (in floating point form) of IPs from that\n",
    "region classified as high-volume.\n",
    "\n",
    "**Example:**\n",
    "\n",
    "Say \"United States of America\" has four IPs:\n",
    "* 1.1.1.1 appears 1200 times in the logs\n",
    "* 2.2.2.2 appears 900 times in the logs\n",
    "* 3.3.3.3 appears 5 times in the logs\n",
    "* 4.4.4.4 appears 234 times in the logs\n",
    "\n",
    "This means that 1/2 of the IPs in the US are high volume, so there should be an entry like this:\n",
    "\n",
    "```\n",
    "{\n",
    "    \"United States of America\": 0.5,\n",
    "    ...\n",
    "}\n",
    "```\n",
    "\n",
    "**Note:** Some of the filings are listed as having a region of '-'. Please include this in your final\n",
    "answer.\n",
    "\n",
    "**Note:** If you use `numpy` make sure to cast dictionary entries to `float`."
   ]
  },
  {
   "cell_type": "code",
   "execution_count": 18,
   "id": "e0c46915-6fad-4052-ac9d-31927187580e",
   "metadata": {},
   "outputs": [],
   "source": [
    " def getSortedIP(df):\n",
    "        ipList={}\n",
    "        countriesList={}\n",
    "        countriesTotal={}\n",
    "        for row in df.itertuples():\n",
    "            ip=row[1]\n",
    "            if(ip in ipList):\n",
    "                ipList[ip]+=1\n",
    "            else:\n",
    "                ipList[ip]=1\n",
    "        for key,value in ipList.items():\n",
    "            country=lookup_region(key)\n",
    "            if country in countriesTotal:\n",
    "                countriesTotal[country]+=1\n",
    "            else:\n",
    "                countriesTotal[country]=1\n",
    "            if value>300:\n",
    "                if country in countriesList:\n",
    "                    countriesList[country]+=1\n",
    "                else:\n",
    "                    countriesList[country]=1\n",
    "                    \n",
    "        return (countriesList,countriesTotal)"
   ]
  },
  {
   "cell_type": "code",
   "execution_count": 19,
   "id": "bdc9a6b0-8ada-4ac4-9caa-52bc868c22bd",
   "metadata": {},
   "outputs": [],
   "source": [
    "cl,ct=getSortedIP(df)"
   ]
  },
  {
   "cell_type": "code",
   "execution_count": 20,
   "id": "5aad5538-a98a-4055-a29d-b89f3acd1b3c",
   "metadata": {},
   "outputs": [
    {
     "data": {
      "text/plain": [
       "{'United States of America': 0.04889228418640183,\n",
       " 'China': 0.016018306636155607,\n",
       " 'Hong Kong': 0.037037037037037035,\n",
       " 'Ireland': 0.625,\n",
       " 'Canada': 0.05357142857142857,\n",
       " 'United Kingdom of Great Britain and Northern Ireland': 0.08888888888888889,\n",
       " 'Czechia': 0.3333333333333333,\n",
       " 'Germany': 0.047619047619047616,\n",
       " 'Bulgaria': 0.3333333333333333,\n",
       " 'France': 0.0036900369003690036,\n",
       " 'India': 0.08823529411764706,\n",
       " 'Korea (Republic of)': 0.2,\n",
       " 'Australia': 0.07692307692307693,\n",
       " 'Spain': 0.0,\n",
       " 'Netherlands': 0.0,\n",
       " 'Sweden': 0.0,\n",
       " 'Sudan': 0.0,\n",
       " 'Estonia': 0.0,\n",
       " 'Russian Federation': 0.0,\n",
       " 'Tanzania, United Republic of': 0.0,\n",
       " 'Yemen': 0.0,\n",
       " 'Algeria': 0.0,\n",
       " 'Ukraine': 0.0,\n",
       " 'Slovakia': 0.0,\n",
       " 'Viet Nam': 0.0,\n",
       " 'Denmark': 0.0,\n",
       " 'Singapore': 0.0,\n",
       " 'Switzerland': 0.0,\n",
       " 'Thailand': 0.0,\n",
       " 'South Africa': 0.0,\n",
       " 'Italy': 0.0,\n",
       " 'Poland': 0.0,\n",
       " 'Taiwan (Province of China)': 0.0,\n",
       " 'Brazil': 0.0,\n",
       " 'Morocco': 0.0,\n",
       " 'Malaysia': 0.0,\n",
       " 'Hungary': 0.0,\n",
       " 'Japan': 0.0,\n",
       " 'Luxembourg': 0.0,\n",
       " 'Romania': 0.0,\n",
       " 'Liberia': 0.0,\n",
       " 'Israel': 0.0,\n",
       " 'Bangladesh': 0.0,\n",
       " 'Austria': 0.0,\n",
       " 'Indonesia': 0.0,\n",
       " 'Saudi Arabia': 0.0,\n",
       " 'Armenia': 0.0,\n",
       " 'Philippines': 0.0,\n",
       " 'Egypt': 0.0,\n",
       " 'Iraq': 0.0,\n",
       " 'North Macedonia': 0.0,\n",
       " 'Slovenia': 0.0,\n",
       " 'Finland': 0.0,\n",
       " '-': 0.0,\n",
       " 'Croatia': 0.0,\n",
       " 'Portugal': 0.0,\n",
       " 'Latvia': 0.0,\n",
       " 'Syrian Arab Republic': 0.0,\n",
       " 'Lebanon': 0.0,\n",
       " 'Mongolia': 0.0,\n",
       " 'Cyprus': 0.0,\n",
       " 'Virgin Islands (British)': 0.0,\n",
       " 'Pakistan': 0.0,\n",
       " 'Greece': 0.0,\n",
       " 'Honduras': 0.0,\n",
       " 'Turkey': 0.0,\n",
       " 'Nigeria': 0.0,\n",
       " 'Jordan': 0.0,\n",
       " 'Angola': 0.0,\n",
       " 'Mexico': 0.0,\n",
       " 'Jersey': 0.0,\n",
       " 'Venezuela (Bolivarian Republic of)': 0.0}"
      ]
     },
     "execution_count": 20,
     "metadata": {},
     "output_type": "execute_result"
    }
   ],
   "source": [
    "#Q6\n",
    "listCountries={}\n",
    "keysCL=cl.keys()\n",
    "for key,value in ct.items():\n",
    "    if key not in keysCL:\n",
    "        listCountries[key]=0.0\n",
    "    else:\n",
    "        listCountries[key]=cl[key]/ct[key]\n",
    "listCountries"
   ]
  },
  {
   "cell_type": "markdown",
   "id": "28ed59a7-99e8-464a-bd63-c950a31b7b5c",
   "metadata": {},
   "source": [
    "### Requirement: `filings` dictionary\n",
    "\n",
    "Read every file ending with .htm or .html in `docs.zip`, and create a `Filing`\n",
    "object based on that file. Then, save that `Filing` object to a dictionary as follows:\n",
    "- **Key:** The filepath for this filing object (ex. `850693/0000850693-07-000159/-index.htm`)\n",
    "- **Value:** The `Filing` object created from this filepath.\n",
    "\n",
    "Creating this dictionary once now will save us from needing to loop over all values\n",
    "in future questions."
   ]
  },
  {
   "cell_type": "code",
   "execution_count": 21,
   "id": "1193dd37-9249-4a00-b87c-00e9062f4c9e",
   "metadata": {},
   "outputs": [],
   "source": [
    "l=str(check_output([\"unzip\",\"-l\",\"docs.zip\"]),encoding=\"utf-8\")"
   ]
  },
  {
   "cell_type": "code",
   "execution_count": 22,
   "id": "d86b1b4e-2692-4803-b95a-f17cf986205d",
   "metadata": {},
   "outputs": [],
   "source": [
    "def createFilingsDict(fileName):\n",
    "    filingsDict={}\n",
    "    c=0\n",
    "    with ZipFile(fileName) as zf:\n",
    "        for line in l.splitlines():\n",
    "            if(line.endswith(\".htm\") or line.endswith(\".html\")):\n",
    "                path=line.split(\" \")[-1]\n",
    "                with zf.open(path) as f:\n",
    "                    contents=str(f.read())\n",
    "                    fileObj=Filing(contents)\n",
    "                    filingsDict[path]=fileObj\n",
    "    return filingsDict\n",
    "            \n",
    "            "
   ]
  },
  {
   "cell_type": "code",
   "execution_count": 23,
   "id": "49ab834c-ef6b-43ec-acc2-e45ad7920937",
   "metadata": {},
   "outputs": [],
   "source": [
    "# Create `filings` dictionary\n",
    "filDict=createFilingsDict(\"docs.zip\")"
   ]
  },
  {
   "cell_type": "code",
   "execution_count": 24,
   "id": "88f14020-d913-4045-a2bd-3fdb6006ff9b",
   "metadata": {},
   "outputs": [],
   "source": [
    "filings_dict = {}\n",
    "with zipfile.ZipFile('docs.zip', 'r') as z:\n",
    "    for file in z.namelist():\n",
    "        if file.endswith(('.htm', '.html')):\n",
    "            with z.open(file) as f:\n",
    "                html_content = f.read().decode('utf-8', errors='ignore') \n",
    "                filing = Filing(html_content) \n",
    "                filings_dict[file] = filing "
   ]
  },
  {
   "cell_type": "markdown",
   "id": "ad6f28cd-e6b2-44aa-a498-d428222b4006",
   "metadata": {},
   "source": [
    "### Q7: What dates appear in the `886982/0000769993-16-001958/-index.htm` file of `docs.zip`?\n",
    "\n",
    "Read the HTML from this file and use it to create a `Filing` object,\n",
    "from which you can access the `.dates` attribute."
   ]
  },
  {
   "cell_type": "code",
   "execution_count": 25,
   "id": "50efdb1f-271e-4136-903a-0bf635a76eb0",
   "metadata": {},
   "outputs": [
    {
     "data": {
      "text/plain": [
       "['2016-12-30', '2016-12-30', '2016-12-20']"
      ]
     },
     "execution_count": 25,
     "metadata": {},
     "output_type": "execute_result"
    }
   ],
   "source": [
    "#Q7\n",
    "fObj=filDict[\"886982/0000769993-16-001958/-index.htm\"]\n",
    "fObj.dates"
   ]
  },
  {
   "cell_type": "markdown",
   "id": "ad2ef0d1-757b-478a-ab71-03e03d6e8abb",
   "metadata": {},
   "source": [
    "### Q8: What is the distribution of states for the filings in `docs.zip`?\n",
    "\n",
    "Answer with a dict, like the following:\n",
    "\n",
    "```\n",
    "{'CA': 92,\n",
    " 'NY': 83,\n",
    " 'TX': 67,\n",
    " 'None': 56,\n",
    " 'MA': 30,\n",
    " 'IL': 25,\n",
    " 'PA': 25,\n",
    " 'CO': 25,\n",
    " ...\n",
    "}\n",
    "```\n",
    "\n",
    "The showing order of each key-value pair doesn't really matter. Please include `None` in the\n",
    "dictionary.\n",
    "\n",
    "**Hint:** We created the `filings` dictionary above, which means we don't have to\n",
    "iterate through `docs.zip` here again!"
   ]
  },
  {
   "cell_type": "code",
   "execution_count": 26,
   "id": "eb377d94-5440-4eae-b30d-7ee7c505793d",
   "metadata": {},
   "outputs": [
    {
     "data": {
      "text/plain": [
       "{'AL': 1,\n",
       " 'AR': 1,\n",
       " 'AZ': 5,\n",
       " 'CA': 92,\n",
       " 'CO': 25,\n",
       " 'CT': 14,\n",
       " 'DC': 1,\n",
       " 'DE': 9,\n",
       " 'FL': 21,\n",
       " 'GA': 9,\n",
       " 'IA': 6,\n",
       " 'ID': 1,\n",
       " 'IL': 25,\n",
       " 'IN': 5,\n",
       " 'KS': 5,\n",
       " 'KY': 2,\n",
       " 'LA': 2,\n",
       " 'MA': 30,\n",
       " 'MD': 13,\n",
       " 'ME': 1,\n",
       " 'MI': 11,\n",
       " 'MN': 15,\n",
       " 'MO': 4,\n",
       " 'MS': 1,\n",
       " 'NC': 9,\n",
       " 'NE': 2,\n",
       " 'NJ': 23,\n",
       " 'NM': 1,\n",
       " 'NV': 6,\n",
       " 'NY': 83,\n",
       " 'OH': 10,\n",
       " 'OK': 7,\n",
       " 'OR': 2,\n",
       " 'PA': 25,\n",
       " 'SD': 1,\n",
       " 'TN': 4,\n",
       " 'TX': 67,\n",
       " 'UT': 5,\n",
       " 'VA': 15,\n",
       " 'VT': 1,\n",
       " 'WA': 3,\n",
       " 'WI': 9,\n",
       " 'WV': 2,\n",
       " None: 56}"
      ]
     },
     "execution_count": 26,
     "metadata": {},
     "output_type": "execute_result"
    }
   ],
   "source": [
    "#Q8\n",
    "from collections import Counter\n",
    "counter = Counter()\n",
    "for filing in filDict.values():\n",
    "    state = filing.state()  \n",
    "    if state:\n",
    "        counter[state] += 1 \n",
    "    else:\n",
    "        counter[None] += 1  \n",
    "\n",
    "state_distribution = dict(sorted(counter.items(), key=lambda x: (x[0] is None, x[0])))\n",
    "state_distribution\n"
   ]
  },
  {
   "cell_type": "markdown",
   "id": "d7ec61c9-8a25-48f2-9e24-f36cec919fa6",
   "metadata": {},
   "source": [
    "### Q9: What is the distribution for the ten most common addresses for the filings in `docs.zip`?\n",
    "\n",
    "Answer in the same format as the previous question.\n",
    "\n",
    "Expected output:\n",
    "```\n",
    "{'2000 AVENUE OF THE STARS, 12TH FLOOR\\nLOS ANGELES CA 90067': 134,\n",
    " '2000 AVENUE OF THE STARS, 12TH FLOOR\\nLOS ANGELES CA 90067\\n3102014100': 113,\n",
    " '3 LANDMARK SQUARE\\nSUITE 500\\nSTAMFORD CT 06901\\n2033564400': 60,\n",
    " 'C/O KKR ASSET MANAGEMENT LLC\\n555 CALIFORNIA STREET, 50TH FLOOR\\nSAN FRANCISCO CA 94104': 36,\n",
    " 'C/O ARES MANAGEMENT LLC\\n2000 AVENUE OF THE STARS, 12TH FLOOR\\nLOS ANGELES CA 90067': 35,\n",
    " '4740 AGAR DRIVE\\nRICHMOND A1 V7B 1A3': 25,\n",
    " 'CENTRALIS S.A., 8-10 AVENUE DE LA GARE\\nLUXEMBOURG N4 L-1610': 25,\n",
    " 'CENTRALIS S.A., 8-10 AVENUE DE LA GARE\\nLUXEMBOURG N4 L-1610\\n352-26-186-1': 25,\n",
    " '3 LANDMARK SQUARE\\nSUITE 500\\nSTAMFORD CT 06901': 24,\n",
    " '801 CHERRY STREET\\nSUITE 2100\\nFORT WORTH TX 76102': 22}\n",
    "```"
   ]
  },
  {
   "cell_type": "code",
   "execution_count": 27,
   "id": "d5cb2932-6e96-4747-ba84-09b795be5419",
   "metadata": {},
   "outputs": [
    {
     "data": {
      "text/plain": [
       "{'2000 AVENUE OF THE STARS, 12TH FLOOR\\nLOS ANGELES CA 90067': 134,\n",
       " '2000 AVENUE OF THE STARS, 12TH FLOOR\\nLOS ANGELES CA 90067\\n3102014100': 113,\n",
       " '3 LANDMARK SQUARE\\nSUITE 500\\nSTAMFORD CT 06901\\n2033564400': 60,\n",
       " 'C/O KKR ASSET MANAGEMENT LLC\\n555 CALIFORNIA STREET, 50TH FLOOR\\nSAN FRANCISCO CA 94104': 36,\n",
       " 'C/O ARES MANAGEMENT LLC\\n2000 AVENUE OF THE STARS, 12TH FLOOR\\nLOS ANGELES CA 90067': 35,\n",
       " '4740 AGAR DRIVE\\nRICHMOND A1 V7B 1A3': 25,\n",
       " 'CENTRALIS S.A., 8-10 AVENUE DE LA GARE\\nLUXEMBOURG N4 L-1610': 25,\n",
       " 'CENTRALIS S.A., 8-10 AVENUE DE LA GARE\\nLUXEMBOURG N4 L-1610\\n352-26-186-1': 25,\n",
       " '3 LANDMARK SQUARE\\nSUITE 500\\nSTAMFORD CT 06901': 24,\n",
       " '801 CHERRY STREET\\nSUITE 2100\\nFORT WORTH TX 76102': 22}"
      ]
     },
     "execution_count": 27,
     "metadata": {},
     "output_type": "execute_result"
    }
   ],
   "source": [
    "#Q9\n",
    "addr_counter = Counter()\n",
    "for filing in filings_dict.values():\n",
    "    for addr in filing.addresses:\n",
    "        if not addr.strip():   # skip empty or all‑whitespace strings\n",
    "            continue\n",
    "        addr_counter[addr] += 1\n",
    "\n",
    "top_10_addresses = dict(addr_counter.most_common(10))\n",
    "top_10_addresses\n",
    "\n",
    "\n"
   ]
  },
  {
   "cell_type": "markdown",
   "id": "795ed8ab-a980-4040-8e74-bfbf853ed378",
   "metadata": {},
   "source": [
    "# Individual Part (25%)\n",
    "\n",
    "For this portion of the machine project, you are only allowed to seek help from CS 320 course staff (peer mentors, TAs, and the instructor). You **may not** receive help from anyone else."
   ]
  },
  {
   "cell_type": "markdown",
   "id": "68d94198-5f35-4463-accd-8170062b3c86",
   "metadata": {},
   "source": [
    "## Part 4: Combining logs with documents\n",
    "> 📄 **Work in:** [`mp6.ipynb`](mp6.ipynb)"
   ]
  },
  {
   "cell_type": "markdown",
   "id": "a07046cb-3f50-4dca-ac32-03be88e0b607",
   "metadata": {},
   "source": [
    "### Q10: What is the distribution of requests across industries?\n",
    "\n",
    "For each request in the logs that has a corresponding filing in\n",
    "`docs.zip`, lookup the SIC (ignore rows in the logs which refer to\n",
    "pages not in `docs.zip`).\n",
    "\n",
    "Answer with a dictionary, where the keys are the SIC and the values\n",
    "are the number of times the resources of that industry were accessed.\n",
    "\n",
    "If you're curious, consider looking up the industry names for the top\n",
    "couple categories:\n",
    "https://www.sec.gov/corpfin/division-of-corporation-finance-standard-industrial-classification-sic-code-list\n",
    "\n",
    "Expected output:\n",
    "\n",
    "```\n",
    "{2834: 984,\n",
    " 1389: 656,\n",
    " 1311: 550,\n",
    " 2836: 429,\n",
    " 6022: 379,\n",
    " 1000: 273,\n",
    " ...\n",
    " }\n",
    " ```"
   ]
  },
  {
   "cell_type": "code",
   "execution_count": 28,
   "id": "529cdc78-b08b-4437-82b1-70102aebfd33",
   "metadata": {},
   "outputs": [
    {
     "data": {
      "text/plain": [
       "{2834: 984,\n",
       " 1389: 656,\n",
       " 1311: 550,\n",
       " 2836: 429,\n",
       " 6022: 379,\n",
       " 1000: 273,\n",
       " 6211: 237,\n",
       " 7371: 229,\n",
       " 2860: 226,\n",
       " 6021: 204,\n",
       " 6282: 171,\n",
       " 2510: 171,\n",
       " 3825: 164,\n",
       " 4841: 108,\n",
       " 5621: 99,\n",
       " 7200: 94,\n",
       " 7374: 94,\n",
       " 6331: 91,\n",
       " 6798: 90,\n",
       " 5311: 90,\n",
       " 3842: 87,\n",
       " 6221: 85,\n",
       " 6029: 83,\n",
       " 3272: 81,\n",
       " 3829: 73,\n",
       " 4931: 70,\n",
       " 3510: 66,\n",
       " 7830: 62,\n",
       " 3826: 56,\n",
       " 3695: 55,\n",
       " 3620: 50,\n",
       " 7373: 48,\n",
       " 6799: 46,\n",
       " 4412: 43,\n",
       " 4512: 42,\n",
       " 7340: 40,\n",
       " 7370: 39,\n",
       " 900: 39,\n",
       " 6513: 38,\n",
       " 3621: 38,\n",
       " 5172: 36,\n",
       " 5900: 35,\n",
       " 4213: 35,\n",
       " 3990: 34,\n",
       " 5122: 34,\n",
       " 5944: 33,\n",
       " 2070: 33,\n",
       " 8090: 32,\n",
       " 1700: 31,\n",
       " 3312: 31,\n",
       " 1381: 31,\n",
       " 4922: 31,\n",
       " 6324: 30,\n",
       " 8742: 27,\n",
       " 7389: 26,\n",
       " 8731: 25,\n",
       " 7812: 25,\n",
       " 3590: 24,\n",
       " 4955: 23,\n",
       " 3663: 23,\n",
       " 4522: 22,\n",
       " 6321: 21,\n",
       " 3559: 20,\n",
       " 5812: 19,\n",
       " 6792: 19,\n",
       " 6189: 18,\n",
       " 7372: 16,\n",
       " 3841: 14,\n",
       " 6199: 11,\n",
       " 1731: 11,\n",
       " 4911: 8,\n",
       " 4833: 7,\n",
       " 6035: 7,\n",
       " 3571: 6,\n",
       " 2430: 6,\n",
       " 3679: 5,\n",
       " 3674: 5,\n",
       " 4813: 4,\n",
       " 3678: 4,\n",
       " 4812: 4,\n",
       " 1531: 4,\n",
       " 5500: 4,\n",
       " 6411: 3,\n",
       " 1400: 3,\n",
       " 2800: 3,\n",
       " 3420: 3,\n",
       " 8062: 3,\n",
       " 3576: 3,\n",
       " 2870: 2,\n",
       " 1040: 2,\n",
       " 8711: 2,\n",
       " 3669: 2,\n",
       " 3845: 2,\n",
       " 6770: 2,\n",
       " 1382: 2,\n",
       " 5065: 2,\n",
       " 8082: 2,\n",
       " 5661: 2,\n",
       " 7900: 2,\n",
       " 6141: 2,\n",
       " 1221: 2,\n",
       " 3661: 2,\n",
       " 3577: 2,\n",
       " 3690: 2,\n",
       " 2890: 2,\n",
       " 6311: 2,\n",
       " 2810: 2,\n",
       " 2111: 2,\n",
       " 5940: 2,\n",
       " 2080: 1,\n",
       " 3541: 1,\n",
       " 2711: 1,\n",
       " 7350: 1,\n",
       " 7990: 1,\n",
       " 2911: 1,\n",
       " 3721: 1,\n",
       " 5990: 1,\n",
       " 5731: 1,\n",
       " 5531: 1,\n",
       " 2750: 1,\n",
       " 2030: 1,\n",
       " 3714: 1,\n",
       " 3578: 1,\n",
       " 8093: 1,\n",
       " 8200: 1,\n",
       " 2670: 1,\n",
       " 2320: 1,\n",
       " 5961: 1,\n",
       " 8051: 1,\n",
       " 3944: 1,\n",
       " 5960: 1,\n",
       " 7822: 1,\n",
       " 3140: 1,\n",
       " 7841: 1,\n",
       " 3490: 1,\n",
       " 3672: 1,\n",
       " 3442: 1,\n",
       " 7330: 1,\n",
       " 4941: 1,\n",
       " 7361: 1,\n",
       " 6500: 1,\n",
       " 5945: 1,\n",
       " 5651: 1,\n",
       " 7311: 1,\n",
       " 2842: 1,\n",
       " 6111: 1,\n",
       " 2790: 1,\n",
       " 5030: 1,\n",
       " 7381: 1,\n",
       " 3630: 1,\n",
       " 2024: 1,\n",
       " 2780: 1,\n",
       " 2033: 1,\n",
       " 3537: 1,\n",
       " 3443: 1,\n",
       " 3711: 1,\n",
       " 7320: 1,\n",
       " 6099: 1,\n",
       " 7384: 1,\n",
       " 2820: 1,\n",
       " 3827: 1,\n",
       " 2273: 1,\n",
       " 100: 1,\n",
       " 4899: 1,\n",
       " 6036: 1,\n",
       " 7363: 1,\n",
       " 4924: 1,\n",
       " 3550: 1,\n",
       " 1623: 1,\n",
       " 3585: 1,\n",
       " 6200: 1,\n",
       " 3730: 1,\n",
       " 5160: 1,\n",
       " 3317: 1}"
      ]
     },
     "execution_count": 28,
     "metadata": {},
     "output_type": "execute_result"
    }
   ],
   "source": [
    "#Q10\n",
    "def get_sic_distribution(df, filings_dict):\n",
    "    df['cik'] = df['cik'].astype(int)\n",
    "    sic_distribution = defaultdict(int)\n",
    "    for _, row in df.iterrows():\n",
    "        path = f\"{row['cik']}/{row['accession']}/{row['extention']}\"\n",
    "        if path in filings_dict:\n",
    "            filing_obj = filings_dict[path]\n",
    "            sic = filing_obj.sic\n",
    "            if sic is not None:\n",
    "                sic_distribution[sic] += 1\n",
    "    result = dict(sic_distribution)\n",
    "    result_sorted = dict(sorted(result.items(), key=lambda item: item[1], reverse=True))\n",
    "    return result_sorted\n",
    "\n",
    "sic_distribution = get_sic_distribution(df, filings_dict)\n",
    "sic_distribution"
   ]
  },
  {
   "cell_type": "markdown",
   "id": "37eb925c-737d-40c7-8a6d-6784d55afffb",
   "metadata": {},
   "source": [
    "\n",
    "### Q11: How many requests were made in each hour?\n",
    "\n",
    "Use `pd.to_datetime` (the `hour` attributes of the converted\n",
    "timestamps may be useful) or string manipulation to process the `time`\n",
    "column. Answer with a dictionary, where the keys are integers from 0\n",
    "to 23 representing the hour of the day, and the values are the number\n",
    "of requests made in that hour."
   ]
  },
  {
   "cell_type": "code",
   "execution_count": 29,
   "id": "3904c452-b3b0-45dd-b85b-715e964ae766",
   "metadata": {},
   "outputs": [
    {
     "name": "stderr",
     "output_type": "stream",
     "text": [
      "/tmp/ipykernel_591200/558374133.py:2: UserWarning: Could not infer format, so each element will be parsed individually, falling back to `dateutil`. To ensure parsing is consistent and as-expected, please specify a format.\n",
      "  df[\"ts\"] = pd.to_datetime(df[\"time\"], errors=\"coerce\")\n"
     ]
    },
    {
     "data": {
      "text/plain": [
       "{0: 8305,\n",
       " 1: 8242,\n",
       " 2: 8550,\n",
       " 3: 8850,\n",
       " 4: 8343,\n",
       " 5: 9783,\n",
       " 6: 7761,\n",
       " 7: 8213,\n",
       " 8: 8292,\n",
       " 9: 11033,\n",
       " 10: 6377,\n",
       " 11: 6435,\n",
       " 12: 6155,\n",
       " 13: 6006,\n",
       " 14: 6654,\n",
       " 15: 6512,\n",
       " 16: 5680,\n",
       " 17: 6487,\n",
       " 18: 6356,\n",
       " 19: 6211,\n",
       " 20: 6066,\n",
       " 21: 6164,\n",
       " 22: 6098,\n",
       " 23: 6283}"
      ]
     },
     "execution_count": 29,
     "metadata": {},
     "output_type": "execute_result"
    }
   ],
   "source": [
    "#Q11\n",
    "df[\"ts\"] = pd.to_datetime(df[\"time\"], errors=\"coerce\")\n",
    "\n",
    "# 2. Extract the hour (0–23)\n",
    "df[\"hour\"] = df[\"ts\"].dt.hour\n",
    "\n",
    "# 3. Count requests per hour, ensure all 0–23 are present\n",
    "hour_counts = df[\"hour\"].value_counts().sort_index().to_dict()\n",
    "# Fill in any missing hours with zero\n",
    "hourly_requests = {h: hour_counts.get(h, 0) for h in range(24)}\n",
    "\n",
    "hourly_requests"
   ]
  },
  {
   "cell_type": "markdown",
   "id": "35944626-abbf-4ebb-bf48-5d923d57d857",
   "metadata": {},
   "source": [
    "### Q12: What is the geographic overlap in interest between Australia, France, Indonesia, and Viet Nam?\n",
    "\n",
    "Answer with a Digraph like the following:\n",
    "\n",
    "<img src=\"img/digraph.png\" width=400>\n",
    "\n",
    "In addition to a node for each of these three countries, there should\n",
    "be a node for each state having a filing accessed by somebody in one\n",
    "of these countries.\n",
    "\n",
    "An edge from a country to a state means somebody in that country\n",
    "looked at least one filing for a company in that state.\n",
    "\n",
    "**Important:** Make sure not to hardcode these values. It might be helpful to\n",
    "define a list like `countries = [\"Australia\", \"France\", \"Indonesia\", \"Viet Nam\"]` and then loop over the filings for these countries only."
   ]
  },
  {
   "cell_type": "code",
   "execution_count": 30,
   "id": "a96b83e9-c913-48c5-8003-aa366a40a8d3",
   "metadata": {},
   "outputs": [
    {
     "data": {
      "image/svg+xml": [
       "<?xml version=\"1.0\" encoding=\"UTF-8\" standalone=\"no\"?>\n",
       "<!DOCTYPE svg PUBLIC \"-//W3C//DTD SVG 1.1//EN\"\n",
       " \"http://www.w3.org/Graphics/SVG/1.1/DTD/svg11.dtd\">\n",
       "<!-- Generated by graphviz version 2.43.0 (0)\n",
       " -->\n",
       "<!-- Title: %3 Pages: 1 -->\n",
       "<svg width=\"474pt\" height=\"116pt\"\n",
       " viewBox=\"0.00 0.00 473.59 116.00\" xmlns=\"http://www.w3.org/2000/svg\" xmlns:xlink=\"http://www.w3.org/1999/xlink\">\n",
       "<g id=\"graph0\" class=\"graph\" transform=\"scale(1 1) rotate(0) translate(4 112)\">\n",
       "<title>%3</title>\n",
       "<polygon fill=\"white\" stroke=\"transparent\" points=\"-4,4 -4,-112 469.59,-112 469.59,4 -4,4\"/>\n",
       "<!-- Australia -->\n",
       "<g id=\"node1\" class=\"node\">\n",
       "<title>Australia</title>\n",
       "<ellipse fill=\"none\" stroke=\"black\" cx=\"52.65\" cy=\"-90\" rx=\"52.79\" ry=\"18\"/>\n",
       "<text text-anchor=\"middle\" x=\"52.65\" y=\"-86.3\" font-family=\"Times,serif\" font-size=\"14.00\">Australia</text>\n",
       "</g>\n",
       "<!-- NY -->\n",
       "<g id=\"node2\" class=\"node\">\n",
       "<title>NY</title>\n",
       "<ellipse fill=\"none\" stroke=\"black\" cx=\"52.65\" cy=\"-18\" rx=\"27\" ry=\"18\"/>\n",
       "<text text-anchor=\"middle\" x=\"52.65\" y=\"-14.3\" font-family=\"Times,serif\" font-size=\"14.00\">NY</text>\n",
       "</g>\n",
       "<!-- Australia&#45;&gt;NY -->\n",
       "<g id=\"edge1\" class=\"edge\">\n",
       "<title>Australia&#45;&gt;NY</title>\n",
       "<path fill=\"none\" stroke=\"black\" d=\"M52.65,-71.7C52.65,-63.98 52.65,-54.71 52.65,-46.11\"/>\n",
       "<polygon fill=\"black\" stroke=\"black\" points=\"56.15,-46.1 52.65,-36.1 49.15,-46.1 56.15,-46.1\"/>\n",
       "</g>\n",
       "<!-- France -->\n",
       "<g id=\"node3\" class=\"node\">\n",
       "<title>France</title>\n",
       "<ellipse fill=\"none\" stroke=\"black\" cx=\"166.65\" cy=\"-90\" rx=\"42.79\" ry=\"18\"/>\n",
       "<text text-anchor=\"middle\" x=\"166.65\" y=\"-86.3\" font-family=\"Times,serif\" font-size=\"14.00\">France</text>\n",
       "</g>\n",
       "<!-- NJ -->\n",
       "<g id=\"node4\" class=\"node\">\n",
       "<title>NJ</title>\n",
       "<ellipse fill=\"none\" stroke=\"black\" cx=\"166.65\" cy=\"-18\" rx=\"27\" ry=\"18\"/>\n",
       "<text text-anchor=\"middle\" x=\"166.65\" y=\"-14.3\" font-family=\"Times,serif\" font-size=\"14.00\">NJ</text>\n",
       "</g>\n",
       "<!-- France&#45;&gt;NJ -->\n",
       "<g id=\"edge2\" class=\"edge\">\n",
       "<title>France&#45;&gt;NJ</title>\n",
       "<path fill=\"none\" stroke=\"black\" d=\"M166.65,-71.7C166.65,-63.98 166.65,-54.71 166.65,-46.11\"/>\n",
       "<polygon fill=\"black\" stroke=\"black\" points=\"170.15,-46.1 166.65,-36.1 163.15,-46.1 170.15,-46.1\"/>\n",
       "</g>\n",
       "<!-- CA -->\n",
       "<g id=\"node5\" class=\"node\">\n",
       "<title>CA</title>\n",
       "<ellipse fill=\"none\" stroke=\"black\" cx=\"253.65\" cy=\"-18\" rx=\"27\" ry=\"18\"/>\n",
       "<text text-anchor=\"middle\" x=\"253.65\" y=\"-14.3\" font-family=\"Times,serif\" font-size=\"14.00\">CA</text>\n",
       "</g>\n",
       "<!-- France&#45;&gt;CA -->\n",
       "<g id=\"edge3\" class=\"edge\">\n",
       "<title>France&#45;&gt;CA</title>\n",
       "<path fill=\"none\" stroke=\"black\" d=\"M185.52,-73.81C198.27,-63.55 215.22,-49.91 229.03,-38.81\"/>\n",
       "<polygon fill=\"black\" stroke=\"black\" points=\"231.55,-41.27 237.15,-32.27 227.16,-35.81 231.55,-41.27\"/>\n",
       "</g>\n",
       "<!-- Indonesia -->\n",
       "<g id=\"node6\" class=\"node\">\n",
       "<title>Indonesia</title>\n",
       "<ellipse fill=\"none\" stroke=\"black\" cx=\"283.65\" cy=\"-90\" rx=\"55.79\" ry=\"18\"/>\n",
       "<text text-anchor=\"middle\" x=\"283.65\" y=\"-86.3\" font-family=\"Times,serif\" font-size=\"14.00\">Indonesia</text>\n",
       "</g>\n",
       "<!-- Indonesia&#45;&gt;CA -->\n",
       "<g id=\"edge4\" class=\"edge\">\n",
       "<title>Indonesia&#45;&gt;CA</title>\n",
       "<path fill=\"none\" stroke=\"black\" d=\"M276.38,-72.05C272.92,-63.97 268.7,-54.12 264.84,-45.11\"/>\n",
       "<polygon fill=\"black\" stroke=\"black\" points=\"268,-43.6 260.84,-35.79 261.56,-46.36 268,-43.6\"/>\n",
       "</g>\n",
       "<!-- MA -->\n",
       "<g id=\"node7\" class=\"node\">\n",
       "<title>MA</title>\n",
       "<ellipse fill=\"none\" stroke=\"black\" cx=\"325.65\" cy=\"-18\" rx=\"27\" ry=\"18\"/>\n",
       "<text text-anchor=\"middle\" x=\"325.65\" y=\"-14.3\" font-family=\"Times,serif\" font-size=\"14.00\">MA</text>\n",
       "</g>\n",
       "<!-- Indonesia&#45;&gt;MA -->\n",
       "<g id=\"edge5\" class=\"edge\">\n",
       "<title>Indonesia&#45;&gt;MA</title>\n",
       "<path fill=\"none\" stroke=\"black\" d=\"M293.81,-72.05C298.84,-63.68 305,-53.4 310.56,-44.13\"/>\n",
       "<polygon fill=\"black\" stroke=\"black\" points=\"313.72,-45.68 315.86,-35.31 307.71,-42.08 313.72,-45.68\"/>\n",
       "</g>\n",
       "<!-- Viet Nam -->\n",
       "<g id=\"node8\" class=\"node\">\n",
       "<title>Viet Nam</title>\n",
       "<ellipse fill=\"none\" stroke=\"black\" cx=\"411.65\" cy=\"-90\" rx=\"53.89\" ry=\"18\"/>\n",
       "<text text-anchor=\"middle\" x=\"411.65\" y=\"-86.3\" font-family=\"Times,serif\" font-size=\"14.00\">Viet Nam</text>\n",
       "</g>\n",
       "<!-- Viet Nam&#45;&gt;CA -->\n",
       "<g id=\"edge6\" class=\"edge\">\n",
       "<title>Viet Nam&#45;&gt;CA</title>\n",
       "<path fill=\"none\" stroke=\"black\" d=\"M379.67,-75.43C354.99,-64.88 320.04,-49.77 289.65,-36 287.85,-35.19 286.01,-34.34 284.16,-33.49\"/>\n",
       "<polygon fill=\"black\" stroke=\"black\" points=\"285.46,-30.23 274.91,-29.18 282.5,-36.58 285.46,-30.23\"/>\n",
       "</g>\n",
       "<!-- VA -->\n",
       "<g id=\"node9\" class=\"node\">\n",
       "<title>VA</title>\n",
       "<ellipse fill=\"none\" stroke=\"black\" cx=\"411.65\" cy=\"-18\" rx=\"27\" ry=\"18\"/>\n",
       "<text text-anchor=\"middle\" x=\"411.65\" y=\"-14.3\" font-family=\"Times,serif\" font-size=\"14.00\">VA</text>\n",
       "</g>\n",
       "<!-- Viet Nam&#45;&gt;VA -->\n",
       "<g id=\"edge7\" class=\"edge\">\n",
       "<title>Viet Nam&#45;&gt;VA</title>\n",
       "<path fill=\"none\" stroke=\"black\" d=\"M411.65,-71.7C411.65,-63.98 411.65,-54.71 411.65,-46.11\"/>\n",
       "<polygon fill=\"black\" stroke=\"black\" points=\"415.15,-46.1 411.65,-36.1 408.15,-46.1 415.15,-46.1\"/>\n",
       "</g>\n",
       "</g>\n",
       "</svg>\n"
      ],
      "text/plain": [
       "<graphviz.graphs.Digraph at 0x72ceae75dbd0>"
      ]
     },
     "execution_count": 30,
     "metadata": {},
     "output_type": "execute_result"
    }
   ],
   "source": [
    "#Q12\n",
    "\n",
    "d = graphviz.Digraph(comment=\"hello\")\n",
    "sampledf['cikaccex'] = sampledf['cik'].astype(int).astype(str)+\"/\"+sampledf['accession'].astype(str)+\"/\"+sampledf['extention'].astype(str)\n",
    "\n",
    "countries = [\"Australia\", \"France\", \"Indonesia\", \"Viet Nam\"]\n",
    "states = []\n",
    "region_df = {}\n",
    "regions = sampledf['region']\n",
    "for filing in filings_dict.values():\n",
    "    state = filing.state()  \n",
    "    states.append(state)\n",
    "\n",
    "for i in countries:  \n",
    "    region_df[i] = set()\n",
    "    \n",
    "\n",
    "for i in sampledf.itertuples():\n",
    "    places = i.region\n",
    "\n",
    "    if places in region_df:\n",
    "        if i.cikaccex in filings_dict:\n",
    "            state = filings_dict[i.cikaccex].state()\n",
    "            region_df[places].add(state)\n",
    "                   \n",
    "for country in countries:\n",
    "    for state in region_df[country]:\n",
    "        d.edge(country, state)\n",
    "\n",
    "\n",
    "\n",
    "# IMPORTANT -- Do not remove -- \n",
    "with open(\"Q12.pkl\", \"wb\") as f:\n",
    "    pickle.dump(d.source, f)\n",
    "\n",
    "d\n",
    "\n"
   ]
  },
  {
   "cell_type": "markdown",
   "id": "6dd23612-fb92-4a5b-a8c4-cbb56a21f4f8",
   "metadata": {},
   "source": [
    "### Q13: Geographic Plotting of Postal Codes\n",
    "\n",
    "In this question, you will plot geographic data from `locations.geojson` over a background map from the shapefile `\"shapes/cb_2018_us_state_20m.shp\"`. Each point represents an address and should be colored by its **postal code**.\n",
    "\n",
    "Follow the instructions **carefully**, as this question involves geospatial data manipulation that is sensitive to the order of operations.\n",
    "\n",
    "**Required Steps:**\n",
    "\n",
    "1. Extract ZIP codes from the address column:\n",
    "   - Use a regular expression to extract the **5-digit** ZIP code from the address string.\n",
    "   - Ignore entries with missing or malformed ZIP codes.\n",
    "   - If a ZIP code has a state and then the code, make sure to only take the 5 digit code. For example, only use `93821` in `CA 93821`.\n",
    "\n",
    "2. Filter valid ZIP codes:\n",
    "   - Only keep rows where the ZIP code is a number between **10000** and **60000**.\n",
    "\n",
    "3. Crop the data to a specific bounding box (do this **before** projecting):\n",
    "   - Define the bounding box:  \n",
    "     `west = -90`, `east = -65`, `south = 25`, `north = 50`\n",
    "   - Use `shapely.geometry.box(west, south, east, north)` to create a bounding box and either `.intersection()` to crop the background or `.intersects()` to filter the data points.\n",
    "\n",
    "4. Project to Mercator (\"epsg:2022\"):\n",
    "   - After filtering, apply `.to_crs(\"epsg:2022\")` **to both** the background and the locations.\n",
    "\n",
    "5. Plot:\n",
    "   - Use `.plot(ax=ax)` and be sure to **pass the same `ax` object** to both the background and the points.\n",
    "   - Set:\n",
    "     - Background color to `\"lightgray\"`\n",
    "     - Point colors using the `\"viridis\"` colormap\n",
    "     - Color of each point should represent the ZIP code using `column=\"zipcode\"` in `.plot(...)`.\n",
    "     - Add a colorbar with `legend=True`\n",
    "     - Remove axis labels with `ax.set_axis_off()`\n",
    "\n",
    "The result should look similar to this:\n",
    "\n",
    "<img src=\"img/geo.png\" width=\"400px\">\n",
    "\n",
    "**Hints:**\n",
    "\n",
    "- **Do not project before filtering or intersecting with the bounding box.** Always crop in latitude/longitude (the original coordinate system) first.\n",
    "- Use `re.findall(regex, address)` to extract ZIP codes.\n",
    "- Clean the data **before** plotting.\n",
    "- If your map looks distorted or blank, double-check that you projected **after** cropping and used the correct EPSG code.\n",
    "- Double-check the ZIP code range: it must be between 10000 and 60000.\n",
    "- Use `legend=True` for the colorbar.\n"
   ]
  },
  {
   "cell_type": "code",
   "execution_count": 31,
   "id": "f33e3db0-1c1c-48af-9b39-5431cf9ee857",
   "metadata": {},
   "outputs": [],
   "source": [
    "west = -90\n",
    "east = -65\n",
    "north = 50\n",
    "south = 25"
   ]
  },
  {
   "cell_type": "code",
   "execution_count": 32,
   "id": "2bacb3e6-fe5a-4dea-a56a-a1f2fff19426",
   "metadata": {},
   "outputs": [
    {
     "name": "stdout",
     "output_type": "stream",
     "text": [
      "135\n",
      "30\n"
     ]
    },
    {
     "data": {
      "image/png": "[encoded data removed]",
      "text/plain": [
       "<Figure size 1000x800 with 2 Axes>"
      ]
     },
     "metadata": {},
     "output_type": "display_data"
    }
   ],
   "source": [
    "#Q13\n",
    "import re\n",
    "import pickle\n",
    "import matplotlib.pyplot as plt\n",
    "import geopandas as gpd\n",
    "from shapely.geometry import box, Point\n",
    "\n",
    "# 1) Read the data\n",
    "locations = gpd.read_file(\"locations.geojson\")\n",
    "background = gpd.read_file(\"shapes/cb_2018_us_state_20m.shp\")\n",
    "\n",
    "# 2) Extract postal codes using re.findall(), taking the last 5‑digit match\n",
    "def extract_postal_code(addr):\n",
    "    matches = re.findall(r'\\b\\d{5}\\b', addr or \"\")\n",
    "    return int(matches[-1]) if matches else None\n",
    "\n",
    "locations['postal_code'] = locations['address'].apply(extract_postal_code)\n",
    "\n",
    "# 3) Drop rows without a postal code, cast to int, and filter valid range\n",
    "locations = locations.dropna(subset=['postal_code'])\n",
    "locations['postal_code'] = locations['postal_code'].astype(int)\n",
    "locations = locations[locations['postal_code'].between(10000, 60000)].copy()\n",
    "print(len(locations))\n",
    "\n",
    "# 4) Define the lat/lon bounding box (pre‑projection)\n",
    "west, east, south, north = -90, -65, 25, 50\n",
    "bbox = box(west, south, east, north)\n",
    "\n",
    "# 5) Exclude DC & territories so only the 48 contiguous states remain\n",
    "exclude = [\"DC\", \"PR\", \"GU\", \"VI\", \"AS\", \"MP\"]\n",
    "background = background[~background['STUSPS'].isin(exclude)].copy()\n",
    "\n",
    "# 6) Crop both layers to the bounding box (still in EPSG:4326)\n",
    "background = background[background.geometry.intersects(bbox)].copy()\n",
    "locations  = locations[locations.geometry.intersects(bbox)].copy()\n",
    "print(len(background))\n",
    "# 7) Project both to Mercator (EPSG:2022)\n",
    "background = background.to_crs(\"EPSG:2022\")\n",
    "locations  = locations.to_crs(\"EPSG:2022\")\n",
    "\n",
    "# 8) Compute projected bbox limits for exact zoom\n",
    "minx, miny, maxx, maxy = (\n",
    "    gpd.GeoSeries(bbox, crs=\"EPSG:4326\")\n",
    "       .to_crs(\"EPSG:2022\")\n",
    "       .total_bounds\n",
    ")\n",
    "\n",
    "fig, ax = plt.subplots(figsize=(10, 8))\n",
    "background.plot(ax=ax, color=\"lightgray\", edgecolor=\"white\")\n",
    "locations.plot(\n",
    "    ax=ax,\n",
    "    column='postal_code',\n",
    "    cmap='viridis',\n",
    "    legend=True,\n",
    "    markersize=80,\n",
    "    alpha=0.8\n",
    ")\n",
    "ax.set_xlim(minx, maxx)\n",
    "ax.set_ylim(miny, maxy)\n",
    "ax.set_axis_off()\n",
    "\n",
    "\n",
    "with open(\"Q13.pkl\", \"wb\") as f:\n",
    "    pickle.dump(fig, f)\n",
    "\n",
    "plt.show()\n",
    "\n"
   ]
  },
  {
   "cell_type": "code",
   "execution_count": 33,
   "id": "17436d99-d71b-4e8a-86b3-29282aa7f856",
   "metadata": {},
   "outputs": [],
   "source": [
    "def filterCodes(locations1):\n",
    "    new=[]\n",
    "    for row in locations1.itertuples():\n",
    "        address=str(row[1])\n",
    "        l=re.findall(r\"\\b\\d{5}\\b$\",address)\n",
    "        if len(l)>0:\n",
    "            code=(int)(l[0])\n",
    "            if code>=10000 and code<=60000:\n",
    "                new.append(row)\n",
    "    return new\n",
    "    "
   ]
  },
  {
   "cell_type": "code",
   "execution_count": 34,
   "id": "5cc94a7f-da8d-43b1-911e-e82d95da9895",
   "metadata": {},
   "outputs": [],
   "source": [
    "def addNewCol(row):\n",
    "    address=row[1]\n",
    "    l=re.findall(r\"\\b\\d{5}\\b$\",address)\n",
    "    code=(int)(l[0])\n",
    "    return \"{}\".format(code)"
   ]
  },
  {
   "cell_type": "code",
   "execution_count": 35,
   "id": "9c9bf458-02c6-4a0a-9ac7-9b2d84d42415",
   "metadata": {},
   "outputs": [
    {
     "name": "stdout",
     "output_type": "stream",
     "text": [
      "<class 'list'>\n",
      "129\n"
     ]
    },
    {
     "data": {
      "text/plain": [
       "'\\ndef createFileFormatting(row):\\n    return \"{}/{}/{}\".format((int)(row[\"cik\"]),row[\"accession\"],row[\"extention\"])\\ndf[\"concatSt\"]=df.apply(createFileFormatting,axis=1)\\n    \\n    '"
      ]
     },
     "execution_count": 35,
     "metadata": {},
     "output_type": "execute_result"
    }
   ],
   "source": [
    "import re\n",
    "import geopandas as gpd\n",
    "\n",
    "# 1) Read the locations data\n",
    "locations = gpd.read_file(\"locations.geojson\")\n",
    "\n",
    "locationsFiltered=filterCodes(locations)\n",
    "print(type(locationsFiltered))\n",
    "print(len(locationsFiltered))\n",
    "\"\"\"\n",
    "def createFileFormatting(row):\n",
    "    return \"{}/{}/{}\".format((int)(row[\"cik\"]),row[\"accession\"],row[\"extention\"])\n",
    "df[\"concatSt\"]=df.apply(createFileFormatting,axis=1)\n",
    "    \n",
    "    \"\"\"\n",
    "\n"
   ]
  },
  {
   "cell_type": "markdown",
   "id": "d0105d17-9fcb-4ae3-a653-8ee85f2cbb67",
   "metadata": {},
   "source": [
    "## <span style=\"color:red\">Important:</span>\n",
    "Make sure to follow these steps to submit the project\n",
    "1. **Kernel > Restart Kernel and Run All Cells** and then save the notebook\n",
    "2. Run `tester.py` to check your answers\n",
    "3. Run the following commands from the terminal:\n",
    "```\n",
    "git status # make sure you are in the correct branch\n",
    "git add <required files>\n",
    "git commit -m \"Some message\"\n",
    "git push\n",
    "```\n",
    "4. Once you've pushed your project to GitLab, **verify that the pipeline ran successfully**.\n",
    "    * Build > Jobs > Select the latest commit hash > Check tester output\n",
    "5. Create a **_merge request_** to submit the project\n",
    "    * Code > Merge requests > New merge request"
   ]
  },
  {
   "cell_type": "code",
   "execution_count": null,
   "id": "459846c2-3df6-47e8-acd7-6eef72334cf5",
   "metadata": {},
   "outputs": [],
   "source": []
  }
 ],
 "metadata": {
  "kernelspec": {
   "display_name": "Python 3 (ipykernel)",
   "language": "python",
   "name": "python3"
  },
  "language_info": {
   "codemirror_mode": {
    "name": "ipython",
    "version": 3
   },
   "file_extension": ".py",
   "mimetype": "text/x-python",
   "name": "python",
   "nbconvert_exporter": "python",
   "pygments_lexer": "ipython3",
   "version": "3.10.12"
  }
 },
 "nbformat": 4,
 "nbformat_minor": 5
}
