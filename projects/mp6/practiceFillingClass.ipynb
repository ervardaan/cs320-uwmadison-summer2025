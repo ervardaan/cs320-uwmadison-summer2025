{
 "cells": [
  {
   "cell_type": "code",
   "execution_count": 1,
   "id": "fe81e3a0-48a8-4988-b63a-75a0c29293dc",
   "metadata": {},
   "outputs": [],
   "source": [
    "html = \"\"\"<!DOCTYPE HTML PUBLIC \"-//W3C//DTD HTML 4.01 Transitional//EN\" \"http://www.w3.org/TR/html4/loose.dtd\">\n",
    "<html xmlns=\"http://www.w3.org/1999/xhtml\">\n",
    "<head>\n",
    "<meta http-equiv=\"Content-Type\" content=\"text/html; charset=utf-8\" />\n",
    "<meta http-equiv=\"Last-Modified\" content=\"Fri, 12 Feb 2016 00:05:37 GMT\" />\n",
    "<title>EDGAR Filing Documents for 0001050470-16-000051</title>\n",
    "<link rel=\"stylesheet\" type=\"text/css\" href=\"/include/interactive.css\" />\n",
    "</head>\n",
    "<body style=\"margin: 0\">\n",
    "<!-- SEC Web Analytics - For information please visit: https://www.sec.gov/privacy.htm#collectedinfo -->\n",
    "<noscript><iframe src=\"//www.googletagmanager.com/ns.html?id=GTM-TD3BKV\"\n",
    "height=\"0\" width=\"0\" style=\"display:none;visibility:hidden\"></iframe></noscript>\n",
    "<script>(function(w,d,s,l,i){w[l]=w[l]||[];w[l].push({'gtm.start':\n",
    "new Date().getTime(),event:'gtm.js'});var f=d.getElementsByTagName(s)[0],\n",
    "j=d.createElement(s),dl=l!='dataLayer'?'&l='+l:'';j.async=true;j.src=\n",
    "'//www.googletagmanager.com/gtm.js?id='+i+dl;f.parentNode.insertBefore(j,f);\n",
    "})(window,document,'script','dataLayer','GTM-TD3BKV');</script>\n",
    "<!-- End SEC Web Analytics -->\n",
    "<noscript><div style=\"color:red; font-weight:bold; text-align:center;\">This page uses Javascript. Your browser either doesn't support Javascript or you have it turned off. To see this page as it is meant to appear please use a Javascript enabled browser.</div></noscript>\n",
    "<!-- BEGIN BANNER -->\n",
    "<div id=\"headerTop\">\n",
    "   <div id=\"Nav\"><a href=\"/index.htm\">Home</a> | <a href=\"/cgi-bin/browse-edgar?action=getcurrent\">Latest Filings</a> | <a href=\"javascript:history.back()\">Previous Page</a></div>\n",
    "   <div id=\"seal\"><a href=\"/index.htm\"><img src=\"/images/sealTop.gif\" alt=\"SEC Seal\" border=\"0\" /></a></div>\n",
    "   <div id=\"secWordGraphic\"><img src=\"/images/bannerTitle.gif\" alt=\"SEC Banner\" /></div>\n",
    "</div>\n",
    "<div id=\"headerBottom\">\n",
    "   <div id=\"searchHome\"><a href=\"/edgar/searchedgar/webusers.htm\">Search the Next-Generation EDGAR System</a></div>\n",
    "   <div id=\"PageTitle\">Filing Detail</div>\n",
    "</div>\n",
    "<!-- END BANNER -->\n",
    "\n",
    "\n",
    "<!-- BEGIN BREADCRUMBS -->\n",
    "<div id=\"breadCrumbs\">\n",
    "   <ul>\n",
    "      <li><a href=\"/index.htm\">SEC Home</a> &#187;</li>\n",
    "      <li><a href=\"/edgar/searchedgar/webusers.htm\">Search the Next-Generation EDGAR System</a> &#187;</li>\n",
    "      <li><a href=\"/edgar/searchedgar/companysearch.html\">Company Search</a> &#187;</li>\n",
    "      <li class=\"last\">Current Page</li>\n",
    "   </ul>\n",
    "</div>\n",
    "<!-- END BREADCRUMBS -->\n",
    "\n",
    "<div id=\"contentDiv\">\n",
    "<!-- START FILING DIV -->\n",
    "<div id=\"formDiv\">\n",
    "   <div id=\"formHeader\">\n",
    "      <div id=\"formName\">\n",
    "         <strong>Form SC 13G</strong> - Statement of acquisition of beneficial ownership by individuals: \n",
    "      </div>\n",
    "      <div id=\"secNum\">\n",
    "         <strong><acronym title=\"Securities and Exchange Commission\">SEC</acronym> Accession <acronym title=\"Number\">No.</acronym></strong> 0001050470-16-000051\n",
    "      </div>\n",
    "   </div>\n",
    "   <div class=\"formContent\">\n",
    "      <div class=\"formGrouping\">\n",
    "         <div class=\"infoHead\">Filing Date</div>\n",
    "         <div class=\"info\">2016-02-12</div>\n",
    "         <div class=\"infoHead\">Accepted</div>\n",
    "         <div class=\"info\">2016-02-11 19:05:37</div>\n",
    "         <div class=\"infoHead\">Documents</div>\n",
    "         <div class=\"info\">1</div>\n",
    "      </div>\n",
    "      <div style=\"clear:both\"></div>\n",
    "   </div>\n",
    "</div>\n",
    "<!-- END FILING DIV -->\n",
    "<!-- START DOCUMENT DIV -->\n",
    "<div id=\"formDiv\">\n",
    "   <div style=\"padding: 0px 0px 4px 0px; font-size: 12px; margin: 0px 2px 0px 5px; width: 100%; overflow:hidden\">\n",
    "      <p>Document Format Files</p>\n",
    "      <table class=\"tableFile\" summary=\"Document Format Files\">\n",
    "         <tr>\n",
    "            <th scope=\"col\" style=\"width: 5%;\"><acronym title=\"Sequence Number\">Seq</acronym></th>\n",
    "            <th scope=\"col\" style=\"width: 40%;\">Description</th>\n",
    "            <th scope=\"col\" style=\"width: 20%;\">Document</th>\n",
    "            <th scope=\"col\" style=\"width: 10%;\">Type</th>\n",
    "            <th scope=\"col\">Size</th>\n",
    "         </tr>\n",
    "         <tr>\n",
    "            <td scope=\"row\">1</td>\n",
    "            <td scope=\"row\">LSV13G123115MEDALLION.TXT</td>\n",
    "            <td scope=\"row\"><a href=\"/Archives/edgar/data/1000209/000105047016000051/lsv13g123115medallion.txt\">lsv13g123115medallion.txt</a></td>\n",
    "            <td scope=\"row\">SC 13G</td>\n",
    "            <td scope=\"row\">8314</td>\n",
    "         </tr>\n",
    "         <tr class=\"blueRow\">\n",
    "            <td scope=\"row\">&nbsp;</td>\n",
    "            <td scope=\"row\">Complete submission text file</td>\n",
    "            <td scope=\"row\"><a href=\"/Archives/edgar/data/1000209/000105047016000051/0001050470-16-000051.txt\">0001050470-16-000051.txt</a></td>\n",
    "            <td scope=\"row\">&nbsp;</td>\n",
    "            <td scope=\"row\">9803</td>\n",
    "         </tr>\n",
    "      </table>\t\n",
    "   </div>\n",
    "</div>\n",
    "<!-- END DOCUMENT DIV -->\n",
    "<!-- START FILER DIV -->\n",
    "<div id=\"filerDiv\">\n",
    "   <div class=\"mailer\">Mailing Address\n",
    "      <span class=\"mailerAddress\">437 MADISON AVENUE</span>\n",
    "      <span class=\"mailerAddress\">38TH FLOOR</span>\n",
    "      <span class=\"mailerAddress\">\n",
    "NEW YORK NY 10022      </span>\n",
    "   </div>\n",
    "   <div class=\"mailer\">Business Address\n",
    "      <span class=\"mailerAddress\">437 MADISON AVE 38 TH FLOOR</span>\n",
    "      <span class=\"mailerAddress\">\n",
    "NEW YORK NY 10022      </span>\n",
    "      <span class=\"mailerAddress\">2123282153</span>\n",
    "   </div>\n",
    "<div class=\"companyInfo\">\n",
    "  <span class=\"companyName\">MEDALLION FINANCIAL CORP (Subject)\n",
    " <acronym title=\"Central Index Key\">CIK</acronym>: <a href=\"/cgi-bin/browse-edgar?CIK=0001000209&amp;action=getcompany\">0001000209 (see all company filings)</a></span>\n",
    "<p class=\"identInfo\"><acronym title=\"Internal Revenue Service Number\">IRS No.</acronym>: <strong>043291176</strong> | State of Incorp.: <strong>DE</strong> | Fiscal Year End: <strong>1231</strong><br />Type: <strong>SC 13G</strong> | Act: <strong>34</strong> | File No.: <a href=\"/cgi-bin/browse-edgar?filenum=005-48473&amp;action=getcompany\"><strong>005-48473</strong></a> | Film No.: <strong>161413579</strong><br /><acronym title=\"Standard Industrial Code\">SIC</acronym>: <b><a href=\"/cgi-bin/browse-edgar?action=getcompany&amp;SIC=6199&amp;owner=include\">6199</a></b> Finance Services<br />Office of Finance</p>\n",
    "</div>\n",
    "<div class=\"clear\"></div>\n",
    "</div>\n",
    "<div id=\"filerDiv\">\n",
    "   <div class=\"mailer\">Mailing Address\n",
    "      <span class=\"mailerAddress\">155 NORTH WACKER DRIVE</span>\n",
    "      <span class=\"mailerAddress\">SUITE 4600</span>\n",
    "      <span class=\"mailerAddress\">\n",
    "CHICAGO IL 60606      </span>\n",
    "   </div>\n",
    "   <div class=\"mailer\">Business Address\n",
    "      <span class=\"mailerAddress\">155 NORTH WACKER DRIVE</span>\n",
    "      <span class=\"mailerAddress\">SUITE 4600</span>\n",
    "      <span class=\"mailerAddress\">\n",
    "CHICAGO IL 60606      </span>\n",
    "      <span class=\"mailerAddress\">312-460-2443</span>\n",
    "   </div>\n",
    "<div class=\"companyInfo\">\n",
    "  <span class=\"companyName\">LSV ASSET MANAGEMENT (Filed by)\n",
    " <acronym title=\"Central Index Key\">CIK</acronym>: <a href=\"/cgi-bin/browse-edgar?CIK=0001050470&amp;action=getcompany\">0001050470 (see all company filings)</a></span>\n",
    "<p class=\"identInfo\"><acronym title=\"Internal Revenue Service Number\">IRS No.</acronym>: <strong>232772200</strong> | State of Incorp.: <strong>DE</strong> | Fiscal Year End: <strong>1231</strong><br />Type: <strong>SC 13G</strong></p>\n",
    "</div>\n",
    "<div class=\"clear\"></div>\n",
    "</div>\n",
    "<!-- END FILER DIV -->\n",
    "</div>\"\"\"\n"
   ]
  },
  {
   "cell_type": "code",
   "execution_count": 2,
   "id": "dc74c0b8-17e6-4419-933f-3afd0af681ef",
   "metadata": {},
   "outputs": [],
   "source": [
    "import re"
   ]
  },
  {
   "cell_type": "code",
   "execution_count": 28,
   "id": "7e2756ff-109b-4315-b165-611cddffed1d",
   "metadata": {},
   "outputs": [],
   "source": [
    "def getDates(file):\n",
    "    return re.findall(r\"(?<!\\d)(?:19|20)\\d{2}-(?:0[1-9]|1[0-2])-(?:0[1-9]|[12]\\d|3[01])(?!\\d)\",html)"
   ]
  },
  {
   "cell_type": "code",
   "execution_count": 26,
   "id": "d060133b-16fe-4f88-bac9-9b70bcce3391",
   "metadata": {},
   "outputs": [],
   "source": [
    "def getCodes(file):\n",
    "    l=[]\n",
    "    ls=re.findall(r\"SIC=[\\d]+\",html)\n",
    "    for element in ls:\n",
    "        l.append((int)(element.split(\"=\")[1]))\n",
    "    return l\n"
   ]
  },
  {
   "cell_type": "code",
   "execution_count": 27,
   "id": "f57016c8-d80f-417c-b693-f07f2cca6dfa",
   "metadata": {},
   "outputs": [
    {
     "data": {
      "text/plain": [
       "[6199]"
      ]
     },
     "execution_count": 27,
     "metadata": {},
     "output_type": "execute_result"
    }
   ],
   "source": [
    "getCodes(html)"
   ]
  },
  {
   "cell_type": "code",
   "execution_count": 29,
   "id": "84d78ed8-c19f-4f12-a09e-3caf6c31d688",
   "metadata": {},
   "outputs": [
    {
     "data": {
      "text/plain": [
       "['Mailing Address\\n      <span class=\"mailerAddress\">437 MADISON AVENUE</span>\\n      <span class=\"mailerAddress\">38TH FLOOR</span>\\n      <span class=\"mailerAddress\">\\nNEW YORK NY 10022      </span>\\n   ',\n",
       " 'Business Address\\n      <span class=\"mailerAddress\">437 MADISON AVE 38 TH FLOOR</span>\\n      <span class=\"mailerAddress\">\\nNEW YORK NY 10022      </span>\\n      <span class=\"mailerAddress\">2123282153</span>\\n   ',\n",
       " 'Mailing Address\\n      <span class=\"mailerAddress\">155 NORTH WACKER DRIVE</span>\\n      <span class=\"mailerAddress\">SUITE 4600</span>\\n      <span class=\"mailerAddress\">\\nCHICAGO IL 60606      </span>\\n   ',\n",
       " 'Business Address\\n      <span class=\"mailerAddress\">155 NORTH WACKER DRIVE</span>\\n      <span class=\"mailerAddress\">SUITE 4600</span>\\n      <span class=\"mailerAddress\">\\nCHICAGO IL 60606      </span>\\n      <span class=\"mailerAddress\">312-460-2443</span>\\n   ']"
      ]
     },
     "execution_count": 29,
     "metadata": {},
     "output_type": "execute_result"
    }
   ],
   "source": [
    "re.findall(r'<div class=\"mailer\">([\\s\\S]+?)</div>', html)"
   ]
  },
  {
   "cell_type": "code",
   "execution_count": 32,
   "id": "fa8f4cfe-402d-439b-92c9-2f1c9fe86b44",
   "metadata": {},
   "outputs": [],
   "source": [
    "def getAddress(file):\n",
    "    for addr_html in re.findall(r'<div class=\"mailer\">([\\s\\S]+?)</div>', html):\n",
    "        lines=[]\n",
    "        for line in re.findall(r'<span class=\"mailerAddress\">([\\s\\S]+?)</span>', html_addr):\n",
    "            lines.append(line.strip())\n",
    "        print(\"\\n\".join(lines))\n",
    "        print()\n",
    "        return lines\n",
    "    \n",
    "            "
   ]
  },
  {
   "cell_type": "code",
   "execution_count": 36,
   "id": "25197b50-3f55-4f65-96f7-e6cff6369b0b",
   "metadata": {},
   "outputs": [],
   "source": [
    "# Add additional imports used throughout the project here\n",
    "\n",
    "# these lines automatically reload modules when their code changes\n",
    "%load_ext autoreload\n",
    "%autoreload 2\n",
    "\n",
    "\n"
   ]
  },
  {
   "cell_type": "code",
   "execution_count": 37,
   "id": "2c9e67fe-eb6a-4705-b65a-8c8153987c33",
   "metadata": {},
   "outputs": [],
   "source": [
    "from edgar_utils import Filing"
   ]
  },
  {
   "cell_type": "code",
   "execution_count": 39,
   "id": "274decb2-4aea-4285-94c6-a011c6010a8f",
   "metadata": {},
   "outputs": [
    {
     "name": "stdout",
     "output_type": "stream",
     "text": [
      "437 MADISON AVENUE\n",
      "38TH FLOOR\n",
      "NEW YORK NY 10022\n",
      "\n",
      "437 MADISON AVE 38 TH FLOOR\n",
      "NEW YORK NY 10022\n",
      "2123282153\n",
      "\n",
      "155 NORTH WACKER DRIVE\n",
      "SUITE 4600\n",
      "CHICAGO IL 60606\n",
      "\n",
      "155 NORTH WACKER DRIVE\n",
      "SUITE 4600\n",
      "CHICAGO IL 60606\n",
      "312-460-2443\n",
      "\n"
     ]
    }
   ],
   "source": [
    "f=Filing(html)"
   ]
  },
  {
   "cell_type": "code",
   "execution_count": null,
   "id": "e9e2bca2-f6dc-4a25-b1ef-14df02db7b1b",
   "metadata": {},
   "outputs": [],
   "source": []
  }
 ],
 "metadata": {
  "kernelspec": {
   "display_name": "Python 3 (ipykernel)",
   "language": "python",
   "name": "python3"
  },
  "language_info": {
   "codemirror_mode": {
    "name": "ipython",
    "version": 3
   },
   "file_extension": ".py",
   "mimetype": "text/x-python",
   "name": "python",
   "nbconvert_exporter": "python",
   "pygments_lexer": "ipython3",
   "version": "3.10.12"
  }
 },
 "nbformat": 4,
 "nbformat_minor": 5
}
