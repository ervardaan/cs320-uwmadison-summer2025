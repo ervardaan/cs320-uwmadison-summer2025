{
 "cells": [
  {
   "cell_type": "markdown",
   "id": "e9cadf6d-d1fe-487f-8838-a6587a9ca2a3",
   "metadata": {},
   "source": [
    "# Machine Project 7: Intro to Regression Models"
   ]
  },
  {
   "cell_type": "markdown",
   "id": "6b2b8b3b-b715-495e-a252-54e296a0be18",
   "metadata": {},
   "source": [
    "#### <span style=\"color:red\">Make sure to read the [README](README.md) before starting this project</span>"
   ]
  },
  {
   "cell_type": "markdown",
   "id": "ddeab657-d685-423d-888f-54cc24c8e747",
   "metadata": {},
   "source": [
    "## Required Information\n",
    "\n",
    "Please fill out the following details.  \n",
    "- Enter your **full name (as it appears on Canvas)** and **NetID**.  \n",
    "- If you are working in a group (maximum of 4 members), include the **full names and NetIDs** of all your partners.  \n",
    "- If you're working alone, enter `None` for the partner fields.\n",
    "\n",
    "> **Important:** Each student must submit the project individually.  \n",
    "Failure to complete this section may result in your submission being flagged for plagiarism."
   ]
  },
  {
   "cell_type": "code",
   "execution_count": null,
   "id": "c1e69153-6beb-438f-abd5-3ae344d2d1a8",
   "metadata": {},
   "outputs": [],
   "source": [
    "# Project: MP7\n",
    "# Student 1: <Name>, <NETID>\n",
    "# Student 2: <Name>, <NETID>\n",
    "# Student 3: <Name>, <NETID>\n",
    "# Student 4: <Name>, <NETID>"
   ]
  },
  {
   "cell_type": "markdown",
   "id": "2b1ec617-9674-411d-9114-18f7926d4aa0",
   "metadata": {},
   "source": [
    "## <span style=\"color:red\">Important:</span>\n",
    "\n",
    "* **Before you begin**, make sure to `pull` any changes from GitLab. From the terminal, run:\n",
    "```\n",
    "git checkout main\n",
    "git pull\n",
    "git checkout MP7\n",
    "git merge main\n",
    "```\n",
    "* Follow all instructions carefully. If anything is unclear, attend office hours or post on Piazza.\n",
    "* You may add additional code cells as needed. However, **only cells with `#Q_` in the code will be graded**.\n",
    "* To test, **Restart and Run all Cells** then **save the notebook** and run `python3 tester.py` from the terminal\n",
    "\n",
    "> ⚠️ **Reminders:**\n",
    ">\n",
    "> - Make sure you are on the `MP7` branch by running `git branch` and checking the output.\n",
    "> - Frequently `add`, `commit`, and `push` your code to avoid losing progress.\n"
   ]
  },
  {
   "cell_type": "code",
   "execution_count": null,
   "id": "5edd347b-6ee6-44e8-a5d5-957eb0c31775",
   "metadata": {},
   "outputs": [],
   "source": [
    "# Add additional imports used throughout the project here\n",
    "\n",
    "import pickle # used for grading graphs"
   ]
  },
  {
   "cell_type": "markdown",
   "id": "e85e5e64-d7d4-4a7b-8326-6889b0b44892",
   "metadata": {},
   "source": [
    "# Group Part (75%)\n",
    "\n",
    "For this portion of the machine project, you may collaborate with your group members in any way (including looking at group members' code). You may also seek help from CS 320 course staff (peer mentors, TAs, and the instructor). You **may not** seek or receive help from other CS 320 students (outside of your group) or anybody else outside of the course."
   ]
  },
  {
   "cell_type": "markdown",
   "id": "fc38f639-587a-4fd9-a8a8-14a9a0594623",
   "metadata": {},
   "source": [
    "## Part 1: Predicting Population using Area\n",
    "> 📄 **Work in:** [`mp7.ipynb`](mp7.ipynb)"
   ]
  },
  {
   "cell_type": "markdown",
   "id": "b060368f-ca63-4e6c-9a90-143d01f3c0c7",
   "metadata": {},
   "source": [
    "### Q1: How many counties are in Wisconsin?\n",
    "\n",
    "Read `counties.geojson` into a GeoDataFrame and use it to calculate the number of counties in Wisconsin."
   ]
  },
  {
   "cell_type": "code",
   "execution_count": null,
   "id": "4be3c904-569d-4ac0-8279-cf93e04338bb",
   "metadata": {},
   "outputs": [],
   "source": [
    "#Q1"
   ]
  },
  {
   "cell_type": "markdown",
   "id": "5f3a2913-dfd6-4f6d-a96d-9a152bfd3704",
   "metadata": {},
   "source": [
    "### Q2: What is the population of each county in WI?\n",
    "\n",
    "Create a geopandas plot that has a legend using the population from\n",
    "the `POP100` column.\n",
    "\n",
    "**Important:** Make sure to pass in `ax` as an argument when plotting: `.plot(ax=ax, ...)`\n",
    "\n",
    "<img src=\"img/q2.png\" width=\"500\">\n",
    "\n",
    "The US Census Bureau does some surveys that attempt to sample the\n",
    "population and others (like the decennial one) that attempt to count\n",
    "everybody.  \"POP100\" means this is there attempt to count 100% of the\n",
    "population (no sampling).  Similarly, \"HU100\" is a 100% count of\n",
    "housing units."
   ]
  },
  {
   "cell_type": "code",
   "execution_count": null,
   "id": "a03262c2-a9f8-47d2-894c-41b3304de671",
   "metadata": {},
   "outputs": [],
   "source": [
    "#Q2\n",
    "fig, ax = plt.subplots()\n",
    "\n",
    "# PLOT HERE\n",
    "\n",
    "# IMPORTANT -- Do not remove -- \n",
    "with open(\"Q2.pkl\", \"wb\") as f:\n",
    "    pickle.dump(fig, f)"
   ]
  },
  {
   "cell_type": "markdown",
   "id": "6cce85b8-3f1a-4af6-8332-d8382dba5ab7",
   "metadata": {},
   "source": [
    "### Requirement: Feature 1 - `AREALAND`\n",
    "\n",
    "Let's add an `AREALAND` column to your GeoDataFrame of counties so\n",
    "that we can try to predict population based on area.\n",
    "\n",
    "You can get the area from the `counties_tracts.db` database.  Open it using [sqlite3](https://docs.python.org/3/library/sqlite3.html) then use [read_sql](https://pandas.pydata.org/docs/reference/api/pandas.read_sql.html) on the DB connection to execute a query.\n",
    "\n",
    "A great first query for an unfamiliar DB is `pd.read_sql(\"\"\"SELECT * FROM sqlite_master\"\"\", conn)`.  That will show you all the tables the DB has. Try running `pd.read_sql(\"\"\"SELECT * FROM ????\"\"\", conn)` for each table name to see what all the tables look like.\n",
    "\n",
    "Use data from the database to add an `AREALAND` column to your\n",
    "GeoDataFrame.  The order of rows in your GeoDataFrame should not\n",
    "change as part of this operation.\n",
    "\n",
    "After you've added `AREALAND` to your GeoDataFrame, use\n",
    "`train_test_split` from `sklearn` to split the rows into `train` and\n",
    "`test` datasets.\n",
    "\n",
    "* By default, `train_test_split` randomly shuffles the data differently each time it runs.  Pass `random_state=320` as a parameter so that it shuffles the same way as it did for us (so that you get the answers the tester expects).\n",
    "* Pass `test_size=0.25` to make the test set be one quarter of the original data and the other three quarters remaining in the training set.\n"
   ]
  },
  {
   "cell_type": "code",
   "execution_count": null,
   "id": "6444cd23-496a-40c2-942f-325ec6f5848a",
   "metadata": {},
   "outputs": [],
   "source": [
    "# Feature 1 - AREALAND"
   ]
  },
  {
   "cell_type": "markdown",
   "id": "81f8658d-887f-484e-a16e-109dc7beecf9",
   "metadata": {},
   "source": [
    "### Q3: What are the counties in the test dataset?\n",
    "\n",
    "Answer with a list, in the same order as the names appear in the original DataFrame. "
   ]
  },
  {
   "cell_type": "code",
   "execution_count": null,
   "id": "fea6b95e-c305-450c-bddd-ccb0968997f3",
   "metadata": {},
   "outputs": [],
   "source": [
    "#Q3"
   ]
  },
  {
   "cell_type": "markdown",
   "id": "d9578990-faa5-46a6-9d54-aa4399d138fe",
   "metadata": {},
   "source": [
    "### Q4: How much variance in the `POP100` can a `LinearRegression` model explain based only on `AREALAND`?\n",
    "\n",
    "`fit` the model to your `train` dataset and `score` it on your `test` dataset. \n",
    "\n",
    "**Note:** Calling `LinearRegression.score(...)` will, by default return the $r^2$ score: https://scikit-learn.org/stable/modules/generated/sklearn.linear_model.LinearRegression.html#sklearn.linear_model.LinearRegression.score."
   ]
  },
  {
   "cell_type": "code",
   "execution_count": null,
   "id": "2e4022e8-ccfc-462a-8578-24a4a33be2be",
   "metadata": {},
   "outputs": [],
   "source": [
    "#Q4"
   ]
  },
  {
   "cell_type": "markdown",
   "id": "da286b8d-d273-47e8-9162-80ae92994159",
   "metadata": {},
   "source": [
    "### Q5: What is the predicted population of a county with 300 square miles of area, according to the model?\n",
    "\n",
    "Consult the [Census documentation](https://tigerweb.geo.census.gov/tigerwebmain/TIGERweb_attribute_glossary.html) to learn what units the data is in, and do any conversions necessary to answer the question.  Assume there are exactly 2.59 square kilometers per square mile for the purposes of your calculation.\n",
    "\n",
    "**Note:** Make sure to cast the final answer to a `float`."
   ]
  },
  {
   "cell_type": "code",
   "execution_count": null,
   "id": "13287ab5-42f2-4a34-8c60-22e33efcd350",
   "metadata": {},
   "outputs": [],
   "source": [
    "#Q5"
   ]
  },
  {
   "cell_type": "markdown",
   "id": "805e6ed0-62f6-4404-b469-53c21b8172e4",
   "metadata": {},
   "source": [
    "## Part 2: Predicting Population using Housing Units\n",
    "> 📄 **Work in:** [`mp7.ipynb`](mp7.ipynb)\n",
    "\n",
    "You'll need to wait to do the lab before continuing: [Lab 11](../../labs/Lab11/README.md)"
   ]
  },
  {
   "cell_type": "markdown",
   "id": "0320eaa1-ef93-477f-91e6-d93af431d50e",
   "metadata": {},
   "source": [
    "### Requirement: Feature 2 - `HU100` (housing units)\n",
    "\n",
    "Look at the `tracts` table inside `counties_tracts.db` and find the\n",
    "`HU100` column. Add a `HU100` column to your GeoDataFrame of counties,\n",
    "similar to how you added `AREALAND`.\n",
    "\n",
    "**The query to get housing units per county is more complicated than the\n",
    "one for AREALAND**.  County names are in the `counties` table and\n",
    "`HU100` values are in the `tracts` table.  Fortunately, both tables\n",
    "have a `COUNTY` column you can use to combine. Make sure to get the\n",
    "total number of housing units for each county from the `tracts` table\n",
    "by summing the housing units in each tract of the county.\n",
    "\n",
    "**Split your updated GeoDataFrame into a train and test set, the same\n",
    "way you did previously.**\n",
    "\n",
    "**Hints**\n",
    "1. If I have the same column  in two separate tables, I can run the\n",
    "following SQL to join based on that column:\n",
    "```\n",
    "SELECT table1.column1, column2, column3\n",
    "FROM table1\n",
    "INNER JOIN table2\n",
    "ON table1.column1 == table2.column1\n",
    "```\n",
    "2. The order of the counties may not be the same from your original DataFrame\n",
    "and the one you get from this step. Thus, when you merge them together, consider\n",
    "using the `pd.merge(...)` function with the `on=????` parameter or the `left_on=????`\n",
    "and `right_on=????` parameters: https://pandas.pydata.org/docs/reference/api/pandas.merge.html."
   ]
  },
  {
   "cell_type": "code",
   "execution_count": null,
   "id": "f84c025b-1d39-4167-82e1-841446db242c",
   "metadata": {},
   "outputs": [],
   "source": [
    "# Feature 2 - HU100"
   ]
  },
  {
   "cell_type": "markdown",
   "id": "005513ff-828d-4875-bd1f-49ecebaec7b4",
   "metadata": {},
   "source": [
    "### Q6: What are the counties in the test dataset?\n",
    "\n",
    "Answer with a `list`, in the same order as the names appear in the DataFrame.\n",
    "Note: Refer to [this link](https://www.geeksforgeeks.org/sql-join-set-1-inner-left-right-and-full-joins/) to get a brief understanding on how different joins work.\n"
   ]
  },
  {
   "cell_type": "code",
   "execution_count": null,
   "id": "42e591f1-6e72-4881-8aeb-3f9d70b382bc",
   "metadata": {},
   "outputs": [],
   "source": [
    "#Q6"
   ]
  },
  {
   "cell_type": "markdown",
   "id": "ae6ec204-f930-4d62-aa0e-ab0841441441",
   "metadata": {},
   "source": [
    "### Q7: What are the HU100 values for the counties in the test dataset?\n",
    "\n",
    "Answer with a `dict`."
   ]
  },
  {
   "cell_type": "code",
   "execution_count": null,
   "id": "94cc5182-9d74-40df-a881-3d6375337517",
   "metadata": {},
   "outputs": [],
   "source": [
    "#Q7"
   ]
  },
  {
   "cell_type": "markdown",
   "id": "d05cc23e-571b-48b8-b61e-f4054adee7b5",
   "metadata": {},
   "source": [
    "### Q8: How much variance in the `POP100` can a `LinearRegression` model explain based only on `HU100`?\n",
    "\n",
    "Answer with the average of 5 scores produced by [`cross_val_score`](https://scikit-learn.org/stable/modules/generated/sklearn.model_selection.cross_val_score.html) on the training data (i.e., we are doing 5-fold cross validation).\n",
    "\n",
    "**Note:** Make sure to cast the final answer to a `float`."
   ]
  },
  {
   "cell_type": "code",
   "execution_count": null,
   "id": "84a5e9ad-2336-4c7f-a6c5-16d90a85d0f3",
   "metadata": {},
   "outputs": [],
   "source": [
    "#Q8"
   ]
  },
  {
   "cell_type": "markdown",
   "id": "a4e39f6d-d6af-4e61-ad8e-ae7d164238af",
   "metadata": {},
   "source": [
    "### Q9: What is the standard deviation of the cross validation scores from `Q8`?\n",
    "\n",
    "Refrain from using statistics.stdev to calculate standard deviation. Variance is the average squared deviations from the mean, while standard deviation is the square root of this number.\n",
    "\n",
    "**Note:** Make sure to cast the final answer to a `float`."
   ]
  },
  {
   "cell_type": "code",
   "execution_count": null,
   "id": "1b9b4e56-6d99-4812-b0c7-d7ef0a6094e9",
   "metadata": {},
   "outputs": [],
   "source": [
    "#Q9"
   ]
  },
  {
   "cell_type": "markdown",
   "id": "2287914d-86ba-4dc8-88a3-781ea3aef9d3",
   "metadata": {},
   "source": [
    "### Q10: What is the formula relating POP100 and HU100?\n",
    "\n",
    "Fit your model to the training dataset to find the answer. Round the coefficient and intercept to 2 decimal places. Format the answer according to the following formula, and output it as a string:\n",
    "\n",
    "```\n",
    "POP100 = ????*HU100 + ????\n",
    "```\n"
   ]
  },
  {
   "cell_type": "code",
   "execution_count": null,
   "id": "fb728895-fad6-4cde-8ef8-f0394670b975",
   "metadata": {},
   "outputs": [],
   "source": [
    "#Q10"
   ]
  },
  {
   "cell_type": "markdown",
   "id": "10b7db17-5858-44f7-9fdd-240749480014",
   "metadata": {},
   "source": [
    "### Q11: What is the r-squared score of your fitted model (from Q10)?\n",
    "\n",
    "Use the fitted model from Q10 and [metrics.r2_score()](https://scikit-learn.org/stable/modules/generated/sklearn.metrics.r2_score.html) from sklearn to find the accuracy of your model. Note that you want to use test data for this question."
   ]
  },
  {
   "cell_type": "code",
   "execution_count": null,
   "id": "e343fc82-8835-4395-922f-8e16b1b59eaf",
   "metadata": {},
   "outputs": [],
   "source": [
    "#Q11"
   ]
  },
  {
   "cell_type": "markdown",
   "id": "5db70787-e183-4143-b439-e01ef1c0b356",
   "metadata": {},
   "source": [
    "### Q12: What is the relationship between HU100 and POP100, visually?\n",
    "\n",
    "Answer with a scatter plot showing the actual values and the predicted fit line based on the model. You should use both train and test data for the plot (i.e., the entire data).\n",
    "\n",
    "**_Make sure to include a title and axis labels_**\n",
    "\n",
    "**Important:** Make sure to pass in `ax` as an argument when plotting: `.plot.line(ax=ax, ...)` / `.plot.scatter(ax=ax, ...)`\n",
    "\n",
    "Use `.text` to annotate Waukesha County, and a legend to label the actual and predicted parts as in the following. **Do not** add any offset to the `x` or `y` values of the text label\n",
    "\n",
    "<img src=\"img/q12.png\" width=\"400\">"
   ]
  },
  {
   "cell_type": "code",
   "execution_count": null,
   "id": "dbcc5907-041d-4586-8b50-889d81cf7f77",
   "metadata": {},
   "outputs": [],
   "source": [
    "#Q12\n",
    "fig, ax = plt.subplots()\n",
    "\n",
    "# PLOT HERE\n",
    "\n",
    "# IMPORTANT -- Do not remove -- \n",
    "with open(\"Q12.pkl\", \"wb\") as f:\n",
    "    pickle.dump(fig, f)\n",
    "\n",
    "plt.show()"
   ]
  },
  {
   "cell_type": "markdown",
   "id": "5dbc7477-e659-4fc3-a179-877579f419ed",
   "metadata": {},
   "source": [
    "## Part 3: Land Use Features\n",
    "> 📄 **Work in:** [`mp7.ipynb`](mp7.ipynb)"
   ]
  },
  {
   "cell_type": "markdown",
   "id": "a1c14b2a-4330-4364-a3b8-74b9c6ff7616",
   "metadata": {},
   "source": [
    "### Q13: How many numbers in matrix `A` are between 1 and 4 (inclusive)?\n",
    "\n",
    "The matrix `A` is provided below\n",
    "\n",
    "**Note:** If you use numpy, make sure to cast the final answer to an `int`."
   ]
  },
  {
   "cell_type": "code",
   "execution_count": null,
   "id": "bf1298af-db14-406d-aeba-2c6b0f8ca10f",
   "metadata": {},
   "outputs": [],
   "source": [
    "A = np.array([\n",
    "    [0,0,5,8,4],\n",
    "    [1,2,4,0,3],\n",
    "    [2,4,0,9,2],\n",
    "    [3,5,2,1,1],\n",
    "    [0,5,0,1,0]\n",
    "])"
   ]
  },
  {
   "cell_type": "code",
   "execution_count": null,
   "id": "26174586-bb05-45d3-aada-f61d2cdcdab4",
   "metadata": {},
   "outputs": [],
   "source": [
    "#Q13"
   ]
  },
  {
   "cell_type": "markdown",
   "id": "5429f3dc-7539-4ba8-b898-ea25a5933bd0",
   "metadata": {},
   "source": [
    "\n",
    "### Q14: How does Dane County look?\n",
    "\n",
    "**Note:** in lab, you had to use TIGERweb to get the geodata.  You\n",
    "**shouldn't** do that here because we already did that saved the results\n",
    "to `counties.geojson`, which you should use.  Otherwise, this is very\n",
    "similar to the lab exercise.\n",
    "\n",
    "You can get the matrix for Dane County using `rasterio` and using the geometry in the DataFrame from `counties.geojson`. You can open a file inside zip by running the command `rasterio.open(\"zip://./land.zip!/wi.tif\")`.\n",
    "\n",
    "**Note:** Use the color map provided below.\n",
    "\n",
    "<img src=\"img/q14.png\" width=\"400\">"
   ]
  },
  {
   "cell_type": "code",
   "execution_count": null,
   "id": "fa90de72-af07-4a68-aeb4-25b9352f438b",
   "metadata": {},
   "outputs": [],
   "source": [
    "from matplotlib.colors import ListedColormap\n",
    "\n",
    "c = np.zeros((256,3))\n",
    "c[0] = [0.00000000000, 0.00000000000, 0.00000000000]\n",
    "c[11] = [0.27843137255, 0.41960784314, 0.62745098039]\n",
    "c[12] = [0.81960784314, 0.86666666667, 0.97647058824]\n",
    "c[21] = [0.86666666667, 0.78823529412, 0.78823529412]\n",
    "c[22] = [0.84705882353, 0.57647058824, 0.50980392157]\n",
    "c[23] = [0.92941176471, 0.00000000000, 0.00000000000]\n",
    "c[24] = [0.66666666667, 0.00000000000, 0.00000000000]\n",
    "c[31] = [0.69803921569, 0.67843137255, 0.63921568628]\n",
    "c[41] = [0.40784313726, 0.66666666667, 0.38823529412]\n",
    "c[42] = [0.10980392157, 0.38823529412, 0.18823529412]\n",
    "c[43] = [0.70980392157, 0.78823529412, 0.55686274510]\n",
    "c[51] = [0.64705882353, 0.54901960784, 0.18823529412]\n",
    "c[52] = [0.80000000000, 0.72941176471, 0.48627450980]\n",
    "c[71] = [0.88627450980, 0.88627450980, 0.75686274510]\n",
    "c[72] = [0.78823529412, 0.78823529412, 0.46666666667]\n",
    "c[73] = [0.60000000000, 0.75686274510, 0.27843137255]\n",
    "c[74] = [0.46666666667, 0.67843137255, 0.57647058824]\n",
    "c[81] = [0.85882352941, 0.84705882353, 0.23921568628]\n",
    "c[82] = [0.66666666667, 0.43921568628, 0.15686274510]\n",
    "c[90] = [0.72941176471, 0.84705882353, 0.91764705882]\n",
    "c[95] = [0.43921568628, 0.63921568628, 0.72941176471]\n",
    "custom_cmap = ListedColormap(c)"
   ]
  },
  {
   "cell_type": "code",
   "execution_count": null,
   "id": "058da6a2-3a78-43e6-8a5e-6de1ac6aeda0",
   "metadata": {},
   "outputs": [],
   "source": [
    "#Q14\n",
    "fig, ax = plt.subplots()\n",
    "\n",
    "# WRITE CODE HERE\n",
    "\n",
    "ax.imshow(????, cmap=custom_cmap, vmin=0, vmax=255)\n",
    "\n",
    "# IMPORTANT -- Do not remove -- \n",
    "with open(\"Q14.pkl\", \"wb\") as f:\n",
    "    pickle.dump(fig, f)"
   ]
  },
  {
   "cell_type": "markdown",
   "id": "746802a9-0a75-4060-bfce-e0c1509fb7de",
   "metadata": {},
   "source": [
    "### Q15: What portion of Dane County is \"Crops\"?\n",
    "\n",
    "Be careful!  Not everything in the matrix is Dane County -- cells with value 0 relate to land of other counties and should not be counted.\n",
    "\n",
    "You can lookup the numeric code for \"Crops\" and other types here: https://www.mrlc.gov/data/legends/national-land-cover-database-2019-nlcd2019-legend\n",
    "\n",
    "For your convenience, we have provided the numeric codes below.\n",
    "\n",
    "**Note:** Make sure to cast the final answer to a `float`."
   ]
  },
  {
   "cell_type": "code",
   "execution_count": null,
   "id": "2cbe1b5e-0d96-4aca-ab1e-c523438b90d0",
   "metadata": {},
   "outputs": [],
   "source": [
    "land_use = {\"open_water\": 11,\n",
    "            \"ice_snow\": 12,\n",
    "            \"developed_open\": 21,\n",
    "            \"developed_low\": 22,\n",
    "            \"developed_med\": 23,\n",
    "            \"developed_high\": 24,\n",
    "            \"barren\": 31,\n",
    "            \"deciduous\": 41,\n",
    "            \"evergreen\": 42,\n",
    "            \"mixed_forest\": 43,\n",
    "            \"dwarf_scrub\": 51,\n",
    "            \"shrub_scrub\": 52,\n",
    "            \"grassland\": 71,\n",
    "            \"sedge\": 72,\n",
    "            \"lichens\": 73,\n",
    "            \"moss\": 74,\n",
    "            \"pasture\": 81,\n",
    "            \"crops\": 82,\n",
    "            \"woody_wetlands\": 90,\n",
    "            \"herbacious_wetlands\": 95}"
   ]
  },
  {
   "cell_type": "code",
   "execution_count": null,
   "id": "735d58e6-e754-4a6e-9142-308bacc9bba2",
   "metadata": {},
   "outputs": [],
   "source": [
    "#Q15"
   ]
  },
  {
   "cell_type": "markdown",
   "id": "88ffe5d5-010c-4cd3-90d2-f3de075e0f50",
   "metadata": {},
   "source": [
    "### Q16: What is the Relationship Between POP100 and `open_water` cells?\n",
    "\n",
    "Show a scatter plot where each point corresponds to a county.\n",
    "\n",
    "**_Make sure to include axis labels_**\n",
    "\n",
    "**Important:** Make sure to pass in `ax` as an argument when plotting: `.plot.scatter(ax=ax, ...)`\n",
    "\n",
    "<img src=\"img/q16.png\" width=\"400\">"
   ]
  },
  {
   "cell_type": "code",
   "execution_count": null,
   "id": "10e0862c-3ae3-4167-802e-73a0a4adfbf4",
   "metadata": {},
   "outputs": [],
   "source": [
    "#Q16\n",
    "fig, ax = plt.subplots()\n",
    "\n",
    "# PLOT HERE\n",
    "\n",
    "# IMPORTANT -- Do not remove -- \n",
    "with open(\"Q16.pkl\", \"wb\") as f:\n",
    "    pickle.dump(fig, f)"
   ]
  },
  {
   "cell_type": "markdown",
   "id": "efe6a77b-c8da-499d-bdb9-1294c99322cd",
   "metadata": {},
   "source": [
    "# Individual Part (25%)\n",
    "\n",
    "For this portion of the machine project, you are only allowed to seek help from CS 320 course staff (peer mentors, TAs, and the instructor). You **may not** receive help from anyone else.\n",
    "\n",
    "For this part, you'll try to predict population on a **per-census\n",
    "tract** basis (in contrast to our preceding per-county analysis),\n",
    "using features calculated from the land use data. "
   ]
  },
  {
   "cell_type": "markdown",
   "id": "991996b8-1518-4435-974b-28419778769a",
   "metadata": {},
   "source": [
    "## Part 4: Feature Analysis\n",
    "> 📄 **Work in:** [`mp7.ipynb`](mp7.ipynb)\n",
    "\n",
    "1. Start with a GeoDataFrame dataset loaded from `tracts.shp`.\n",
    "2. Add feature columns to that dataset for every key in land_use(found under q14), with the column value being the number of units present of that land type, based on raster data from `lands.zip`.\n",
    "**Important:** Computation takes considerable amount of time with raster data so try to minimize masking operations!\n",
    "3. Split your GeoDataFrame into train/test using `random_state=320` and `test_size=0.20`.\n",
    "4. Construct a regression model to predict POP100. Use all of the new columns you created in step 2 as the features for training."
   ]
  },
  {
   "cell_type": "code",
   "execution_count": null,
   "id": "6b6ce23e-4952-4c07-891b-5adc5e3f39bc",
   "metadata": {},
   "outputs": [],
   "source": [
    "# Part 1"
   ]
  },
  {
   "cell_type": "markdown",
   "id": "3ca81e07-8ecb-49c9-84b3-6034dbd342ad",
   "metadata": {},
   "source": [
    "### Q17: What features does your model rely on most?\n",
    "\n",
    "Answer with a bar plot showing feature and coefficient of feature in our trained model.\n",
    "\n",
    "Write a comment discussing what the graph is showing you and how you might use that \n",
    "information in building your own model\n",
    "\n",
    "**Important:** Make sure to pass in `ax` as an argument when plotting: `.plot.bar(ax=ax)`\n",
    "\n",
    "**This question is weighted to be worth 2 regular questions.**"
   ]
  },
  {
   "cell_type": "code",
   "execution_count": null,
   "id": "3673752a-d5af-4813-b2e6-a8979b2e32bf",
   "metadata": {},
   "outputs": [],
   "source": [
    "#Q17\n",
    "fig, ax = plt.subplots()\n",
    "\n",
    "# PLOT HERE\n",
    "\n",
    "# IMPORTANT -- Do not remove -- \n",
    "with open(\"Q17.pkl\", \"wb\") as f:\n",
    "    pickle.dump(fig, f)\n",
    "    \n",
    "plt.show()"
   ]
  },
  {
   "cell_type": "markdown",
   "id": "91fdea95-7398-4db8-b547-2b0ceddd12cb",
   "metadata": {},
   "source": [
    "## Part 5: Model Creation and Analysis\n",
    "1. Construct at least 2 regression models predicting POP100. They should differ in terms of (a) what columns they use and/or (b) whether or not they're preceded by transformers in an sklearn Pipeline\n",
    "2. Perform cross validation on both of your models over your training dataset"
   ]
  },
  {
   "cell_type": "code",
   "execution_count": null,
   "id": "e26bf2da-5f49-426a-a93a-0e1a304e750f",
   "metadata": {},
   "outputs": [],
   "source": [
    "# Part 2"
   ]
  },
  {
   "cell_type": "markdown",
   "id": "29a08659-139f-47bf-81e6-2d09a1f2d093",
   "metadata": {},
   "source": [
    "### Q18: What is the mean and variance of the cross validation scores from both of your models?\n",
    "\n",
    "Answer with a dictionary like this:\n",
    "```\n",
    "{\n",
    "'model1-avg': 0.44286680823801083,\n",
    " 'model1-std': 0.034903979417578036,\n",
    " 'model2-avg': 0.4746679087375649,\n",
    " 'model2-std': 0.033400327309278784\n",
    "}\n",
    "```\n",
    "\n",
    "Write a comment recommending which model you recommend for this prediction task. Factors you **must** consider are (a) mean of cross validation scores is high, (b) variance of cross validation scores is low. Additional factors you might consider are (c) model is simple, and (d) anything else you think is important.\n",
    "\n",
    "**Note:** Your values are likely to be different than those seen above, which is okay.\n",
    "We are just checking if you return a dictionary for this question."
   ]
  },
  {
   "cell_type": "code",
   "execution_count": null,
   "id": "94446f0c-67bb-491c-88df-f5a0ba87cf1e",
   "metadata": {},
   "outputs": [],
   "source": [
    "#Q18"
   ]
  },
  {
   "cell_type": "markdown",
   "id": "00c19755-0693-4b33-ab3c-011872d68e22",
   "metadata": {},
   "source": [
    "<hr/>\n",
    "\n",
    "#### Write answer here\n",
    "\n",
    "<hr/>"
   ]
  },
  {
   "cell_type": "markdown",
   "id": "3375e0ee-b86e-436e-9a67-9174a7406487",
   "metadata": {},
   "source": [
    "### Q19: How does your recommended model score against the test dataset?\n",
    "\n",
    "Fit your recommended model to the train dataset and then score it using the test dataset.\n",
    "Your model needs to achieve explained variance higher than 0.35 in order to receive full credit.\n",
    "\n",
    "**This question is weighted to be worth 3 regular questions.**"
   ]
  },
  {
   "cell_type": "code",
   "execution_count": null,
   "id": "ec29733b-e7fa-432e-8ede-730fb23e3bc4",
   "metadata": {},
   "outputs": [],
   "source": [
    "#Q19"
   ]
  },
  {
   "cell_type": "markdown",
   "id": "27cea33d-9346-4ab4-8a0a-86a9ee5af56e",
   "metadata": {
    "jp-MarkdownHeadingCollapsed": true
   },
   "source": [
    "## <span style=\"color:red\">Important:</span>\n",
    "Make sure to follow these steps to submit the project\n",
    "1. **Kernel > Restart Kernel and Run All Cells** and then save the notebook\n",
    "2. Run `tester.py` to check your answers\n",
    "3. Run the following commands from the terminal:\n",
    "```\n",
    "git status # make sure you are in the correct branch\n",
    "git add <required files>\n",
    "git commit -m \"Some message\"\n",
    "git push\n",
    "```\n",
    "4. Once you've pushed your project to GitLab, **verify that the pipeline ran successfully**.\n",
    "    * Build > Jobs > Select the latest commit hash > Check tester output\n",
    "5. Create a **_merge request_** to submit the project\n",
    "    * Code > Merge requests > New merge request"
   ]
  }
 ],
 "metadata": {
  "kernelspec": {
   "display_name": "Python 3 (ipykernel)",
   "language": "python",
   "name": "python3"
  },
  "language_info": {
   "codemirror_mode": {
    "name": "ipython",
    "version": 3
   },
   "file_extension": ".py",
   "mimetype": "text/x-python",
   "name": "python",
   "nbconvert_exporter": "python",
   "pygments_lexer": "ipython3",
   "version": "3.10.12"
  }
 },
 "nbformat": 4,
 "nbformat_minor": 5
}
