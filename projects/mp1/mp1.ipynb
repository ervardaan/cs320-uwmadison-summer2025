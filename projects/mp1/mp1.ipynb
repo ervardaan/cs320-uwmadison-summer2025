{
 "cells": [
  {
   "cell_type": "markdown",
   "id": "a01d7792-2353-4e7a-8805-6c09c5d6d61e",
   "metadata": {},
   "source": [
    "# Machine Project 1: Review"
   ]
  },
  {
   "cell_type": "markdown",
   "id": "7a315b67-2226-44eb-b827-911f197e7b86",
   "metadata": {},
   "source": [
    "#### <span style=\"color:red\">Make sure to read the [README](README.md) before starting this project</span>"
   ]
  },
  {
   "cell_type": "markdown",
   "id": "223c5038-7198-48e4-9fff-2dc700c31e64",
   "metadata": {},
   "source": [
    "## Required Information\n",
    "\n",
    "Please fill out the following details.  \n",
    "- Enter your **full name (as it appears on Canvas)** and **NetID**.  \n",
    "- This project must be completed **individually**\n",
    "\n",
    "> **Important:** Each student must submit the project individually.  \n",
    "Failure to complete this section may result in your submission being flagged for plagiarism."
   ]
  },
  {
   "cell_type": "code",
   "execution_count": null,
   "id": "3fdae948-9737-40df-8fb9-ca4aa2300d6d",
   "metadata": {},
   "outputs": [],
   "source": [
    "# Project: MP1\n",
    "# Student 1: vardaan kapoor, vkapoor5"
   ]
  },
  {
   "cell_type": "markdown",
   "id": "927f1776-5b11-478e-8b59-e8b720c5e331",
   "metadata": {},
   "source": [
    "## <span style=\"color:red\">Important:</span>\n",
    "\n",
    "* **Before you begin**, make sure to `pull` any changes from GitLab. From the terminal, run:\n",
    "```\n",
    "git checkout main\n",
    "git pull\n",
    "git checkout MP1\n",
    "git merge main\n",
    "```\n",
    "* Follow all instructions carefully. If anything is unclear, attend office hours or post on Piazza.\n",
    "* You may add additional code cells as needed. However, **only cells with `#Q_` in the code will be graded**.\n",
    "* To test, **Restart and Run all Cells** then **save the notebook** and run `python3 tester.py` from the terminal\n",
    "\n",
    "> ⚠️ **Reminders:**\n",
    ">\n",
    "> - Make sure you are on the `MP1` branch by running `git branch` and checking the output.\n",
    "> - Frequently `add`, `commit`, and `push` your code to avoid losing progress.\n"
   ]
  },
  {
   "cell_type": "code",
   "execution_count": 1,
   "id": "d592bf02-2d92-4954-a72e-0aaef23c01d1",
   "metadata": {},
   "outputs": [],
   "source": [
    "# Add additional imports used throughout the project here\n",
    "\n",
    "import pickle # used for grading graphs"
   ]
  },
  {
   "cell_type": "markdown",
   "id": "19d85669-8cf7-4bf3-9fae-f2db77486d92",
   "metadata": {},
   "source": [
    "## Part 1: Python Control Flow\n",
    "> 📄 **Work in:** [`mp1.ipynb`](mp1.ipynb)\n",
    "\n",
    "For part 1, you will focus on how to implement logic in Python and alter the control flow \n",
    "of code. This will mean working with if/elif/else-statements, while/for loops, creating and using functions, and using some built-in Python functions."
   ]
  },
  {
   "cell_type": "markdown",
   "id": "f6d0cf00-7ac5-4f8f-920b-4a826580bd20",
   "metadata": {},
   "source": [
    "### Q1: What is the type of `11/7`?\n",
    "Python offers many built-in functions that we will use throughout the course of this semester. Look at a list of them here to see which one can help you answer this question: https://docs.python.org/3/library/functions.html.\n",
    "\n",
    "11 and 7 are ints, and so in most programming languages, dividing two ints will result in an int as well (1 after rounding down from 1.57). However, in Python, we get the mathematically correct answer of 1.57...\n",
    "\n",
    "If we wanted to instead get an int from our division, we can use `//` instead of `/`. Try it out with `11/7` and `11//7` in jupyter."
   ]
  },
  {
   "cell_type": "code",
   "execution_count": 2,
   "id": "f551c2bc-772b-4b9c-be6f-aabfba64658e",
   "metadata": {},
   "outputs": [
    {
     "data": {
      "text/plain": [
       "float"
      ]
     },
     "execution_count": 2,
     "metadata": {},
     "output_type": "execute_result"
    }
   ],
   "source": [
    "#Q1 \n",
    "output=type(11/7)\n",
    "output"
   ]
  },
  {
   "cell_type": "markdown",
   "id": "61060eea-a2ec-4672-8738-d76d8b471ed4",
   "metadata": {},
   "source": [
    "### Q2: Is the length of `fruit_list` between 2 and 5?\n",
    "\n",
    "Complete the code in accordance with the comment to get the correct answer. It may be helpful to review the [Python built-in functions](https://docs.python.org/3/library/functions.html) in Q1.\n",
    "\n",
    "**Notes**:\n",
    "1. We don't need to specify the type of our variables as in some languages (e.g., Java) -- Python knows `x` is an `int` because we assigned `4`, which is an int. Variable types are not fixed after creation as in some languages (e.g., Go) -- we could later run `x = \"howdy\"` if we wanted to.\n",
    "2. In Python, a `bool` is `True` or `False`. We use the `and`, `or`, and `not` operators to operate on `bool`s. In other programming languages, these operators are often expressed as `&&`, `||`, and `!` respectively."
   ]
  },
  {
   "cell_type": "code",
   "execution_count": 4,
   "id": "cb40e909-928d-4cd1-8010-d3253d2e40cc",
   "metadata": {},
   "outputs": [
    {
     "data": {
      "text/plain": [
       "True"
      ]
     },
     "execution_count": 4,
     "metadata": {},
     "output_type": "execute_result"
    }
   ],
   "source": [
    "#Q2\n",
    "\n",
    "fruit_list = [\"apple\", \"pear\", \"banana\", \"watermelon\"]\n",
    "fruit_list_length = len(fruit_list) # Don't hardcode this. Use a Python built-in\n",
    "\n",
    "minimum = 2\n",
    "maximum = 5\n",
    "in_range = fruit_list_length>=minimum and fruit_list_length<=maximum # True if the number of fruits in fruit_list is inside the minimum-to-maximum range\n",
    "in_range"
   ]
  },
  {
   "cell_type": "markdown",
   "id": "7a2fe512-d281-42c3-a7e9-ca8252331bbf",
   "metadata": {},
   "source": [
    "### Q3: Ignoring case, how many of the files in `filepaths` end in `.csv`?\n",
    "\n",
    "Complete the code below for your answer:\n",
    "\n",
    "**Hints**:\n",
    "1. Consider starting by splitting the string into a list of strings. Notice that they are all separated by `-`. \n",
    "2. To ignore case, it's often easy to use a string method to make everything uppercase or lowercase.\n",
    "3. To get a single character from a string `s`, you can use `s[INDEX]`. 0 is the first character, 1 is the second, and so on. Python supports negative indexing, meaning `s[-1]` is the last letter, `s[-2]` is the next to last, etc. You can also slice strings to get a substring by putting a colon between two indexes `s[inclusive_start:exclusive_end]`. You can leave off one of the indexes to go to the start or end of the string. For example, `filepath[:7]` would evaluate to `\"TESTING\"`.\n",
    "4. In Java, you compare strings with `s1.equals(s2)`, but in Python the correct equivalent is `s1 == s2`. The equivalent of Java's `==` is Python's rarely used `is` operator.\n",
    "\n",
    "In addition to built-ins, Python defines several methods for specific objects like strings. Skim the string methods here: https://docs.python.org/3/library/stdtypes.html#string-methods. Some important ones: `find`, `isdigit`, `join`, `split`, `lower`, `upper`, `strip`, `replace`."
   ]
  },
  {
   "cell_type": "code",
   "execution_count": null,
   "id": "1fc6d768-1dcb-42f6-aef4-26d8c5ecff7b",
   "metadata": {},
   "outputs": [],
   "source": [
    "#Q3\n",
    "\n",
    "filepaths = \"TESTING_FILE1.C5V-TESTING_FILE2.CSV-TESTING_FILE3.CSV\"\n",
    "file_list = ????\n",
    "csv_count = 0\n",
    "for file in file_list:\n",
    "    if ????:\n",
    "        csv_count += 1\n",
    "csv_count"
   ]
  },
  {
   "cell_type": "markdown",
   "id": "028007d0-a62c-4b69-808d-864c0ec7a80e",
   "metadata": {},
   "source": [
    "### **Requirement**: `multiply` function\n",
    "\n",
    "Define a new function: `multiply(...)`.Your function will take two ints and return their product. For example, `multiply(2, 3)` should return 6. Users of this function should also be able to call it like `multiply(a=2, b=3)`. If only one argument is passed, the value should be multiplied by 2. For example, `multiply(4)` or `multiply(a=4)` should both return 8.\n",
    "\n",
    "Python parameters may be filled with positions arguments, keyword arguments, or default arguments.  If this is unfamiliar, read the following:\n",
    "\n",
    "1. https://docs.python.org/3/tutorial/controlflow.html#defining-functions\n",
    "2. https://docs.python.org/3/tutorial/controlflow.html#more-on-defining-functions\n",
    "\n",
    "In Python, indents are very important.  The code inside a function/if/loop is indented (Python doesn't use `{` and `{` to indicate this, as in Java and many other languages)."
   ]
  },
  {
   "cell_type": "code",
   "execution_count": null,
   "id": "77a89de7-6f3e-466e-97be-8388a212892a",
   "metadata": {},
   "outputs": [],
   "source": [
    "def multiply(????, ????):\n",
    "    pass"
   ]
  },
  {
   "cell_type": "markdown",
   "id": "42a747d6-c174-4829-9133-4d6a10ea9857",
   "metadata": {},
   "source": [
    "### Q4. What is `multiply(5)`?"
   ]
  },
  {
   "cell_type": "code",
   "execution_count": null,
   "id": "15dba4d5-da4a-4055-8573-cfb35c480c4f",
   "metadata": {},
   "outputs": [],
   "source": [
    "#Q4"
   ]
  },
  {
   "cell_type": "markdown",
   "id": "95787943-d243-4942-907a-fa807535bb34",
   "metadata": {},
   "source": [
    "### **Requirement**: `smart_multiply` function\n",
    "\n",
    "In Python, lists can be created like `[item1, item2, item3, ...]` and can be indexed/sliced just like strings (strings and lists are both examples of Python *sequences*; by definition, you can index and slice any kind of sequence you encounter in Python).  This list contains just ints, but you're free to have a mix of types in Python lists.\n",
    "\n",
    "In general, you can plug in a variable name and sequence into a `for` loop to run a piece of code for every entry in the sequence:\n",
    "\n",
    "```python\n",
    "for ???? in ????:\n",
    "    # DO SOMETHING\n",
    "```\n",
    "\n",
    "More on `for` loops:\n",
    "* https://docs.python.org/3/tutorial/controlflow.html#for-statements\n",
    "* https://docs.python.org/3/tutorial/controlflow.html#break-and-continue-statements-and-else-clauses-on-loops\n",
    "\n",
    "Write a function called `smart_multiply` that takes a list of numbers and returns their product. It should have the following features:\n",
    "1. Ignore numbers that are negative or zero.\n",
    "2. Once the product is above 100 (strictly larger than 100), all of the numbers that follow it, positive or negative, should be skipped.\n",
    "\n",
    "Use `continue` to implement feature 1 and `break` to implement feature 2."
   ]
  },
  {
   "cell_type": "code",
   "execution_count": null,
   "id": "9865dbf6-b370-46f9-8ee1-674b420d23a2",
   "metadata": {},
   "outputs": [],
   "source": [
    "def smart_multiply(????):\n",
    "    pass"
   ]
  },
  {
   "cell_type": "markdown",
   "id": "e8f9243f-6e2f-4e7f-b508-1d8c754e688b",
   "metadata": {},
   "source": [
    "### Q5. What is `smart_multiply([4, -2, 0, 5, 5, 2, 7, -2])`\n",
    "\n",
    "The answer should be 200. We should skip -2, 0, and -2 since they are less than or equal to 0. Additionally, 4 * 5 * 5 = 100, which is **not** strictly greater than 100, so we need to multiply by 2 to get 200 and then we skip 7 since 200 > 100."
   ]
  },
  {
   "cell_type": "code",
   "execution_count": null,
   "id": "78c7ed19-21a9-4f87-a991-b393915de438",
   "metadata": {},
   "outputs": [],
   "source": [
    "#Q5"
   ]
  },
  {
   "cell_type": "markdown",
   "id": "737dc853-a35c-421e-bed2-d00ca7f86e72",
   "metadata": {},
   "source": [
    "## Part 2: Interacting with Python State\n",
    "> 📄 **Work in:** [`mp1.ipynb`](mp1.ipynb)\n",
    "\n",
    "For part 2, you will focus on how to interact with python objects, especially those that are nested (i.e. list inside of a list, dict inside of list, etc.). We will look at how to\n",
    "modify state, as well as how to extract state, and make copies of state that copy\n",
    "data structures on different levels of depth."
   ]
  },
  {
   "cell_type": "markdown",
   "id": "9e2b31d3-1c51-447c-b451-ffd9bc5eb292",
   "metadata": {},
   "source": [
    "### Requirement: lists and dicts:\n",
    "\n",
    "**_Make sure to run the next code cell._**\n",
    "\n",
    "Note that `rows` is a list of lists.  Each inner list contains some number of ints and one dict (dictionary).  For complicated nested structures like this, it's often helpful to visualize the stack of frames and heap of objects in PythonTutor: https://pythontutor.com/live.html#mode=edit.\n",
    "\n",
    "You could copy the above to visualize it, or use the following link for your convenience:\n",
    "\n",
    "https://pythontutor.com/visualize.html#code=header%20%3D%20%5B%22A%22,%20%22B%22,%20%22C%22%5D%0A%0Acoord1%20%3D%20%7B%22x%22%3A%208,%20%22y%22%3A%205%7D%0Acoord2%20%3D%20%7B%22x%22%3A%209,%20%22y%22%3A%202%7D%0Acoord3%20%3D%20%7B%22x%22%3A%203,%20%22y%22%3A%201%7D%0A%0Arows%20%3D%20%5B%0A%20%20%20%20%5B1,%206,%20coord1%5D,%0A%20%20%20%20%5B3,%204,%20coord2%5D,%0A%20%20%20%20%5B5,%202,%20coord3%5D,%0A%5D&cumulative=false&curInstr=7&heapPrimitives=nevernest&mode=display&origin=opt-frontend.js&py=3&rawInputLstJSON=%5B%5D&textReferences=false\n",
    "\n",
    "Both lists and dicts contain values.  With lists, each value is associated with an index (integers starting from 0).  With dicts, each value is associated with a key specified by the programmers.  Keys are often strings, but they don't need to be.\n",
    "\n",
    "Docs:\n",
    "* https://docs.python.org/3/tutorial/datastructures.html#more-on-lists\n",
    "* https://docs.python.org/3/tutorial/datastructures.html#dictionaries\n",
    "\n",
    "**Testing Note:** try running `{\"A\":1, \"B\":2} == {\"B\":2, \"A\":1}` in Python. Note that these two dicts are considered equivalent since they have the same values corresponding to the same keys.  So if the tester complains about any of your dicts (or sets) being wrong, the issue is with the contents, not the order.\n"
   ]
  },
  {
   "cell_type": "code",
   "execution_count": null,
   "id": "fd33d7dd-0a29-4d9e-bbf2-828794f457ea",
   "metadata": {},
   "outputs": [],
   "source": [
    "header = [\"A\", \"B\", \"C\"]\n",
    "\n",
    "coord1 = {\"x\": 8, \"y\": 5}\n",
    "coord2 = {\"x\": 9, \"y\": 2, \"z\" : 4}\n",
    "coord3 = {\"x\": 3, \"y\": 1, \"z\" : 7}\n",
    "\n",
    "rows = [\n",
    "    [1, 6, 7, 8, coord1],\n",
    "    [3, 4, 9, coord2],\n",
    "    [5, 2, coord3],\n",
    "]"
   ]
  },
  {
   "cell_type": "markdown",
   "id": "b8504ef0-8c00-46b5-9e20-c415da52990e",
   "metadata": {},
   "source": [
    "### Q6: After inserting a \"z\" key in `coord1` (with `coord1[\"z\"] = 6`), what is `rows`?"
   ]
  },
  {
   "cell_type": "code",
   "execution_count": null,
   "id": "82bf1367-d457-4f02-b057-e86a25438b7b",
   "metadata": {},
   "outputs": [],
   "source": [
    "#Q6"
   ]
  },
  {
   "cell_type": "markdown",
   "id": "3a8cab7e-59c7-4beb-9451-f32257e79307",
   "metadata": {},
   "source": [
    "### Q7: What is the value associated with the \"y\" key of the dict in the last position of the last list in `rows`?\n",
    "\n",
    "**Hint:** For navigating nested structures, use list indices and dictionary keys to access deeper elements. For example, to access the \"z\" key of the dictionary in the second list in `rows`, you would use `rows[1][-1][\"z\"]`. This is because `rows[1]` gives us the second list in `rows` (`[3, 4, 9, {\"x\": 9, \"y\": 2, \"z\" : 4}]`), `rows[1][-1]` gives us the last element of the second list in `rows` (`{\"x\": 9, \"y\": 2, \"z\" : 4}`), and then `rows[1][-1][\"z\"]` extracts the value for the \"z\" key in that dictionary."
   ]
  },
  {
   "cell_type": "code",
   "execution_count": null,
   "id": "aaf81304-76ce-432c-bd44-d9fa8c387723",
   "metadata": {},
   "outputs": [],
   "source": [
    "#Q7"
   ]
  },
  {
   "cell_type": "markdown",
   "id": "75957df0-c7a6-416f-b0e7-2b0c347b817b",
   "metadata": {},
   "source": [
    "### Q8: What is `rows` after running the following?\n",
    "\n",
    "Complete the following so that the first change via `v2` is NOT reflected in `rows`, but the second change via `v2` IS reflected in `rows`.\n",
    "\n",
    "Relevant docs: https://docs.python.org/3/library/copy.html\n",
    "\n",
    "To get a good intuition about the reference/shallow/deep copy, try stepping through the following slowly in PythonTutor:\n",
    "\n",
    "```python\n",
    "import copy\n",
    "v1 = [[1], [], [2, 3]]\n",
    "v2 = v1\n",
    "v2 = copy.copy(v1)\n",
    "v2 = copy.deepcopy(v1)\n",
    "```"
   ]
  },
  {
   "cell_type": "code",
   "execution_count": null,
   "id": "43e71a4e-e167-459c-a0aa-c5a13370d6a5",
   "metadata": {},
   "outputs": [],
   "source": [
    "#Q8\n",
    "\n",
    "v2 = ????\n",
    "v2[0] = 404    # first change\n",
    "v2[1][1] = 404 # second change\n",
    "\n",
    "rows"
   ]
  },
  {
   "cell_type": "markdown",
   "id": "4d000f42-cbe1-4dd8-92d7-21380cace8eb",
   "metadata": {},
   "source": [
    "### Q9: If we imagine the list of lists structure referenced by `rows` as a table, with column names in `header`, what is the sum of values in the \"A\" column?\n",
    "\n",
    "Note: the \"A\" column corresponds to the values at index in 0 of each list, but you are not allowed to hardcode 0 for this solution.  Instead, use `header.index(????)` to look up the position of \"A\" within the `header` list.\n"
   ]
  },
  {
   "cell_type": "code",
   "execution_count": null,
   "id": "2744e4ec-3c60-423e-9d53-421cf116608d",
   "metadata": {},
   "outputs": [],
   "source": [
    "#Q9"
   ]
  },
  {
   "cell_type": "markdown",
   "id": "0662d64e-ecfa-466f-9ce5-1ec256711d3e",
   "metadata": {},
   "source": [
    "### Q10: What is `rows` after we sort it in-place by the \"B\" column, descending?\n",
    "\n",
    "Docs:\n",
    "* https://docs.python.org/3/howto/sorting.html#sorting-basics\n",
    "* https://docs.python.org/3/howto/sorting.html#key-functions\n",
    "\n",
    "**Hint:** if we had to sort by the \"A\" column **ascending**, we could do the following:\n",
    "\n",
    "```python\n",
    "def get_column_a(row):\n",
    "    print(\"lookup A column for a row\")\n",
    "    return row[header.index(\"A\")]\n",
    "\n",
    "rows.sort(key=get_column_a, reverse=False)\n",
    "rows\n",
    "```\n",
    "\n",
    "Note that we aren't calling `get_column_a` ourselves (because there are no parentheses after it on the sort line).  Instead, we're giving the `sort` method a reference to that function; this allows `sort` to call the function on each row, to figure out what part of the row objects matters for the sort.\n",
    "\n",
    "When we only need a function for one purpose, we can use the `lambda` syntax instead of the `def` syntax to define the function on a single line, without even giving it a name.  The following works the same as the earlier example (but without the print):\n",
    "\n",
    "```python\n",
    "rows.sort(key=lambda row: row[header.index(\"A\")], reverse=False)\n",
    "rows\n",
    "```"
   ]
  },
  {
   "cell_type": "code",
   "execution_count": null,
   "id": "68fbcfbd-3a82-4690-8b07-0ce363bfabb3",
   "metadata": {},
   "outputs": [],
   "source": [
    "#Q10"
   ]
  },
  {
   "cell_type": "markdown",
   "id": "b4bc8e65-ba97-456b-b26d-875993ead117",
   "metadata": {},
   "source": [
    "### Q11: Say you're going on vacation to Canada with 400 US dollars; how many Canadian dollars can you get at the current exchange rate?\n",
    "\n",
    "This site provides exchange rate information in JSON format: https://www.floatrates.com/json-feeds.html.  JSON is a simple format that can represent nested dicts and lists in files and web resources.\n",
    "\n",
    "Download a copy of `usd.json` to the directory where your machine project is.  An easy way is to open a terminal, `cd` to the appropriate directory, then run `wget SOME_URL_HERE` to download the web resource.\n",
    "\n",
    "Note: you can run shell commands in Jupyter, too, if you start the command with a `!` (to indicate it is not Python code).  If you do this, be sure to delete the cell after the download.  Otherwise you'll create too much traffic on the floatrates.com site, re-downloading the same thing every time you re-run your notebook.\n",
    "\n",
    "You can read a file like this:\n",
    "\n",
    "```python\n",
    "f = open(\"usd.json\")\n",
    "data = f.read()\n",
    "f.close()\n",
    "```\n",
    "\n",
    "Check the type of `data` and the first portion of it:\n",
    "\n",
    "```python\n",
    "print(type(data))\n",
    "print(data[:300] + \"...\")\n",
    "```\n",
    "\n",
    "Even though the file contains a string that *could* be interpreted as JSON, Python won't *deserialize* it to Python dicts/lists automatically.  Instead of calling `.read()`, we need to use the `load` function in the `json` module:\n",
    "\n",
    "https://docs.python.org/3/library/json.html#json.load\n",
    "\n",
    "When reading documentation, start by focusing on parameters that can't take default arguments.\n",
    "\n",
    "Access the exchange rate for Canadian dollars in the dictionary (key is \"cad\") and multiply it by the amount of US dollars you have to find out how many Canadian dollars you can get. You can round to the nearest 0.01 dollar (1 cent).\n",
    "\n",
    "**Important**: Note the difference between `json.load()` and `json.loads()`. The first loads json data from a file, whereas the second loads json data from a Python string.\n",
    "\n",
    "**Important**: Note the difference between `json.dump()` and `json.dumps()`. `json.dump()` serializes a Python object and writes it directly to a file-like object, on the other hand `json.dumps()` serializes a Python object and returns it as a JSON-formatted string.\n",
    "\n",
    "*Note*: Since the exchange rate is constantly changing, your answer may not be the exact same as is in the answer key. We have implemented a buffer to allow a range of values which should include the correct answer, given the current exchange rate.\n"
   ]
  },
  {
   "cell_type": "code",
   "execution_count": null,
   "id": "169fd00c-783c-4111-a8c5-0c584fbd291d",
   "metadata": {},
   "outputs": [],
   "source": [
    "#Q11"
   ]
  },
  {
   "cell_type": "markdown",
   "id": "2099f2d2-d007-4ded-90e1-9147f9e98944",
   "metadata": {},
   "source": [
    "### Requirement: `convert_to_int` function:\n",
    "\n",
    "In Python, we can cast strings that have an integer value into an int using `int(value)`. For example, `int(\"42\")` will return `42` as an int and not a string.\n",
    "\n",
    "Write a function named `convert_to_int` that will attempt to convert its input into an integer. Note that we will test it with invalid strings (e.g. `\"not a number\"`, `\"forty-two\"`) so your function should catch these errors, print `\"Could not convert string to int.\"` and return `None`. For any other exceptions, your function should print `\"Error with your input argument.\"` and return `None`.\n",
    "\n",
    "How to catch exceptions: https://docs.python.org/3/tutorial/errors.html#handling-exceptions.\n",
    "\n",
    "**Hints**:\n",
    "1. To find out what exception to print `\"Could not convert string to int.\"` for, you could try running `int(\"forty-two\")` in a new cell.\n",
    "2. You can catch specific exceptions like this: `except EXCEPTION_TYPE:`, but you can also catch all exceptions using just `except:`.\n",
    "3. Make sure you pay attention to the order of your `except` blocks.\n"
   ]
  },
  {
   "cell_type": "code",
   "execution_count": null,
   "id": "f38ec324-ff19-495b-9217-23115e1a6917",
   "metadata": {},
   "outputs": [],
   "source": [
    "def convert_to_int(????):\n",
    "    pass"
   ]
  },
  {
   "cell_type": "markdown",
   "id": "1fb595d6-a4dc-4530-a241-a33ef5824d15",
   "metadata": {},
   "source": [
    "### Q12: What is `convert_to_int(\"320\")`?\n"
   ]
  },
  {
   "cell_type": "code",
   "execution_count": null,
   "id": "35f196a4-6c61-459b-a615-d209a604dacf",
   "metadata": {},
   "outputs": [],
   "source": [
    "#Q12"
   ]
  },
  {
   "cell_type": "markdown",
   "id": "388acf84-1c79-4102-af39-fe49d64b7e32",
   "metadata": {},
   "source": [
    "### Q13: What is `convert_to_int(\"ninety-nine\")`?\n",
    "\n",
    "*Note*: You may be able to pass the auto-grader with faulty code, as the auto-grader can not check print outputs. This grade will be part of the [manual grading process](./grading-guidelines.md)."
   ]
  },
  {
   "cell_type": "code",
   "execution_count": null,
   "id": "12ed4382-307b-4e05-ad52-f14829bb77ef",
   "metadata": {},
   "outputs": [],
   "source": [
    "#Q13"
   ]
  },
  {
   "cell_type": "markdown",
   "id": "adcf4a88-a9e7-4292-aabc-c01dfe947506",
   "metadata": {},
   "source": [
    "### Q14: What is `convert_to_int([3, 2, 0])`?"
   ]
  },
  {
   "cell_type": "code",
   "execution_count": null,
   "id": "5c1088de-78ad-43bd-86a2-b990ad91e2fd",
   "metadata": {},
   "outputs": [],
   "source": [
    "#Q14"
   ]
  },
  {
   "cell_type": "markdown",
   "id": "c956840d-4b63-497f-925c-168f8aa9ef26",
   "metadata": {},
   "source": [
    "## Part 3: Data Science using `pandas`\n",
    "> 📄 **Work in:** [`mp1.ipynb`](mp1.ipynb)\n",
    "\n",
    "Each year, the University of Wisconsin's Office of the Registrar reports on the grades of students at the university in almost all classes. Unfortunately for us, this data is reported in a PDF format, which isn't super handy for data analysis in Python. You can view these reports here: https://registrar.wisc.edu/grade-reports/.\n",
    "\n",
    "Fortunately, while creating the grade distribution visualization tool [Madgrades](https://madgrades.com/), former UW Badger Keenan Thompson created an [open-source tool for extracting the data](https://github.com/Madgrades/madgrades-extractor) in these PDFs into SQL and CSV files. We have done some basic manipulation of this data and provided a year-by-year breakdown of it in the `grade-data` directory for the years 2017 - 2022.\n",
    "\n",
    "Create a dictionary called `grades` like this:\n",
    "\n",
    "* **Key**: A year (`int`), corresponding to a year of data in the `grade-data` directory. Don't hardcode the years -- use `os.listdir` and extract the year from each filename (right after the last `-`). Check if the file is a CSV by checking if it ends with \".csv\". Don't hardcode the years in the dictionary - use the year extracted from the file name as the key.\n",
    "* **Value**: A pandas DataFrame corresponding to the CSV for that year. Use `set_index` (https://pandas.pydata.org/docs/reference/api/pandas.DataFrame.set_index.html) to make `\"course\"` the index of the DataFrame.  This will let you easily look up course stats by name (instead of by row number) later."
   ]
  },
  {
   "cell_type": "code",
   "execution_count": null,
   "id": "2ffcd321-40f5-49fc-bbc4-cae114f4fc41",
   "metadata": {},
   "outputs": [],
   "source": [
    "# Create grades dictionary"
   ]
  },
  {
   "cell_type": "markdown",
   "id": "a029ef9c-92db-446a-9485-5d8690fbf825",
   "metadata": {},
   "source": [
    "### Q15: What are the keys in `grades`?\n",
    "\n",
    "Answer with a sorted list in ascending order."
   ]
  },
  {
   "cell_type": "code",
   "execution_count": null,
   "id": "a889f446-983c-4d45-8b43-c61d8e818223",
   "metadata": {},
   "outputs": [],
   "source": [
    "#Q15"
   ]
  },
  {
   "cell_type": "markdown",
   "id": "e6687939-1654-445c-ba68-63ebd951153a",
   "metadata": {},
   "source": [
    "### Q16: What was the average GPA for COMP SCI 320 in 2022?\n",
    "\n",
    "The answer is in the column with name `\"gpa\"` and row with course `\"COMP SCI 320\"`.  The hardcoding way to answer (not allowed) would be something like:\n",
    "\n",
    "```python\n",
    "df_2022 = grades[2022]\n",
    "df_2022.iat[1228, 6] # iat works like df_2022.iloc[, 6], but is faster for one cell\n",
    "```\n",
    "\n",
    "Instead of hardcoding 1228 and 6, you can use \"COMP SCI 320\" (row index name) and \"gpa\" (column name).  When using names instead of positions, you just need to use `.at` or `.loc` (instead of `.iat` or `.iloc`).\n"
   ]
  },
  {
   "cell_type": "code",
   "execution_count": null,
   "id": "6d9cfccc-6318-48f9-adac-26104c724991",
   "metadata": {},
   "outputs": [],
   "source": [
    "#Q16"
   ]
  },
  {
   "cell_type": "markdown",
   "id": "560ea4b8-b5eb-47de-874b-1d79ad0ced97",
   "metadata": {},
   "source": [
    "### Q17: How many computer sciences classes were offered in 2022?\n",
    "\n",
    "If we wanted a DataFrame of all of the psychology courses in 2016, we could do the following:\n",
    "\n",
    "```python\n",
    "df_2016 = grades[2016]\n",
    "df_2016.loc[df_2016[\"course_subject\"] == \"Psychology\"]\n",
    "```\n",
    "\n",
    "**Note**: The `course_subject` for computer sciences classes is `\"Computer Sciences\"`. Alternatively, you could look them up using the `course_abbr` of `\"COMP SCI\"`. Consider saving this filtered DataFrame as a new variable for use in the next questions.\n"
   ]
  },
  {
   "cell_type": "code",
   "execution_count": null,
   "id": "2b8a44d4-f125-439e-9929-cbe537498988",
   "metadata": {},
   "outputs": [],
   "source": [
    "#Q17"
   ]
  },
  {
   "cell_type": "markdown",
   "id": "40dda5e3-2d64-4983-9f08-5ffd650d7c76",
   "metadata": {},
   "source": [
    "### Q18: How many students received an \"A\" in computer sciences courses in 2022?\n",
    "\n",
    "The data will be found in the column `\"a_count\"`.\n",
    "\n",
    "If `df` is a DataFrame, `df[\"some column name here\"]` will extract an individual column as a Pandas Series.  A Pandas Series is like a list/dict hybrid.  You can use `.iat` to look up values by integer position (like you would with a list).  You can use `.at` to look up values by the Series' index, like you would with a dict.  Note the confusing terminology here: a Series' index is like a dict's key, and the \"i\" in \"iat\" does NOT refer to \"index\".\n",
    "\n",
    "If you have a Pandas Series `s`, you can do various aggregations on it, like `.mean()`, `.sum()`, `.max()`, etc.\n"
   ]
  },
  {
   "cell_type": "code",
   "execution_count": null,
   "id": "a2a2940c-6d5f-44dd-8b71-71bcb9ff2b10",
   "metadata": {},
   "outputs": [],
   "source": [
    "#Q18"
   ]
  },
  {
   "cell_type": "markdown",
   "id": "7c0f2158-033b-487b-95ef-580fcbea7f21",
   "metadata": {},
   "source": [
    "### Q19: Calculate the fraction of students who received an \"A\" in each computer sciences class in 2022. Then return the smallest value from this computation.\n",
    "\n",
    "The total number of students to take a course is stored in the `\"total\"` column.\n",
    "\n",
    "You can divide one Pandas Series by another on an element-wise basis like this: `s3 = s2 / s1`.  You can then compute `s3.min()`.  Or better, see if you can combine everything into a one-line computation.\n"
   ]
  },
  {
   "cell_type": "code",
   "execution_count": null,
   "id": "2694c9b2-b110-41f6-beaf-5677b0fb4719",
   "metadata": {},
   "outputs": [],
   "source": [
    "#Q19"
   ]
  },
  {
   "cell_type": "markdown",
   "id": "754bfbac-d074-4f40-9273-a6544874a7b2",
   "metadata": {},
   "source": [
    "### Q20: What fraction of students in computer sciences courses numbered 300 to 399 received an \"A\" in 2022?\n",
    "\n",
    "Use the `\"course_num\"` column to filter based on the course numbers.\n",
    "\n",
    "We can also look for multiple criterion using similar syntax. For example, if we wanted all Psychology courses or Biology courses from 2016, we could do the following:\n",
    "\n",
    "```python\n",
    "df_2016.loc[(df_2016[\"subject_name\"] == \"Psychology\") | (df_2016[\"subject_name\"] == \"Biology\")]\n",
    "```\n",
    "\n",
    "In this example, we need to use the `|` instead of `or`. If we wanted to look for all Psychology courses with a GPA of over 3.7, the following would work:\n",
    "\n",
    "```python\n",
    "df_2016.loc[(df_2016[\"subject_name\"] == \"Psychology\") & (df_2016[\"gpa\"] > 3.7)]\n",
    "```\n",
    "\n",
    "Answer with a `dict`, where the key is the course's name, and the value is the percentage of students that recieved an \"A\" in that course i.e. \"0.01\" for \"1%\". The resulting dictionary should look like this:\n",
    "\n",
    "```python\n",
    "{'COMP SCI 300': 0.4683698296836983,\n",
    " 'COMP SCI 304': 0.8835616438356164,\n",
    " 'COMP SCI 310': 0.345679012345679,\n",
    " 'COMP SCI 319': 0.6567164179104478,\n",
    " 'COMP SCI 320': 0.33044554455445546,\n",
    " 'COMP SCI 352': 0.29277566539923955,\n",
    " 'COMP SCI 354': 0.20095238095238097}\n",
    "```\n",
    "\n",
    "**Hint**: Consider using Pandas `to_dict()` function to convert a Series to a Python dictionary"
   ]
  },
  {
   "cell_type": "code",
   "execution_count": null,
   "id": "d7622b6d-8ca8-4330-b5be-80f779b93734",
   "metadata": {},
   "outputs": [],
   "source": [
    "#Q20"
   ]
  },
  {
   "cell_type": "markdown",
   "id": "fc75bb2b-acc9-47b2-8b52-8d90f766fa79",
   "metadata": {},
   "source": [
    "### Q21: Same question as Q20, but answer with a bar plot instead of a `dict`.\n",
    "\n",
    "_Use `matplotlib` to plot the data._\n",
    "\n",
    "**_Make sure to include a title and axis labels_**\n",
    "\n",
    "<img src=\"img/q21.png\" width=\"400px\">"
   ]
  },
  {
   "cell_type": "code",
   "execution_count": null,
   "id": "1391c1f8-3f93-4cd2-8ad8-040d3a928c9b",
   "metadata": {},
   "outputs": [],
   "source": [
    "#Q21\n",
    "\n",
    "# ADD CODE HERE\n",
    "\n",
    "fig, ax = plt.subplots()\n",
    "\n",
    "# PLOT HERE\n",
    "\n",
    "# IMPORTANT -- Do not remove -- \n",
    "with open(\"Q21.pkl\", \"wb\") as f:\n",
    "    pickle.dump(fig, f)\n",
    "    \n",
    "plt.show()\n",
    "plt.close(fig)"
   ]
  },
  {
   "cell_type": "markdown",
   "id": "c39778e8-b3cd-464d-9c50-994553afd2f8",
   "metadata": {},
   "source": [
    "### Q22: How has the number of students taking COMP SCI 300 changed over recent years?\n",
    "\n",
    "_Use `matplotlib` to plot the data._\n",
    "\n",
    "**_Make sure to include a title and axis labels_**\n",
    "\n",
    "<img src=\"img/q22.png\" width=\"400px\">\n"
   ]
  },
  {
   "cell_type": "code",
   "execution_count": null,
   "id": "eefb7f1c-b26c-4045-81a8-1262c498c79e",
   "metadata": {},
   "outputs": [],
   "source": [
    "#Q22\n",
    "\n",
    "# ADD CODE HERE\n",
    "\n",
    "fig, ax = plt.subplots()\n",
    "\n",
    "# PLOT HERE\n",
    "\n",
    "# IMPORTANT -- Do not remove -- \n",
    "with open(\"Q22.pkl\", \"wb\") as f:\n",
    "    pickle.dump(fig, f)\n",
    "\n",
    "plt.show()\n",
    "plt.close(fig)"
   ]
  },
  {
   "cell_type": "markdown",
   "id": "3e43add4-013e-4ce7-9e14-31ce96da0749",
   "metadata": {},
   "source": [
    "### Q23: What is the relationship between number of students who receive an \"A\" and GPA of a course for 2022?\n",
    "\n",
    "Answer with a plot where the x-axis is the total number of students enrolled in a course and the y-axis is the number of students that earned an \"A\" in that course. \n",
    "\n",
    "_Use `matplotlib` to plot the data._ \n",
    "\n",
    "**_Make sure to include a title and axis labels_**\n",
    "\n",
    "<img src=\"img/q23.png\" width=\"400px\">"
   ]
  },
  {
   "cell_type": "code",
   "execution_count": null,
   "id": "8b9755f4-0431-4c61-993d-afb77da9b79a",
   "metadata": {},
   "outputs": [],
   "source": [
    "#Q23\n",
    "\n",
    "# ADD CODE HERE\n",
    "\n",
    "fig, ax = plt.subplots()\n",
    "\n",
    "# PLOT HERE\n",
    "\n",
    "# IMPORTANT -- Do not remove -- \n",
    "with open(\"Q23.pkl\", \"wb\") as f:\n",
    "    pickle.dump(fig, f)\n",
    "\n",
    "plt.show()\n",
    "plt.close(fig)"
   ]
  },
  {
   "cell_type": "markdown",
   "id": "a5fc18da-e70b-4863-a647-1e42f15d0d62",
   "metadata": {},
   "source": [
    "## <span style=\"color:red\">Important:</span>\n",
    "Make sure to follow these steps to submit the project\n",
    "1. **Kernel > Restart Kernel and Run All Cells** and then save the notebook\n",
    "2. Run `tester.py` to check your answers\n",
    "3. Run the following commands from the terminal:\n",
    "```\n",
    "git status # make sure you are in the correct branch\n",
    "git add <required files>\n",
    "git commit -m \"Some message\"\n",
    "git push\n",
    "```\n",
    "4. Once you've pushed your project to GitLab, **verify that the pipeline ran successfully**.\n",
    "    * Build > Jobs > Select the latest commit hash > Check tester output\n",
    "5. Create a **_merge request_** to submit the project\n",
    "    * Code > Merge requests > New merge request"
   ]
  }
 ],
 "metadata": {
  "kernelspec": {
   "display_name": "Python 3 (ipykernel)",
   "language": "python",
   "name": "python3"
  },
  "language_info": {
   "codemirror_mode": {
    "name": "ipython",
    "version": 3
   },
   "file_extension": ".py",
   "mimetype": "text/x-python",
   "name": "python",
   "nbconvert_exporter": "python",
   "pygments_lexer": "ipython3",
   "version": "3.10.12"
  }
 },
 "nbformat": 4,
 "nbformat_minor": 5
}
