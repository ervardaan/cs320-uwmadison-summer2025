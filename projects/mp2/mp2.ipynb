{
 "cells": [
  {
   "cell_type": "markdown",
   "id": "15c14c92-5e16-4d17-a239-e7af75e3af0d",
   "metadata": {},
   "source": [
    "# Machine Project 2: Webscraping & Data Analysis, Git Analysis, and Benchmarking\n"
   ]
  },
  {
   "cell_type": "markdown",
   "id": "ce8fea38-9ff9-4191-9e6b-fbc206e626b8",
   "metadata": {},
   "source": [
    "#### <span style=\"color:red\">Make sure to read the [README](README.md) before starting this project</span>"
   ]
  },
  {
   "cell_type": "markdown",
   "id": "0c035275-bf0a-4e92-9005-be421f99ab61",
   "metadata": {},
   "source": [
    "## Required Information\n",
    "\n",
    "Please fill out the following details.  \n",
    "- Enter your **full name (as it appears on Canvas)** and **NetID**.  \n",
    "- This project must be completed **individually**\n",
    "\n",
    "> **Important:** Each student must submit the project individually.  \n",
    "Failure to complete this section may result in your submission being flagged for plagiarism."
   ]
  },
  {
   "cell_type": "code",
   "execution_count": 1,
   "id": "142998c4-f2c1-41d3-a59e-d0b7619716ef",
   "metadata": {},
   "outputs": [],
   "source": [
    "# Project: MP2\n",
    "# Student 1: vardaan kapoor, vkapoor5"
   ]
  },
  {
   "cell_type": "markdown",
   "id": "c4360968-95d2-4a97-9368-ba7915eb7d89",
   "metadata": {},
   "source": [
    "## <span style=\"color:red\">Important:</span>\n",
    "\n",
    "* **Before you begin**, make sure to `pull` any changes from GitLab. From the terminal, run:\n",
    "```\n",
    "git checkout main\n",
    "git pull\n",
    "git checkout MP2\n",
    "git merge main\n",
    "```\n",
    "* Follow all instructions carefully. If anything is unclear, attend office hours or post on Piazza.\n",
    "* You may add additional code cells as needed. However, **only cells with `#Q_` in the code will be graded**.\n",
    "* To test, **Restart and Run all Cells** then **save the notebook** and run `python3 tester.py` from the terminal\n",
    "\n",
    "> ⚠️ **Reminders:**\n",
    ">\n",
    "> - Make sure you are on the `MP2` branch by running `git branch` and checking the output.\n",
    "> - Frequently `add`, `commit`, and `push` your code to avoid losing progress.\n"
   ]
  },
  {
   "cell_type": "code",
   "execution_count": 2,
   "id": "950aa2b8-6085-441f-8b03-76bd790a35db",
   "metadata": {},
   "outputs": [],
   "source": [
    "# Add additional imports used throughout the project here\n",
    "\n",
    "import pickle # used for grading graphs\n",
    "from bs4 import BeautifulSoup\n",
    "import pandas as pd\n",
    "from collections import Counter\n",
    "from subprocess import check_output,STDOUT,CalledProcessError\n",
    "import re\n",
    "import numpy as np\n",
    "import time\n",
    "import matplotlib.pyplot as plt"
   ]
  },
  {
   "cell_type": "markdown",
   "id": "3edaa576-991f-4729-a79e-827567ef0f77",
   "metadata": {},
   "source": [
    "## Part 1: HTML Review\n",
    "> 📄 **Work in:** [`mp2.ipynb`](mp2.ipynb)\n",
    "\n",
    "This first part of the project will serve as a review of some basic HTML and webscraping concepts."
   ]
  },
  {
   "cell_type": "markdown",
   "id": "cc5a0023-96be-49b0-abc6-45725a0f8031",
   "metadata": {},
   "source": [
    "### Q1: What is the email listed under the contact information in `sample.html`?\n",
    "\n",
    "Your output must be a **string** representing the email listed under the \"Contact Section\" of `sample.html`. \n",
    "\n",
    "**Hint:** Consider opening the HTML file and looking at it to get familiar with its structure. \n",
    "\n",
    "**Hint:** Begin by opening `sample.html`, then use `beautifulsoup4` to parse the html content and find the email. Use `find` to locate the \"Contact Section\" and find the email.\n",
    "\n",
    "**Note:** You must **not** hardcode the solution"
   ]
  },
  {
   "cell_type": "code",
   "execution_count": 3,
   "id": "9e55bb19-f2a8-4fd6-a31d-2445ca43a02b",
   "metadata": {},
   "outputs": [
    {
     "data": {
      "text/plain": [
       "'contact@example.com'"
      ]
     },
     "execution_count": 3,
     "metadata": {},
     "output_type": "execute_result"
    }
   ],
   "source": [
    "#Q1\n",
    "with open('sample.html',\"r\") as f:\n",
    "    contents=f.read()\n",
    "    soup=BeautifulSoup(contents,'html.parser')\n",
    "    contact_section = soup.find(id=\"contact\")\n",
    "    if contact_section:\n",
    "        email_tag = contact_section.find(\"a\", href=lambda href: href and href.startswith(\"mailto:\"))\n",
    "        email_candidate=email_tag.text\n",
    "    else:\n",
    "        email_candidate=None\n",
    "email_candidate\n",
    "        \n",
    "    \n"
   ]
  },
  {
   "cell_type": "markdown",
   "id": "09293efc-d3c5-4e03-81f8-cf4bbd6bb63d",
   "metadata": {},
   "source": [
    "### Requirement: Rankings DataFrame\n",
    "\n",
    "For the next few questions, you'll be tasked with analyzing and extracting world university rankings from a pre-saved HTML file, `rankings.html`, adapted from the [CWUR rankings](https://cwur.org/2020-21.php). To ensure efficiency and avoid overloading the original webpage with multiple requests, we've provided a local copy for all students. The goal of this first part is to parse the provided HTML file to collect and analyze data. \n",
    "\n",
    "\n",
    "Use BeautifulSoup to parse `rankings.html`, find the table containing the ranking data, and then save it as a Pandas DataFrame. You do not have to perform any typecasting of the data yet. **This DataFrame will be used in Q2-Q4**\n",
    "\n",
    "**Hint:** Use `find` or `find_all` to identify the table and its header."
   ]
  },
  {
   "cell_type": "code",
   "execution_count": 4,
   "id": "f2be6605-e011-407e-b358-d35e910d4da6",
   "metadata": {},
   "outputs": [],
   "source": [
    "\n",
    "\n",
    "\n",
    "with open(\"rankings.html\", \"r\", encoding=\"utf-8\") as f:\n",
    "    contents = f.read()\n",
    "\n",
    "\n",
    "soup = BeautifulSoup(contents, \"html.parser\")\n",
    "\n",
    "\n",
    "table = soup.find(\"table\", id=\"cwurTable\")\n",
    "\n",
    "\n",
    "header_cells = table.find(\"thead\").find_all(\"th\")\n",
    "columns = [cell.get_text(strip=True) for cell in header_cells]\n",
    "\n",
    "\n",
    "rows = []\n",
    "for tr in table.find(\"tbody\").find_all(\"tr\"):\n",
    "    cells = [td.get_text(strip=True) for td in tr.find_all(\"td\")]\n",
    "    rows.append(cells)\n",
    "\n",
    "\n",
    "rankings_df = pd.DataFrame(rows, columns=columns)\n",
    "\n",
    "\n"
   ]
  },
  {
   "cell_type": "markdown",
   "id": "7978a569-bcb6-45cd-9d12-dff0e4eb6ff2",
   "metadata": {},
   "source": [
    "### Q2: What is the highest-ranked institution in **Germany**?\n",
    "\n",
    "Your output must be a **string** representing the name of this institution.\n"
   ]
  },
  {
   "cell_type": "code",
   "execution_count": 5,
   "id": "7ba66eb8-fd73-49a0-96c7-2958530167eb",
   "metadata": {},
   "outputs": [
    {
     "data": {
      "text/plain": [
       "'Ludwig Maximilian University of Munich'"
      ]
     },
     "execution_count": 5,
     "metadata": {},
     "output_type": "execute_result"
    }
   ],
   "source": [
    "#Q2\n",
    "# Ensure the 'World Rank' column is numeric so sorting works correctly\n",
    "rankings_df['World Rank'] = rankings_df['World Rank'].astype(int)\n",
    "\n",
    "\n",
    "# Filter to only German entries\n",
    "germany = rankings_df[rankings_df['Country'] == \"Germany\"]\n",
    "# Sort by world rank ascending and grab the first institution\n",
    "top_german_details = germany.iloc[0]\n",
    "\n",
    "top_german_details[\"Institution\"]\n"
   ]
  },
  {
   "cell_type": "markdown",
   "id": "1e1072dd-0c5b-4350-ab89-aa22db2710da",
   "metadata": {},
   "source": [
    "### Q3: List the **lowest 10** institutions in the USA that were ranked **better** than the highest-ranked institution in **Germany**?\n",
    "\n",
    "Your output must be a **list** containing the names of the **lowest 10** universities from USA with a better World Rank than the best German institution. By better ranked, we refer to institutions with a lower value under the `World Rank` column.\n",
    "\n",
    "**Hint:** Get a list of **all** the universities from USA with a better rank than the best ranked German university, and then return the last 10 items of the list.\n",
    "\n",
    "**Important:** Keep in mind that the datatype of the values in the dataframe will initially be `string`. You will need to convert them to `numeric` in order to compare rankings. Consider using `pd.to_numeric()`.\n"
   ]
  },
  {
   "cell_type": "code",
   "execution_count": 6,
   "id": "a6798dbf-43c8-4150-bb85-f94d7b07549f",
   "metadata": {},
   "outputs": [
    {
     "data": {
      "text/plain": [
       "['Duke University',\n",
       " 'University of Illinois at Urbana–Champaign',\n",
       " 'University of Washington - Seattle',\n",
       " 'University of Wisconsin–Madison',\n",
       " 'New York University',\n",
       " 'University of Texas at Austin',\n",
       " 'University of California, San Diego',\n",
       " 'University of California, San Francisco',\n",
       " 'University of North Carolina at Chapel Hill',\n",
       " 'Dartmouth College']"
      ]
     },
     "execution_count": 6,
     "metadata": {},
     "output_type": "execute_result"
    }
   ],
   "source": [
    "#Q3\n",
    "\n",
    "best_german_rank=top_german_details['World Rank']\n",
    "\n",
    "\n",
    "usa_better_sorted = rankings_df[\n",
    "    (rankings_df['Country'] == \"USA\") &\n",
    "    (rankings_df['World Rank'] < best_german_rank)\n",
    "]\n",
    "\n",
    "lowest_10 = usa_better_sorted['Institution'].iloc[-10:]\n",
    "\n",
    "\n",
    "lowest_10.tolist()\n"
   ]
  },
  {
   "cell_type": "markdown",
   "id": "6712dc8d-d35a-4a4b-8188-763edabc7ac9",
   "metadata": {},
   "source": [
    "### Q4: What are the top five highest-ranked institutions based on `Research Rank` in **India**?\n",
    "\n",
    "Your output must be a **list** of institutions **sorted in increasing order** of their `Research Rank`.\n",
    "\n",
    "**Hint:** For sorting a DataFrame based on the values of a particular column, you can use the `DataFrame.sort_values(by=\"column_name\")` method (where `column_name` is the column on which you want to sort).\n",
    "\n",
    "**Important:** Keep in mind that the datatype of the values in the dataframe will initially be `string`. You will need to convert them to `numeric` in order to compare rankings. Consider using `pd.to_numeric()`.\n"
   ]
  },
  {
   "cell_type": "code",
   "execution_count": 7,
   "id": "3d951d45-fdf5-4162-a97c-6960056bec0e",
   "metadata": {},
   "outputs": [
    {
     "data": {
      "text/plain": [
       "['Indian Institute of Science',\n",
       " 'Tata Institute of Fundamental Research',\n",
       " 'Indian Institute of Technology Bombay',\n",
       " 'Indian Institute of Technology Madras',\n",
       " 'University of Delhi']"
      ]
     },
     "execution_count": 7,
     "metadata": {},
     "output_type": "execute_result"
    }
   ],
   "source": [
    "#Q4\n",
    "\n",
    "\n",
    "rankings_df['Research Rank'] = pd.to_numeric(rankings_df['Research Rank'], errors='coerce')\n",
    "\n",
    "india_df = rankings_df[rankings_df['Country'] == 'India']\n",
    "top_research_details=india_df.sort_values(by='Research Rank')\n",
    "\n",
    "top_5=top_research_details.head(5)[\"Institution\"]\n",
    "\n",
    "top_5.tolist()\n"
   ]
  },
  {
   "cell_type": "markdown",
   "id": "a1b3dc99-08d6-4f31-bb29-407da7d38029",
   "metadata": {},
   "source": [
    "## Part 2: Project History Analysis\n",
    "> 📄 **Work in:** [`mp2.ipynb`](mp2.ipynb)\n",
    "\n",
    "We have a copy of the flask repo in `flask.zip`.  Run `unzip flask.zip`.  If `unzip` is not installed, follow the suggestion in the error message to install it. If that suggestion doesn't work, try running it again, but adding `sudo` in front of it. This will run the command with root privileges. Now, try running `unzip flask.zip` again.\n"
   ]
  },
  {
   "cell_type": "markdown",
   "id": "fca235ee-91ca-429b-88af-6c1fdfae5b06",
   "metadata": {},
   "source": [
    "### Q5: What is the first line of output from `git log` when run in the `flask` repo directory?\n",
    "\n",
    "**Important:** Do not remove the first line of code. Because you will use `git checkout` commands (as required for following exercises) to switch the current (HEAD) commit, the output of `git log` will change (it will show the current commit and prior ones, but not future commits).  So you need to run `git checkout main` to bring the HEAD back to the latest commit before your code for this question.  Otherwise your answer to this question might only be correct the first time you run the notebook.\n",
    "\n",
    "If you pass `cwd=\"????\"` to `check_output` with your desired directory, you can run the `git log` command inside the `flask` directory that was created when you ran the `git clone` command.  \"CWD\" stands for \"change working directory\". For example, if I wanted to run `git branch` inside of a directory called `test-directory`, I could run the following code: `check_output([\"git\", \"branch\"], cwd=\"test-directory\")`.\n",
    "\n",
    "The `check_output` function in the `subprocess` module (https://docs.python.org/3.10/library/subprocess.html#subprocess.check_output) returns a byte sequence; consider converting it to a string (\"utf-8\" encoding) and splitting it by newline (`\\n`) to get a list. Save this list as a variable. This will be useful for answering the following questions.\n",
    "\n",
    "**Note:** All code for this question must be written directly in the Jupyter Notebook, and there must not be any hardcoding of values.\n"
   ]
  },
  {
   "cell_type": "code",
   "execution_count": 8,
   "id": "318b1f25-6d1e-4bc7-a6db-437e080ef490",
   "metadata": {},
   "outputs": [
    {
     "name": "stderr",
     "output_type": "stream",
     "text": [
      "Already on 'main'\n"
     ]
    },
    {
     "data": {
      "text/plain": [
       "b\"Your branch is up to date with 'origin/main'.\\n\""
      ]
     },
     "execution_count": 8,
     "metadata": {},
     "output_type": "execute_result"
    }
   ],
   "source": [
    "check_output([\"git\", \"checkout\", \"main\"], cwd=\"flask\") # DO NOT REMOVE"
   ]
  },
  {
   "cell_type": "code",
   "execution_count": 9,
   "id": "ebb94536-df54-4ab2-a9e5-d4e66c17aacb",
   "metadata": {},
   "outputs": [
    {
     "data": {
      "text/plain": [
       "'commit 660994efc761efdfd49ca442b73f6712dc77b6cf'"
      ]
     },
     "execution_count": 9,
     "metadata": {},
     "output_type": "execute_result"
    }
   ],
   "source": [
    "#Q5\n",
    "output=str(check_output([\"git\",\"log\"],cwd=\"flask\"),encoding=\"utf-8\").strip()\n",
    "allLines=output.split(\"\\n\")\n",
    "firstLineOfFirstCommit=allLines[0]\n",
    "firstLineOfFirstCommit"
   ]
  },
  {
   "cell_type": "markdown",
   "id": "f5392137-3f59-4049-b66e-4c0b2054c8a9",
   "metadata": {},
   "source": [
    "### Q6: What are the commit numbers of the 10 earliest commits?\n",
    "\n",
    "Answer with a list. Commits with earlier timestamp should be later in the list. \n",
    "If you created a list in the last question of all of the lines, all you will need to do is filter out the \"commit\" lines, and properly slice that list.\n",
    "(Hint: Since `git log` puts earlier commits later in the output, you don't need to reorder the commits.)\n",
    "\n",
    "**Note:** All code for this question must be written directly in the Jupyter Notebook, and there must not be any hardcoding of values.\n"
   ]
  },
  {
   "cell_type": "code",
   "execution_count": 10,
   "id": "a5a1adf0-9cac-42ef-989d-0f2f1a611bc6",
   "metadata": {},
   "outputs": [
    {
     "data": {
      "text/plain": [
       "['a9d4ea81da28ee9c894bf9d45adc4cfa9d52fddc',\n",
       " '727c701686c18c4a27ca523eb0c5862d497be24e',\n",
       " '4edec48b74dbb9d571e927b69b24c30ec0624975',\n",
       " '625eba4bb403296a8bbc1e72cc9cf4a5126f6c02',\n",
       " '4aa76212d1be9b17a57249549c2a73fb10b6cda8',\n",
       " '3b36bef2e6165bb4dad73d17f23ee1879e99f497',\n",
       " '44b42e0fbd93d86e0f4e929bda8e5fb63e81035d',\n",
       " '4ec7d2a0d8eac4f915dc0d38a886cd57045bb0c4',\n",
       " 'b15ad394279fc3b7f998fa56857f334a7c0156f6',\n",
       " '33850c0ebd23ae615e6823993d441f46d80b1ff0']"
      ]
     },
     "execution_count": 10,
     "metadata": {},
     "output_type": "execute_result"
    }
   ],
   "source": [
    "#Q6\n",
    "commitIds=output.split(\"commit \")[-10:]\n",
    "commitIds\n",
    "listFinal=[]\n",
    "for commit in commitIds:\n",
    "    commitId=commit.split(\"\\n\")[0]\n",
    "    listFinal.append(commitId)\n",
    "listFinal\n",
    "    "
   ]
  },
  {
   "cell_type": "markdown",
   "id": "9ab05469-6f24-4803-ae5e-d5553a70727b",
   "metadata": {},
   "source": [
    "### Q7: What did the `README` file contain after the 100th commit?\n",
    "\n",
    "Use `check_output` to run a `git checkout` command to switch to that commit, before reading `flask/README` the way you would read any regular text file in Python (using `open` and `.read`).\n",
    "\n",
    "**Note**: If you are not able to find a file called `flask/README` and instead see `flask/README.md` or `flask/README.rst`, then you are on the wrong commit.\n",
    "\n",
    "**Note:** All code for this question must be written directly in the Jupyter Notebook, and there must not be any hardcoding of values.\n",
    "\n"
   ]
  },
  {
   "cell_type": "code",
   "execution_count": 11,
   "id": "11235bbd-fd20-4dc9-9000-d5cf31a02c99",
   "metadata": {},
   "outputs": [
    {
     "name": "stderr",
     "output_type": "stream",
     "text": [
      "Already on 'main'\n",
      "Note: switching to 'f878919753a909e45b2d5448aa175f4f9129ff24'.\n",
      "\n",
      "You are in 'detached HEAD' state. You can look around, make experimental\n",
      "changes and commit them, and you can discard any commits you make in this\n",
      "state without impacting any branches by switching back to a branch.\n",
      "\n",
      "If you want to create a new branch to retain commits you create, you may\n",
      "do so (now or later) by using -c with the switch command. Example:\n",
      "\n",
      "  git switch -c <new-branch-name>\n",
      "\n",
      "Or undo this operation with:\n",
      "\n",
      "  git switch -\n",
      "\n",
      "Turn off this advice by setting config variable advice.detachedHead to false\n",
      "\n",
      "HEAD is now at f8789197 With -> with in headline\n"
     ]
    },
    {
     "data": {
      "text/plain": [
       "\"\\n                          // Flask //\\n\\n         because sometimes a pocket knife is not enough\\n\\n\\n    ~ What is Flask?\\n\\n      Flask is a microframework for Python based on Werkzeug\\n      and Jinja2.  It's intended for small scale applications\\n      and was development with best intentions in mind.\\n\\n    ~ Is it ready?\\n\\n      A preview release is out now, and I'm hoping for some\\n      input about what you want from a microframework and\\n      how it should look like.  Consider the API to slightly\\n      improve over time.\\n\\n    ~ What do I need?\\n\\n      Jinja 2.4 and Werkzeug 0.6.1.  `easy_install` will\\n      install them for you if you do `easy_install Flask==dev`.\\n      I encourage you to use a virtualenv.  Check the docs for\\n      complete installation and usage instructions.\\n\\n    ~ Where are the docs?\\n\\n      Go to http://flask.pocoo.org/ for a prebuild version of\\n      the current documentation.  Otherwise build them yourself\\n      from the sphinx sources in the docs folder.\\n\""
      ]
     },
     "execution_count": 11,
     "metadata": {},
     "output_type": "execute_result"
    }
   ],
   "source": [
    "#Q7\n",
    "\n",
    "# 1. Make sure you’re back on main\n",
    "check_output([\"git\", \"checkout\", \"main\"], cwd=\"flask\")\n",
    "\n",
    "# 2. Build the list of commit hashes in chronological order\n",
    "log = check_output([\"git\", \"log\", \"--reverse\", \"--format=%H\"], cwd=\"flask\")\n",
    "commits = log.decode(\"utf-8\").splitlines()\n",
    "\n",
    "# 3. Grab the 100th commit (index 99)\n",
    "commit_100 = commits[99]\n",
    "\n",
    "# 4. Check out that commit\n",
    "check_output([\"git\", \"checkout\", commit_100], cwd=\"flask\")\n",
    "\n",
    "# 5. Read the README file at that commit\n",
    "with open(\"flask/README\", \"r\", encoding=\"utf-8\") as f:\n",
    "    readme_at_100 = f.read()\n",
    "\n",
    "readme_at_100\n"
   ]
  },
  {
   "cell_type": "markdown",
   "id": "40d4da56-19e2-4409-acb4-77b6b7a51fe3",
   "metadata": {},
   "source": [
    "### Q8: How many pull requests were merged from each GitHub user?  Only output users who appear 10 or more times.\n",
    "\n",
    "When running `git log`, you'll see some entries like this:\n",
    "\n",
    "```\n",
    "commit 7b0c82dfdc867641dd6e1b200f735bffd66e4c12\n",
    "Merge: c5ca1750 a841cfab\n",
    "Author: David Lord <davidism@gmail.com>\n",
    "Date:   Wed Dec 22 17:10:24 2021 -0800\n",
    "\n",
    "    Merge pull request #4350 from olliemath/patch-1\n",
    "    \n",
    "    Only use a custom JSONDecoder if needed\n",
    "```\n",
    "\n",
    "This means the code was approved by David Lord (who has permission to make changes), but the code change was written and proposed by olliemath.\n",
    "\n",
    "Whenever a line from `git log` contains the text \"Merge pull request\" and \"/\", extract the username immediately before the \"/\".  Count occurrences of usernames in a dictionary like the following:\n",
    "\n",
    "```\n",
    "{'pallets': 204,\n",
    " 'pgjones': 14,\n",
    " 'greyli': 42,\n",
    " 'ThiefMaster': 11,\n",
    " 'davidism': 45,\n",
    " 'untitaker': 20,\n",
    " 'ThomasWaldmann': 13,\n",
    " 'SimonSapin': 11}\n",
    "```\n",
    "\n",
    "**Note**: There will be some entries like the following that are actually undoing a pull request:\n",
    "\n",
    "```\n",
    "Revert \"Merge pull request #859 from wvh/register_error_handler\"\n",
    "```\n",
    "\n",
    "For simplicity, we'll count these just like the original pull requests.\n",
    "\n",
    "**Important:** If your values are off/incorrect, it is likely that you are on the wrong branch/commit. Make sure that you are on **main**. \n",
    "\n",
    "**Note:** All code for this question must be written directly in the Jupyter Notebook, and there must not be any hardcoding of values.\n"
   ]
  },
  {
   "cell_type": "code",
   "execution_count": 12,
   "id": "f7454545-22fe-40aa-a9b8-736cef214aed",
   "metadata": {},
   "outputs": [
    {
     "name": "stderr",
     "output_type": "stream",
     "text": [
      "Previous HEAD position was f8789197 With -> with in headline\n",
      "Switched to branch 'main'\n"
     ]
    },
    {
     "data": {
      "text/plain": [
       "b\"Your branch is up to date with 'origin/main'.\\n\""
      ]
     },
     "execution_count": 12,
     "metadata": {},
     "output_type": "execute_result"
    }
   ],
   "source": [
    "check_output([\"git\", \"checkout\", \"main\"], cwd=\"flask\") # DO NOT REMOVE"
   ]
  },
  {
   "cell_type": "code",
   "execution_count": 13,
   "id": "b0b1b2bd-1843-4a68-9bc3-d16075406d8f",
   "metadata": {},
   "outputs": [
    {
     "data": {
      "text/plain": [
       "{'pallets': 204,\n",
       " 'pgjones': 14,\n",
       " 'greyli': 42,\n",
       " 'ThiefMaster': 11,\n",
       " 'davidism': 45,\n",
       " 'untitaker': 20,\n",
       " 'ThomasWaldmann': 13,\n",
       " 'SimonSapin': 11}"
      ]
     },
     "execution_count": 13,
     "metadata": {},
     "output_type": "execute_result"
    }
   ],
   "source": [
    "#Q8\n",
    "\n",
    "\n",
    "\n",
    "subjects = check_output(\n",
    "    [\"git\", \"log\", \"--pretty=format:%s\"],\n",
    "    cwd=\"flask\"\n",
    ").decode(\"utf-8\").splitlines()\n",
    "\n",
    "\n",
    "pattern = re.compile(r\"Merge pull request #\\d+ from ([^/]+)/\")\n",
    "users = [m.group(1) for subj in subjects if (m := pattern.search(subj))]\n",
    "\n",
    "\n",
    "counts = Counter(users)\n",
    "\n",
    "\n",
    "merged_prs_per_user = {user: cnt for user, cnt in counts.items() if cnt >= 10}\n",
    "\n",
    "merged_prs_per_user\n"
   ]
  },
  {
   "cell_type": "markdown",
   "id": "4f96a404-38aa-4ab2-84ab-cc68d4b9a046",
   "metadata": {},
   "source": [
    "### Q9: What is the output of `pip3 instal`?  (yes, the misspelling was intentional)\n",
    "\n",
    "This one will be difficult because the command will fail, triggering\n",
    "an exception.  First, run this by itself to determine what exception\n",
    "type is thrown in this circumstance:\n",
    "\n",
    "```python\n",
    "check_output([\"pip3\", \"instal\"])\n",
    "```\n",
    "\n",
    "Now, adapt this code to get the output, regardless of whether the program runs or fails:\n",
    "\n",
    "Search the page here to learn about the exception type, and import it: https://docs.python.org/3/library/subprocess.html\n",
    "\n",
    "Then, use that information to catch exceptions of that type (fill in the missing exception type):\n",
    "\n",
    "```python\n",
    "import subprocess\n",
    "\n",
    "try:\n",
    "    msg = check_output([\"pip3\", \"instal\"], stderr=subprocess.STDOUT)\n",
    "except subprocess.???? as e:\n",
    "    msg = e.output\n",
    "```\n",
    "\n",
    "Note that `stderr=subprocess.STDOUT` tells `check_output` that error\n",
    "messages should be treated as regular output -- that lets us capture\n",
    "the output with `e.output`.\n",
    "\n",
    "**Hint:** Consider using `decode()` to convert binary outputs to string type.\n",
    "\n",
    "**Note:** All code for this question must be written directly in the Jupyter Notebook, and there must not be any hardcoding of values.\n"
   ]
  },
  {
   "cell_type": "code",
   "execution_count": 14,
   "id": "12dd11d6-7f75-4110-b115-13428e637b09",
   "metadata": {},
   "outputs": [
    {
     "data": {
      "text/plain": [
       "'ERROR: unknown command \"instal\" - maybe you meant \"install\"\\n'"
      ]
     },
     "execution_count": 14,
     "metadata": {},
     "output_type": "execute_result"
    }
   ],
   "source": [
    "#Q9\n",
    "\n",
    "try:\n",
    "    # Attempt the misspelled pip command, capturing stderr as stdout\n",
    "    msg = check_output(\n",
    "        [\"pip3\", \"instal\"],\n",
    "        stderr=STDOUT\n",
    "    )\n",
    "except CalledProcessError as e:\n",
    "    # CalledProcessError is raised when the command exits with non-zero status\n",
    "    msg = e.output\n",
    "\n",
    "# Decode the byte output to a UTF-8 string\n",
    "output_str = msg.decode(\"utf-8\")\n",
    "output_str\n"
   ]
  },
  {
   "cell_type": "markdown",
   "id": "735fa21a-c685-459a-9864-f0e50f21d32b",
   "metadata": {},
   "source": [
    "## Part 3: Benchmarking\n",
    "> 📄 **Work in:** [`mp2.ipynb`](mp2.ipynb)\n",
    "\n",
    "In this final part of the machine project, we will work on some benchmarking. This will allow us\n",
    "to time things to see how long they take which gives us a good idea as to what methods\n",
    "or functions are faster. It is recommended that you try to remember that we did this testing\n",
    "as we will be using these functions throughout the semester and opting for the faster options\n",
    "will optimize you code later in the semester."
   ]
  },
  {
   "cell_type": "markdown",
   "id": "34c4d347-c870-4cbe-b8b0-21abd9dd8c1d",
   "metadata": {},
   "source": [
    "### Q10: What is faster for looping over a DataFrame, `iterrows` or `itertuples`?\n",
    "\n",
    "We'll want to generate test data of various sizes. The actual values of this data is irrelevant, we just need something to loop through for timing of different methods. Use the provided function `rand_df` for that purpose.\n",
    "\n",
    "Answer with a plot as follows:\n",
    "* x-axis is number of number of rows in a DataFrame\n",
    "* y-axis is milliseconds is how long it takes to loop over the DataFrame\n",
    "* two lines: one for `iterrows` and one for `itertuples`\n",
    "\n",
    "You can generate a random DataFrame with 500 rows like this:\n",
    "\n",
    "```python\n",
    "df = rand_df(500)\n",
    "```\n",
    "\n",
    "And then you can take a measurement like this:\n",
    "\n",
    "```python\n",
    "import time\n",
    "\n",
    "t0 = time.time()\n",
    "# HOW LONG DOES THIS TAKE TO RUN, FOR DATAFRAMES WITH DIFFERENT NUMBERS OF ROWS?\n",
    "for row in df.iterrows():\n",
    "    pass\n",
    "t1 = time.time()\n",
    "```\n",
    "\n",
    "Your plot should look something like this. Some noise is OK as long as you get the same general shape (we get a slightly different plot each time we measure ourselves).\n",
    "\n",
    "**_Make sure to include a title, axis labels, and a legend_**\n",
    "\n",
    "**Important:** The labels of the lines must be `iterrows` and `itertuples` as shown below\n",
    "\n",
    "<img src=\"img/q10.png\" width=\"400px\">"
   ]
  },
  {
   "cell_type": "code",
   "execution_count": 15,
   "id": "f17a7eda-0ed9-4ca8-bafe-ae2f090f9fe3",
   "metadata": {},
   "outputs": [],
   "source": [
    "def rand_df(rows):\n",
    "    return pd.DataFrame(np.random.randint(10, size=(rows, 5)),\n",
    "                        columns=[\"A\", \"B\", \"C\", \"D\", \"E\"],\n",
    "                        index=[f\"r{i}\" for i in range(1, rows+1)])"
   ]
  },
  {
   "cell_type": "code",
   "execution_count": 16,
   "id": "b39adaba-29b6-4687-9320-fe90509e7b77",
   "metadata": {},
   "outputs": [
    {
     "data": {
      "image/png": "[encoded data removed]",
      "text/plain": [
       "<Figure size 640x480 with 1 Axes>"
      ]
     },
     "metadata": {},
     "output_type": "display_data"
    }
   ],
   "source": [
    "#Q10\n",
    "\n",
    "# 1. Choose DataFrame sizes to test\n",
    "row_counts = [100, 500, 1000, 2000, 5000]\n",
    "\n",
    "# 2. Containers for timings (in ms)\n",
    "times_iterrows = []\n",
    "times_itertuples = []\n",
    "\n",
    "# 3. Benchmark loops\n",
    "for n in row_counts:\n",
    "    df = rand_df(n)\n",
    "\n",
    "    # iterrows timing\n",
    "    t0 = time.time()\n",
    "    for _ in df.iterrows():\n",
    "        pass\n",
    "    times_iterrows.append((time.time() - t0) * 1000)\n",
    "\n",
    "    # itertuples timing\n",
    "    t0 = time.time()\n",
    "    for _ in df.itertuples():\n",
    "        pass\n",
    "    times_itertuples.append((time.time() - t0) * 1000)\n",
    "\n",
    "# 4. Plot results\n",
    "fig, ax = plt.subplots()\n",
    "ax.plot(row_counts, times_iterrows, label=\"iterrows\")\n",
    "ax.plot(row_counts, times_itertuples, label=\"itertuples\")\n",
    "ax.set_title(\"Benchmark: iterrows vs itertuples\")\n",
    "ax.set_xlabel(\"Number of rows in DataFrame\")\n",
    "ax.set_ylabel(\"Time (milliseconds)\")\n",
    "ax.legend()\n",
    "\n",
    "# 5. Save figure for submission (do not remove)\n",
    "with open(\"Q10.pkl\", \"wb\") as f:\n",
    "    pickle.dump(fig, f)\n",
    "\n",
    "plt.show()\n",
    "plt.close()"
   ]
  },
  {
   "cell_type": "markdown",
   "id": "ab47790b-0b6a-45a6-885b-f92996710342",
   "metadata": {},
   "source": [
    "### Q11: What is faster, `loc`, or `at`?\n",
    "\n",
    "Answer with a line plot, similar to the one for the previous question.  Here is a code snippet to use for the measurement (adapt to measure `.at` as well):\n",
    "\n",
    "```python\n",
    "# HOW LONG DOES THIS TAKE TO RUN, FOR DATAFRAMES WITH DIFFERENT NUMBERS OF ROWS?\n",
    "total = 0\n",
    "for idx in df.index:\n",
    "    for col in df.columns:\n",
    "        total += df.loc[idx, col]\n",
    "```\n",
    "\n",
    "**_Make sure to include a title, axis labels, and a legend_**\n",
    "\n",
    "**Important:** The labels of the lines must be `.loc` and `.at` as shown below\n",
    "\n",
    "<img src=\"img/q11.png\" width=\"400px\">"
   ]
  },
  {
   "cell_type": "code",
   "execution_count": 17,
   "id": "d6576ce3-580e-4e35-ae20-f059e78d91fa",
   "metadata": {},
   "outputs": [
    {
     "data": {
      "image/png": "[encoded data removed]",
      "text/plain": [
       "<Figure size 640x480 with 1 Axes>"
      ]
     },
     "metadata": {},
     "output_type": "display_data"
    }
   ],
   "source": [
    "#Q11\n",
    "\n",
    "row_counts = [100, 500, 1000, 2000, 5000]\n",
    "times_loc = []\n",
    "times_at = []\n",
    "\n",
    "for n in row_counts:\n",
    "    df = rand_df(n)\n",
    "    \n",
    "    # Timing .loc\n",
    "    t0 = time.time()\n",
    "    total = 0\n",
    "    for idx in df.index:\n",
    "        for col in df.columns:\n",
    "            total += df.loc[idx, col]\n",
    "    times_loc.append((time.time() - t0) * 1000)  # milliseconds\n",
    "    \n",
    "    # Timing .at\n",
    "    t0 = time.time()\n",
    "    total = 0\n",
    "    for idx in df.index:\n",
    "        for col in df.columns:\n",
    "            total += df.at[idx, col]\n",
    "    times_at.append((time.time() - t0) * 1000)  # milliseconds\n",
    "\n",
    "# Plotting\n",
    "fig, ax = plt.subplots()\n",
    "ax.plot(row_counts, times_loc, label=\".loc\")\n",
    "ax.plot(row_counts, times_at, label=\".at\")\n",
    "ax.set_title(\"Benchmark: .loc vs .at\")\n",
    "ax.set_xlabel(\"Number of rows in DataFrame\")\n",
    "ax.set_ylabel(\"Time (milliseconds)\")\n",
    "ax.legend()\n",
    "\n",
    "# Save figure for Q11\n",
    "with open(\"Q11.pkl\", \"wb\") as f:\n",
    "    pickle.dump(fig, f)\n",
    "\n",
    "plt.show()\n",
    "plt.close()"
   ]
  },
  {
   "cell_type": "markdown",
   "id": "46d3b7ec-bde2-4ca6-97a9-3bf11ead0794",
   "metadata": {},
   "source": [
    "### Q12: What is faster, a loop or `.apply`?\n",
    "\n",
    "Answer this one with a line plot similar to the last two.  You should, however, have measurements going up to 20000 rows.\n",
    "\n",
    "The two code snippets to measure:\n",
    "\n",
    "```python\n",
    "# HOW LONG DOES THIS TAKE TO RUN, FOR DATAFRAMES WITH DIFFERENT NUMBERS OF ROWS?\n",
    "result = df[\"A\"].apply(laugh).tolist()\n",
    "```\n",
    "\n",
    "AND\n",
    "\n",
    "```python\n",
    "# HOW LONG DOES THIS TAKE TO RUN, FOR DATAFRAMES WITH DIFFERENT NUMBERS OF ROWS?\n",
    "result = []\n",
    "for val in df[\"A\"]:\n",
    "    result.append(laugh(val))\n",
    "```\n",
    "\n",
    "Use the `laugh` function provided below\n",
    "\n",
    "**_Make sure to include a title, axis labels, and a legend_**\n",
    "\n",
    "**Important:** The labels of the lines must be `apply` and `loop` as shown below\n",
    "\n",
    "<img src=\"img/q12.png\" width=\"400px\">"
   ]
  },
  {
   "cell_type": "code",
   "execution_count": 18,
   "id": "d662f3e8-2983-487c-9f76-de75091a94e1",
   "metadata": {},
   "outputs": [],
   "source": [
    "def laugh(x):\n",
    "    return \"qwerty\" * x"
   ]
  },
  {
   "cell_type": "code",
   "execution_count": 19,
   "id": "2c116821-312b-46bc-959f-d3e17b2149e9",
   "metadata": {},
   "outputs": [
    {
     "data": {
      "image/png": "[encoded data removed]",
      "text/plain": [
       "<Figure size 640x480 with 1 Axes>"
      ]
     },
     "metadata": {},
     "output_type": "display_data"
    }
   ],
   "source": [
    "#Q12\n",
    "\n",
    "row_counts = [1000, 5000, 10000, 15000, 20000]\n",
    "times_apply = []\n",
    "times_loop = []\n",
    "\n",
    "for n in row_counts:\n",
    "    # Use a constant value (5) for every row so timings are stable\n",
    "    df = pd.DataFrame({\"A\": [5] * n})\n",
    "    \n",
    "    # Measure .apply\n",
    "    t0 = time.time()\n",
    "    _ = df[\"A\"].apply(laugh).tolist()\n",
    "    times_apply.append((time.time() - t0) * 1000)\n",
    "    \n",
    "    # Measure Python loop\n",
    "    t0 = time.time()\n",
    "    result = []\n",
    "    for val in df[\"A\"]:\n",
    "        result.append(laugh(val))\n",
    "    times_loop.append((time.time() - t0) * 1000)\n",
    "\n",
    "# Plotting\n",
    "fig, ax = plt.subplots()\n",
    "ax.plot(row_counts, times_apply, label=\"apply\")\n",
    "ax.plot(row_counts, times_loop, label=\"loop\")\n",
    "ax.set_title(\"Benchmarking: apply vs. loop\")\n",
    "ax.set_xlabel(\"Number of Rows\")\n",
    "ax.set_ylabel(\"Milliseconds\")\n",
    "ax.legend()\n",
    "\n",
    "# IMPORTANT -- Do not remove --\n",
    "with open(\"Q12.pkl\", \"wb\") as f:\n",
    "    pickle.dump(fig, f)\n",
    "\n",
    "plt.show()\n",
    "plt.close(fig)"
   ]
  },
  {
   "cell_type": "markdown",
   "id": "e8651b33-00a9-42d9-9d3e-0fd2483b9472",
   "metadata": {},
   "source": [
    "## <span style=\"color:red\">Important:</span>\n",
    "Make sure to follow these steps to submit the project\n",
    "1. **Kernel > Restart Kernel and Run All Cells** and then save the notebook\n",
    "2. Run `tester.py` to check your answers\n",
    "3. Run the following commands from the terminal:\n",
    "```\n",
    "git status # make sure you are in the correct branch\n",
    "git add <required files>\n",
    "git commit -m \"Some message\"\n",
    "git push\n",
    "```\n",
    "4. Once you've pushed your project to GitLab, **verify that the pipeline ran successfully**.\n",
    "    * Build > Jobs > Select the latest commit hash > Check tester output\n",
    "5. Create a **_merge request_** to submit the project\n",
    "    * Code > Merge requests > New merge request"
   ]
  },
  {
   "cell_type": "code",
   "execution_count": null,
   "id": "5da4a204-34df-48a9-ab50-a2b2afe47c46",
   "metadata": {},
   "outputs": [],
   "source": []
  },
  {
   "cell_type": "code",
   "execution_count": null,
   "id": "c0cffaf9-df9b-45de-9b74-eaa590ab5ea0",
   "metadata": {},
   "outputs": [],
   "source": []
  }
 ],
 "metadata": {
  "kernelspec": {
   "display_name": "Python 3 (ipykernel)",
   "language": "python",
   "name": "python3"
  },
  "language_info": {
   "codemirror_mode": {
    "name": "ipython",
    "version": 3
   },
   "file_extension": ".py",
   "mimetype": "text/x-python",
   "name": "python",
   "nbconvert_exporter": "python",
   "pygments_lexer": "ipython3",
   "version": "3.10.12"
  }
 },
 "nbformat": 4,
 "nbformat_minor": 5
}
