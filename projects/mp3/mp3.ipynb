{
 "cells": [
  {
   "cell_type": "markdown",
   "id": "c56144cb-0028-4480-86a6-9615d20a18a4",
   "metadata": {},
   "source": [
    "# Machine Project 3: Loan Analysis"
   ]
  },
  {
   "cell_type": "markdown",
   "id": "b6587a98-dcd6-4b4a-8dde-3fd3cbfb1ab1",
   "metadata": {},
   "source": [
    "#### <span style=\"color:red\">Make sure to read the [README](README.md) before starting this project</span>"
   ]
  },
  {
   "cell_type": "markdown",
   "id": "445c8b5e-5bd8-4ed9-8be8-fa157da5354d",
   "metadata": {},
   "source": [
    "## Required Information\n",
    "\n",
    "Please fill out the following details.  \n",
    "- Enter your **full name (as it appears on Canvas)** and **NetID**.  \n",
    "- If you are working in a group (maximum of 4 members), include the **full names and NetIDs** of all your partners.  \n",
    "- If you're working alone, enter `None` for the partner fields.\n",
    "\n",
    "> **Important:** Each student must submit the project individually.  \n",
    "Failure to complete this section may result in your submission being flagged for plagiarism."
   ]
  },
  {
   "cell_type": "code",
   "execution_count": null,
   "id": "d0a0e421-3a79-4261-a57e-faa57f22ec5a",
   "metadata": {},
   "outputs": [],
   "source": [
    "# Project: MP3\n",
    "# Student 1: <Name>, <NETID>\n",
    "# Student 2: <Name>, <NETID>\n",
    "# Student 3: <Name>, <NETID>\n",
    "# Student 4: <Name>, <NETID>"
   ]
  },
  {
   "cell_type": "markdown",
   "id": "2a9a3886-113d-4071-8159-2147613fd027",
   "metadata": {},
   "source": [
    "## <span style=\"color:red\">Important:</span>\n",
    "\n",
    "* **Before you begin**, make sure to `pull` any changes from GitLab. From the terminal, run:\n",
    "```\n",
    "git checkout main\n",
    "git pull\n",
    "git checkout MP3\n",
    "git merge main\n",
    "```\n",
    "* Follow all instructions carefully. If anything is unclear, attend office hours or post on Piazza.\n",
    "* You may add additional code cells as needed. However, **only cells with `#Q_` in the code will be graded**.\n",
    "* To test, **Restart and Run all Cells** then **save the notebook** and run `python3 tester.py` from the terminal\n",
    "\n",
    "> ⚠️ **Reminders:**\n",
    ">\n",
    "> - Make sure you are on the `MP3` branch by running `git branch` and checking the output.\n",
    "> - Frequently `add`, `commit`, and `push` your code to avoid losing progress.\n"
   ]
  },
  {
   "cell_type": "code",
   "execution_count": null,
   "id": "e072b461-ab94-432b-a401-73350b12565c",
   "metadata": {},
   "outputs": [],
   "source": [
    "# Add additional imports used throughout the project here\n",
    "\n",
    "# these lines automatically reload modules when their code changes\n",
    "%load_ext autoreload\n",
    "%autoreload 2\n",
    "\n",
    "import pickle # used for grading graphs"
   ]
  },
  {
   "cell_type": "markdown",
   "id": "2dcd84ff-6672-47f3-adf2-bce011b64970",
   "metadata": {},
   "source": [
    "# Group Part (75%)\n",
    "\n",
    "For this portion of the machine project, you may collaborate with your group members in any way (including looking at group members' code). You may also seek help from CS 320 course staff (peer mentors, TAs, and the instructor). You **may not** seek or receive help from other CS 320 students (outside of your group) or anybody else outside of the course.\n",
    "\n",
    "## Part 1: Loan Classes\n",
    "> 📄 **Work in:** [`loans.py`](loans.py)\n",
    "\n",
    "For part 1 of this machine project, you will be working to create custom classes for handling data related to loans. These classes will allow us to easily take in large amounts of data and format it in a way that is easy for us to work with and analyze. \n",
    "\n",
    "To begin, finish the `Applicant` and `Loan` classes from [Lab 3](../../labs/Lab3/README.md) (if you haven't already done so). These classes hold data about people who apply to loans and other data related to loans respectively.\n",
    "\n",
    "We'll now add a `Bank` class to `loans.py` file that can keep track of some bank information as well as a list of `Loan` objects that are tied to this bank.  A `Bank` object can be created like this (create a class with the necessary constructor for this to work):\n",
    "\n",
    "```python\n",
    "lcu = loans.Bank(\"Landmark Credit Union\")\n",
    "```\n",
    "\n",
    "### banks.json\n",
    "\n",
    "The `__init__` of your `Bank` class should check that the given name appears in the `banks.json` file.  If it does, the `__init__` should also lookup the `lei` (\"Legal Entity Identifier\") corresponding to the name and store that in an `lei` attribute.  In other words, `lcu.lei` should give the LEI for LCU, in this case \"549300KY533JFETOYG46\".\n",
    "\n",
    "**Note**: Try to avoid reading in the `banks.json` file each time you create a new `Bank` object. Instead, try defining it outside of the `Bank` class to optimize the creation of new `Bank` objects.\n",
    "\n",
    "### wi.zip\n",
    "\n",
    "The `__init__` should also iterate over the loan data from the CSV inside of `wi.zip` and either skip the loan data if the `lei` doesn't match that of the `Bank` object, or create a `Loan` object from the loan data if the `lei` does match and append it to a list that is stored as an attribute in the `Bank` object called `loan_list`. For example, someone should be able to call `lcu.loan_list` to get a list of all of the `Loan` objects that have the same `lei` as the `Bank` object we created above.\n",
    "\n",
    "You already learned how to read text from a zip file in lab using `TextIOWrapper` and the `zipfile` module. Read the documentation and example for how to read CSV files with `DictReader` here: https://docs.python.org/3/library/csv.html#csv.DictReader.  You can combine this with what you learned about zipfiles.  When you create a `DictReader`, just pass in a `TextIOWrapper` object instead of a regular file object.\n",
    "\n",
    "### Special Methods\n",
    "\n",
    "Using this new `loan_list` attribute, you are able to print the last loan for this `Bank` object using:\n",
    "\n",
    "```python\n",
    "print(lcu.loan_list[-1])\n",
    "```\n",
    "\n",
    "And we can check how many loans there are associated with this `Bank` object using:\n",
    "\n",
    "```python\n",
    "print(len(lcu.loan_list))\n",
    "```\n",
    "\n",
    "For convenience, we want to be able to directly use brackets and `len` directly on `Bank` objects, like this:\n",
    "* `lcu[-1]`\n",
    "* `len(lcu)`\n",
    "\n",
    "Add the special methods to `Bank` necessary to make the above two lines of code work.\n",
    "\n",
    "## Testing\n",
    "\n",
    "Running `python3 tester.py` does two things:\n",
    "\n",
    "1. Compute a score based on whether answers in your `mp3.ipynb` are correct.\n",
    "2. Get a second score by running `module_tester.py`, which exercises various classes/methods in `loan.py` (already done) and `search.py` (the next part)\n",
    "\n",
    "Your total score is an average of these two components.\n",
    "\n",
    "Try running `python3 module_tester.py` now.  You should see the following (assuming you haven't worked ahead on `search.py`):\n",
    "\n",
    "```\n",
    "{'score': 40.0, 'errors': ['could not find search module']}\n",
    "```\n",
    "\n",
    "It should actually be possible to get 50.0 from `module_tester.py`\n",
    "after just completing `loans.py`, but we left some tests undone so you\n",
    "can get practice writing tests for yourself.\n",
    "\n",
    "Open `module_tester.py` and take a look at the `loans_test`.  The\n",
    "function tries different things (e.g., creating different `Loan` and\n",
    "`Applicant` objects and calling various methods).\n",
    "\n",
    "Whenever something works, a global variable `loans_points` is\n",
    "increased.  There are also asserts, and if any fail, the test stops\n",
    "giving points.  For example, here's a bit that tests the `lower_age`\n",
    "method:\n",
    "\n",
    "```python\n",
    "    # lower_age\n",
    "    assert loans.Applicant(\"<25\", []).lower_age() == 25\n",
    "    assert loans.Applicant(\"20-30\", []).lower_age() == 20\n",
    "    assert loans.Applicant(\">75\", []).lower_age() == 75\n",
    "    loans_points += 1\n",
    "```\n",
    "\n",
    "### Requirement: Additional tests in `module_tester.py`\n",
    "You should add some additional test code of your choosing \n",
    "(based on where you think bugs are most likely to occur).  When the \n",
    "additional code shows that `loans.py` works correctly, it should add 4 \n",
    "points to `loan_points`.  You could do this is one step (`loans_points += 4`),\n",
    "or better, divide the points over the testing of a few different\n",
    "aspects.\n",
    "\n",
    "There are not any specific requirements for additional testing -- just make sure \n",
    "that you do add a new test (or more) and then give yourself more points.\n",
    "\n",
    "### Debugging the Module Tester\n",
    "\n",
    "If you are not currently passing the module tester, it is likely that you are failing one of the test cases which are created using `assert`. One common way of debugging these errors is by using print debugging. Here is an example of how print debugging might work for this machine project:\n",
    "\n",
    "Let's say the following `assert` statement is failing:\n",
    "\n",
    "```python\n",
    "...\n",
    "assert loans.Applicant(\"<25\", []).lower_age() == 25\n",
    "...\n",
    "```\n",
    "\n",
    "Adding a print statement above this line with `loans.Applicant(\"<25\", []).lower_age()` will let us know the output of this code. So our code would now look something like this:\n",
    "\n",
    "```python\n",
    "...\n",
    "print(loans.Applicant(\"<25\", []).lower_age())\n",
    "assert loans.Applicant(\"<25\", []).lower_age() == 25\n",
    "...\n",
    "```\n",
    "\n",
    "From here, we will be able to see what our code is outputting and can modify our code accordingly. For example, if we see that our code is printing `'25'`, we now know that our code is outputting a string instead of an int, and we can make the appropriate change in `loans.py` before rerunning the module tester.\n",
    "\n",
    "## Part 2: Binary Search Tree\n",
    "> 📄 **Work in:** [`search.py`](search.py)\n",
    "\n",
    "For part 2 of this machine project, you will be creating custom classes for a `Node` and `BST` data structures. These classes will allow us to lookup specific `Loan` objects efficiently as we will see in the questions below.\n",
    "\n",
    "To begin, finish the `Node` and `BST` classes from [Lab 4](../../labs/Lab4/README.md) (if you haven't already done so). \n",
    "\n",
    "**Note:** if we haven't gotten to BSTs in lecture and lab yet, you can still work on some of the questions in parts 3 and 4, but you should wait to work on the ones related to trees.\n",
    "\n",
    "### Special Method\n",
    "\n",
    "Add a special method to `BST` so that if `t` is a `BST` object so that it is possible to lookup items with `t[\"some key\"]` instead of `t.root.lookup(\"some key\")`."
   ]
  },
  {
   "cell_type": "markdown",
   "id": "c8c59b9b-584e-4efe-a20d-25b808fdc223",
   "metadata": {},
   "source": [
    "## Part 3: 'Merchants Bank of Indiana' Analysis\n",
    "> 📄 **Work in:** [`mp3.ipynb`](mp3.ipynb)\n",
    "\n",
    "For part 3 of this machine project, we will begin using the custom classes we created to do analysis on some banks, loans, and applicants. We will use our newly created `Bank`, `Loan`, and `Applicant` classes to do this analysis.\n",
    "\n",
    "For the following questions, create a `Bank` object for the bank named \"Merchants Bank of Indiana\"."
   ]
  },
  {
   "cell_type": "code",
   "execution_count": null,
   "id": "b4c23854-f8f2-4409-94d7-dc7d2a54fc4a",
   "metadata": {},
   "outputs": [],
   "source": [
    "# Create Bank object for \"Merchants Bank of Indiana\""
   ]
  },
  {
   "cell_type": "markdown",
   "id": "7675eb63-47d9-414b-ad84-e0329490d6b3",
   "metadata": {},
   "source": [
    "### Q1: What is the average interest rate for the bank?\n",
    "\n",
    "Skip loans where the interest rate is not specified (`-1`) in your calculation."
   ]
  },
  {
   "cell_type": "code",
   "execution_count": null,
   "id": "bf6ef0c9-9110-41d7-aa89-904bf6566d73",
   "metadata": {},
   "outputs": [],
   "source": [
    "#Q1"
   ]
  },
  {
   "cell_type": "markdown",
   "id": "68ce2208-2df4-40ad-bb4a-82f3ddfb54fd",
   "metadata": {},
   "source": [
    "### Q2: How many applicants are there per loan, on average?"
   ]
  },
  {
   "cell_type": "code",
   "execution_count": null,
   "id": "4198a3fc-7de1-4162-91fe-8c11ee711bbb",
   "metadata": {},
   "outputs": [],
   "source": [
    "#Q2"
   ]
  },
  {
   "cell_type": "markdown",
   "id": "1a366fd3-f201-4b21-83ba-19e47db4a149",
   "metadata": {},
   "source": [
    "### Q3: What is the distribution of ages?\n",
    "\n",
    "Answer with a dictionary, like this:\n",
    "\n",
    "```\n",
    "{'65-74': 6, '<25': 2, ...}\n",
    "```\n",
    "\n",
    "Remember that the order of the keys does **not** matter, so if the tester is giving you \n",
    "errors, then you will need to double check that all of the values are correct.\n"
   ]
  },
  {
   "cell_type": "code",
   "execution_count": null,
   "id": "e1f92c09-b886-49a6-b478-94fb32a5559e",
   "metadata": {},
   "outputs": [],
   "source": [
    "#Q3"
   ]
  },
  {
   "cell_type": "markdown",
   "id": "272d4a9f-f3fc-42da-bdeb-65db4bc2ea7e",
   "metadata": {},
   "source": [
    "### Requirement: `BST` of Loans for Q4 and Q5\n",
    "\n",
    "For the following questions, create a `BST` tree.  Loop over every loan in the bank, adding each to the tree.  The `key` passed to the `add` call should be the `.interest_rate` of the `Loan` object, and the `val` passed to `add` should be the `Loan` object itself.\n",
    "\n",
    "If we called our tree something like `mbi_tree` while creating it, we could now try running `mbi_tree.root.values`, and we can verify that we get two loans back:\n",
    "\n",
    "```python\n",
    "[<Loan: 3.875% on $135000.0 with 2 applicant(s)>,\n",
    " <Loan: 3.875% on $105000.0 with 2 applicant(s)>]\n",
    "```"
   ]
  },
  {
   "cell_type": "code",
   "execution_count": 3,
   "id": "b4809493-13ce-406a-bd50-460c126bbc73",
   "metadata": {},
   "outputs": [],
   "source": [
    "# Create BST of Loans"
   ]
  },
  {
   "cell_type": "markdown",
   "id": "c0e26b85-db20-4cf6-b049-aaa6747baac2",
   "metadata": {},
   "source": [
    "### Q4: How many interest rate values are missing?\n",
    "\n",
    "Don't loop over every loan to answer.  Use your tree to get and count loans with missing rates (that is, `-1`)."
   ]
  },
  {
   "cell_type": "code",
   "execution_count": null,
   "id": "62c9d5b0-7e9d-447d-8747-d89db05e38b5",
   "metadata": {},
   "outputs": [],
   "source": [
    "#Q4"
   ]
  },
  {
   "cell_type": "markdown",
   "id": "b2cedb3e-3f80-4537-bffd-99b8b9e8553b",
   "metadata": {},
   "source": [
    "\n",
    "### Q5: How tall is the tree?\n",
    "\n",
    "The height is the number of edges in the path from the root to the deepest node. Write a recursive function or method to answer. This can be defined in your notebook or in your `search.py` module as either a standalone function, or as a method of the `BST` class.\n",
    "**Height:**\n",
    "\n",
    "<img src=\"img/bst_height.png\" width=\"300px\">"
   ]
  },
  {
   "cell_type": "code",
   "execution_count": null,
   "id": "c67316ca-00de-4d1b-8e9c-e1b9c15c981e",
   "metadata": {},
   "outputs": [],
   "source": [
    "#Q5"
   ]
  },
  {
   "cell_type": "markdown",
   "id": "2a55cf4e-58a0-40c7-bff9-35ca2008419b",
   "metadata": {},
   "source": [
    "# Individual Part (25%)\n",
    "\n",
    "For this portion of the machine project, you are only allowed to seek help from CS 320 course staff (peer mentors, TAs, and the instructor). You **may not** receive help from anyone else.\n",
    "\n",
    "For part 4 of this machine project, you will continue to do analysis using `Bank`, `Loan`, and `Appilcant` objects, only this time we will be using a bank\n",
    "that has more data associated with it. Additionally, we will do some more benchmarking to see how our new data structures improve\n",
    "lookups as well as some algorithms work to efficiently find desired statistics from our data."
   ]
  },
  {
   "cell_type": "markdown",
   "id": "1d3c1162-7abe-4dd9-8d70-7d5882441e23",
   "metadata": {},
   "source": [
    "## Part 4: 'Landmark Credit Union' Analysis\n",
    "> 📄 **Work in:** [`mp3.ipynb`](mp3.ipynb)\n",
    "\n",
    "Build a new `Bank` and corresponding `BST` object as before, but now for \"Landmark Credit Union\"."
   ]
  },
  {
   "cell_type": "code",
   "execution_count": null,
   "id": "e72f9e09-8e1e-4f34-95a5-1c760a77d28f",
   "metadata": {},
   "outputs": [],
   "source": [
    "# Create Bank object for \"Landmark Credit Union\""
   ]
  },
  {
   "cell_type": "markdown",
   "id": "b01c8c21-0d67-40a5-901a-4992af4002f6",
   "metadata": {},
   "source": [
    "### Q6: How long does it take to add the first 15,000 loans to the tree?\n",
    "\n",
    "Answer with a plot, where the x-axis is how many loans have been added so far, and the y-axis is the total time that has passed so far.  You'll need to measure how much time has elapsed (since the beginning) after each `.add` call (until the first 15000 loans) using `time.time()`. Your code has to add all loans available for LCU to the tree and measure the time it takes only for the first 15000.\n",
    "\n",
    "**Note:** Performance and the amount of noise will vary from one virtual machine to another, so your plot probably won't be identical (this applies to the other performance plots too). \n",
    "\n",
    "**_Make sure to include a title, and axis labels_**\n",
    "\n",
    "**Important:** Make sure to use `\"BST Adds\"` as the label of the line\n",
    "\n",
    "<img src=\"img/q6.png\" width=\"400px\">"
   ]
  },
  {
   "cell_type": "code",
   "execution_count": null,
   "id": "48e9d76f-41ff-4c38-abd5-c100a459dbd9",
   "metadata": {},
   "outputs": [],
   "source": [
    "#Q6\n",
    "\n",
    "# ADD CODE HERE\n",
    "\n",
    "fig, ax = plt.subplots()\n",
    "\n",
    "# PLOT HERE\n",
    "\n",
    "# IMPORTANT -- Do not remove -- \n",
    "with open(\"Q6.pkl\", \"wb\") as f:\n",
    "    pickle.dump(fig, f)\n",
    "\n",
    "plt.show()\n",
    "plt.close(fig)"
   ]
  },
  {
   "cell_type": "markdown",
   "id": "1cab210a-9976-40ef-894d-42ab688bfe1c",
   "metadata": {},
   "source": [
    "### Q7: How fast are tree lookups?\n",
    "\n",
    "Create a bar plot with two bars:\n",
    "1. time to find all `interest_rate` values equal to `1.99`, by looping over every loan and keeping a counter\n",
    "2. time to compute `len(NAME_OF_YOUR_BST_OBJECT[1.99])`\n",
    "\n",
    "*Note*: Both methods are calculating the same value: the amount of loans with an interest rate of 1.99. However, this value is not used anywhere in the graph, just the time that each method takes to find this value.\n",
    "\n",
    "**_Make sure to include a title, and axis labels_**\n",
    "\n",
    "<img src=\"img/q7.png\" width=\"400px\">"
   ]
  },
  {
   "cell_type": "code",
   "execution_count": null,
   "id": "9c159d88-046c-48c7-bd9f-69a682178361",
   "metadata": {},
   "outputs": [],
   "source": [
    "#Q7\n",
    "\n",
    "# ADD CODE HERE\n",
    "\n",
    "fig, ax = plt.subplots()\n",
    "\n",
    "# PLOT HERE\n",
    "\n",
    "# IMPORTANT -- Do not remove -- \n",
    "with open(\"Q7.pkl\", \"wb\") as f:\n",
    "    pickle.dump(fig, f)\n",
    "\n",
    "plt.show()\n",
    "plt.close(fig)"
   ]
  },
  {
   "cell_type": "markdown",
   "id": "9a0c636c-72ef-4044-a01e-2dca71081e37",
   "metadata": {},
   "source": [
    "### Q8: What is the distribution of amount of racial identities across all applicants?\n",
    "\n",
    "Answer with a bar graph. The x-axis should be the amount of racial identities\n",
    "indicated by the applicant/co-applicant, while the y-axis should be the count\n",
    "of applicants/co-applicants with the respective amount of racial identities.\n",
    "\n",
    "It may be helpful to create a dictionary before you plot the values. If you do, the\n",
    "corresponding values should be as follows:\n",
    "\n",
    "```python\n",
    "{0: 2639, 1: 24799, 2: 478, 3: 51, 4: 6}\n",
    "```\n",
    "\n",
    "**Note:** The x-axis should be the number of race identities selected by the applicants, not the individual races. (The height of the first bar represents how many applicants/co-applicants have 0 listed races)\n",
    "\n",
    "**_Make sure to include a title, and axis labels_**\n",
    "\n",
    "<img src=\"img/q8.png\" width=\"400px\">"
   ]
  },
  {
   "cell_type": "code",
   "execution_count": null,
   "id": "3d6a2149-c0c8-43b5-a01f-e4348fd0dbd4",
   "metadata": {},
   "outputs": [],
   "source": [
    "#Q8\n",
    "\n",
    "# ADD CODE HERE\n",
    "\n",
    "fig, ax = plt.subplots()\n",
    "\n",
    "# PLOT HERE\n",
    "\n",
    "# IMPORTANT -- Do not remove -- \n",
    "with open(\"Q8.pkl\", \"wb\") as f:\n",
    "    pickle.dump(fig, f)\n",
    "\n",
    "plt.show()\n",
    "plt.close(fig)"
   ]
  },
  {
   "cell_type": "markdown",
   "id": "0c0372d4-e465-4c79-beaa-5a00ce56a36d",
   "metadata": {},
   "source": [
    "### Q9: How many leaf nodes are in the tree?\n",
    "\n",
    "Write a recursive function or method to count the number of leaf nodes present in the given BST.\n"
   ]
  },
  {
   "cell_type": "code",
   "execution_count": null,
   "id": "93de44e1-23b3-447f-8c88-2f6059ff8b43",
   "metadata": {},
   "outputs": [],
   "source": [
    "#Q9"
   ]
  },
  {
   "cell_type": "markdown",
   "id": "c1118996-9a37-4889-9d53-1d043b9983cb",
   "metadata": {},
   "source": [
    "### Q10: What is the third largest interest rate in the Bank BST?\n",
    "\n",
    "Write a **recursive** function or method that can return the top 3 (or N) keys for any subtree."
   ]
  },
  {
   "cell_type": "code",
   "execution_count": null,
   "id": "437de513-9ffc-4345-80d7-a776178b5d3f",
   "metadata": {},
   "outputs": [],
   "source": [
    "#Q10"
   ]
  },
  {
   "cell_type": "markdown",
   "id": "e53fae44-d8ad-41e3-ba6e-cc703f14e444",
   "metadata": {
    "jp-MarkdownHeadingCollapsed": true
   },
   "source": [
    "## <span style=\"color:red\">Important:</span>\n",
    "Make sure to follow these steps to submit the project\n",
    "1. **Kernel > Restart Kernel and Run All Cells** and then save the notebook\n",
    "2. Run `tester.py` to check your answers\n",
    "3. Run the following commands from the terminal:\n",
    "```\n",
    "git status # make sure you are in the correct branch\n",
    "git add <required files>\n",
    "git commit -m \"Some message\"\n",
    "git push\n",
    "```\n",
    "4. Once you've pushed your project to GitLab, **verify that the pipeline ran successfully**.\n",
    "    * Build > Jobs > Select the latest commit hash > Check tester output\n",
    "5. Create a **_merge request_** to submit the project\n",
    "    * Code > Merge requests > New merge request"
   ]
  }
 ],
 "metadata": {
  "kernelspec": {
   "display_name": "Python 3 (ipykernel)",
   "language": "python",
   "name": "python3"
  },
  "language_info": {
   "codemirror_mode": {
    "name": "ipython",
    "version": 3
   },
   "file_extension": ".py",
   "mimetype": "text/x-python",
   "name": "python",
   "nbconvert_exporter": "python",
   "pygments_lexer": "ipython3",
   "version": "3.10.12"
  }
 },
 "nbformat": 4,
 "nbformat_minor": 5
}
