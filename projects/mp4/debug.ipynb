{
 "cells": [
  {
   "cell_type": "code",
   "execution_count": 18,
   "id": "3aafa31b-7ca1-4b38-9f79-412f33165afc",
   "metadata": {},
   "outputs": [],
   "source": [
    "class Parent:\n",
    "    def twice(self):\n",
    "        self.message()\n",
    "        self.message()\n",
    "        \n",
    "    def message(self):\n",
    "        print(\"parent says hi\")\n",
    "        \n",
    "class Child(Parent):\n",
    "    def message(self):\n",
    "        print(\"child says hi\")\n",
    "        \n",
    "c = Child()\n"
   ]
  },
  {
   "cell_type": "code",
   "execution_count": 19,
   "id": "0a11102a-69a0-4753-81f8-f0753104209e",
   "metadata": {},
   "outputs": [
    {
     "name": "stdout",
     "output_type": "stream",
     "text": [
      "child says hi\n",
      "child says hi\n"
     ]
    }
   ],
   "source": [
    "#if we run c.twice() then it will try to find the method in the class Child but will not be able to find it so it will go to he parent class and will\n",
    "# be able to find he method definition there and will call this method from the parent class\n",
    "# so it will print child says hi 2 times BECAUSE the twice() method will use TYPE-BASED DISPATCH methodology to call the appropriate message()\n",
    "# method on the object which is trying to call this method and that is the child class's objec whose reference is given by the self pointer\n",
    "c.twice()"
   ]
  },
  {
   "cell_type": "code",
   "execution_count": 20,
   "id": "dbb1e355-2ee5-41b2-9bef-ab706e53593c",
   "metadata": {},
   "outputs": [],
   "source": [
    "\n",
    "class GraphSearcher:\n",
    "    def __init__(self):\n",
    "        self.visited = set()\n",
    "        self.order = []\n",
    "\n",
    "    def visit_and_get_children(self, node):\n",
    "        \"\"\"Must be overridden in subclasses.\"\"\"\n",
    "        raise Exception(\"must be overridden in sub classes -- don't change me here!\")\n",
    "\n",
    "    def dfs_search(self, node):\n",
    "        # 1. clear out visited set and order list\n",
    "        self.visited.clear()\n",
    "        self.order.clear()\n",
    "        # 2. start recursive search\n",
    "        self.dfs_visit(node)\n",
    "\n",
    "    def dfs_visit(self, node):\n",
    "        # 1. if this node has already been visited, just return\n",
    "        if node in self.visited:\n",
    "            return\n",
    "        # 2. mark node as visited\n",
    "        self.visited.add(node)\n",
    "        # 3. record and get children\n",
    "        children = self.visit_and_get_children(node)\n",
    "        # 4. visit each child\n",
    "        for child in children:\n",
    "            self.dfs_visit(child)"
   ]
  },
  {
   "cell_type": "code",
   "execution_count": 21,
   "id": "495a8c27-0e56-4423-8515-fd28065460e1",
   "metadata": {},
   "outputs": [
    {
     "ename": "Exception",
     "evalue": "must be overridden in sub classes -- don't change me here!",
     "output_type": "error",
     "traceback": [
      "\u001b[0;31m---------------------------------------------------------------------------\u001b[0m",
      "\u001b[0;31mException\u001b[0m                                 Traceback (most recent call last)",
      "Cell \u001b[0;32mIn[21], line 2\u001b[0m\n\u001b[1;32m      1\u001b[0m g \u001b[38;5;241m=\u001b[39m GraphSearcher()\n\u001b[0;32m----> 2\u001b[0m \u001b[43mg\u001b[49m\u001b[38;5;241;43m.\u001b[39;49m\u001b[43mdfs_search\u001b[49m\u001b[43m(\u001b[49m\u001b[38;5;124;43m\"\u001b[39;49m\u001b[38;5;124;43mA\u001b[39;49m\u001b[38;5;124;43m\"\u001b[39;49m\u001b[43m)\u001b[49m\n",
      "Cell \u001b[0;32mIn[20], line 15\u001b[0m, in \u001b[0;36mGraphSearcher.dfs_search\u001b[0;34m(self, node)\u001b[0m\n\u001b[1;32m     13\u001b[0m \u001b[38;5;28mself\u001b[39m\u001b[38;5;241m.\u001b[39morder\u001b[38;5;241m.\u001b[39mclear()\n\u001b[1;32m     14\u001b[0m \u001b[38;5;66;03m# 2. start recursive search\u001b[39;00m\n\u001b[0;32m---> 15\u001b[0m \u001b[38;5;28;43mself\u001b[39;49m\u001b[38;5;241;43m.\u001b[39;49m\u001b[43mdfs_visit\u001b[49m\u001b[43m(\u001b[49m\u001b[43mnode\u001b[49m\u001b[43m)\u001b[49m\n",
      "Cell \u001b[0;32mIn[20], line 24\u001b[0m, in \u001b[0;36mGraphSearcher.dfs_visit\u001b[0;34m(self, node)\u001b[0m\n\u001b[1;32m     22\u001b[0m \u001b[38;5;28mself\u001b[39m\u001b[38;5;241m.\u001b[39mvisited\u001b[38;5;241m.\u001b[39madd(node)\n\u001b[1;32m     23\u001b[0m \u001b[38;5;66;03m# 3. record and get children\u001b[39;00m\n\u001b[0;32m---> 24\u001b[0m children \u001b[38;5;241m=\u001b[39m \u001b[38;5;28;43mself\u001b[39;49m\u001b[38;5;241;43m.\u001b[39;49m\u001b[43mvisit_and_get_children\u001b[49m\u001b[43m(\u001b[49m\u001b[43mnode\u001b[49m\u001b[43m)\u001b[49m\n\u001b[1;32m     25\u001b[0m \u001b[38;5;66;03m# 4. visit each child\u001b[39;00m\n\u001b[1;32m     26\u001b[0m \u001b[38;5;28;01mfor\u001b[39;00m child \u001b[38;5;129;01min\u001b[39;00m children:\n",
      "Cell \u001b[0;32mIn[20], line 8\u001b[0m, in \u001b[0;36mGraphSearcher.visit_and_get_children\u001b[0;34m(self, node)\u001b[0m\n\u001b[1;32m      6\u001b[0m \u001b[38;5;28;01mdef\u001b[39;00m\u001b[38;5;250m \u001b[39m\u001b[38;5;21mvisit_and_get_children\u001b[39m(\u001b[38;5;28mself\u001b[39m, node):\n\u001b[1;32m      7\u001b[0m \u001b[38;5;250m    \u001b[39m\u001b[38;5;124;03m\"\"\"Must be overridden in subclasses.\"\"\"\u001b[39;00m\n\u001b[0;32m----> 8\u001b[0m     \u001b[38;5;28;01mraise\u001b[39;00m \u001b[38;5;167;01mException\u001b[39;00m(\u001b[38;5;124m\"\u001b[39m\u001b[38;5;124mmust be overridden in sub classes -- don\u001b[39m\u001b[38;5;124m'\u001b[39m\u001b[38;5;124mt change me here!\u001b[39m\u001b[38;5;124m\"\u001b[39m)\n",
      "\u001b[0;31mException\u001b[0m: must be overridden in sub classes -- don't change me here!"
     ]
    }
   ],
   "source": [
    "g = GraphSearcher()\n",
    "g.dfs_search(\"A\")\n"
   ]
  },
  {
   "cell_type": "code",
   "execution_count": 22,
   "id": "eae24d64-6e11-45ff-91e9-0cc6b6b14625",
   "metadata": {},
   "outputs": [
    {
     "data": {
      "text/html": [
       "<div>\n",
       "<style scoped>\n",
       "    .dataframe tbody tr th:only-of-type {\n",
       "        vertical-align: middle;\n",
       "    }\n",
       "\n",
       "    .dataframe tbody tr th {\n",
       "        vertical-align: top;\n",
       "    }\n",
       "\n",
       "    .dataframe thead th {\n",
       "        text-align: right;\n",
       "    }\n",
       "</style>\n",
       "<table border=\"1\" class=\"dataframe\">\n",
       "  <thead>\n",
       "    <tr style=\"text-align: right;\">\n",
       "      <th></th>\n",
       "      <th>A</th>\n",
       "      <th>B</th>\n",
       "      <th>C</th>\n",
       "      <th>D</th>\n",
       "    </tr>\n",
       "  </thead>\n",
       "  <tbody>\n",
       "    <tr>\n",
       "      <th>A</th>\n",
       "      <td>0</td>\n",
       "      <td>1</td>\n",
       "      <td>0</td>\n",
       "      <td>1</td>\n",
       "    </tr>\n",
       "    <tr>\n",
       "      <th>B</th>\n",
       "      <td>0</td>\n",
       "      <td>0</td>\n",
       "      <td>1</td>\n",
       "      <td>0</td>\n",
       "    </tr>\n",
       "    <tr>\n",
       "      <th>C</th>\n",
       "      <td>0</td>\n",
       "      <td>0</td>\n",
       "      <td>0</td>\n",
       "      <td>1</td>\n",
       "    </tr>\n",
       "    <tr>\n",
       "      <th>D</th>\n",
       "      <td>0</td>\n",
       "      <td>0</td>\n",
       "      <td>1</td>\n",
       "      <td>0</td>\n",
       "    </tr>\n",
       "  </tbody>\n",
       "</table>\n",
       "</div>"
      ],
      "text/plain": [
       "   A  B  C  D\n",
       "A  0  1  0  1\n",
       "B  0  0  1  0\n",
       "C  0  0  0  1\n",
       "D  0  0  1  0"
      ]
     },
     "execution_count": 22,
     "metadata": {},
     "output_type": "execute_result"
    }
   ],
   "source": [
    "import pandas as pd\n",
    "\n",
    "df = pd.DataFrame([\n",
    "    [0,1,0,1],\n",
    "    [0,0,1,0],\n",
    "    [0,0,0,1],\n",
    "    [0,0,1,0],\n",
    "], index=[\"A\", \"B\", \"C\", \"D\"], columns=[\"A\", \"B\", \"C\", \"D\"])\n",
    "df\n"
   ]
  },
  {
   "cell_type": "code",
   "execution_count": 23,
   "id": "4592932a-ac6e-41ce-991c-101520bc8745",
   "metadata": {},
   "outputs": [
    {
     "name": "stdout",
     "output_type": "stream",
     "text": [
      "C\n"
     ]
    }
   ],
   "source": [
    "for node, has_edge in df.loc[\"B\"].items():\n",
    "    if has_edge:\n",
    "        print(node)\n"
   ]
  },
  {
   "cell_type": "code",
   "execution_count": 24,
   "id": "262f8c5f-f52f-4b4c-96e4-654855e4f91a",
   "metadata": {},
   "outputs": [],
   "source": [
    "class MatrixSearcher(GraphSearcher):\n",
    "    def __init__(self, df):\n",
    "        super().__init__()            # call parent constructor\n",
    "        self.df = df\n",
    "\n",
    "    def visit_and_get_children(self, node):\n",
    "        # Record the node value in self.order\n",
    "        self.order.append(node)\n",
    "        children = []\n",
    "        # Use `self.df` to determine what children the node has and append them\n",
    "        for col, has_edge in self.df.loc[node].items():\n",
    "            if has_edge == 1:\n",
    "                children.append(col)\n",
    "        return children"
   ]
  },
  {
   "cell_type": "code",
   "execution_count": 25,
   "id": "9740eb1f-b5d0-48d2-a6e4-4d9fef36171b",
   "metadata": {},
   "outputs": [
    {
     "data": {
      "text/plain": [
       "['A', 'B', 'C', 'D']"
      ]
     },
     "execution_count": 25,
     "metadata": {},
     "output_type": "execute_result"
    }
   ],
   "source": [
    "m = MatrixSearcher(df)\n",
    "m.dfs_search(\"A\")\n",
    "m.order\n"
   ]
  },
  {
   "cell_type": "code",
   "execution_count": null,
   "id": "ba5b90a5-239d-4e0c-9283-ae5803d4c970",
   "metadata": {},
   "outputs": [],
   "source": []
  }
 ],
 "metadata": {
  "kernelspec": {
   "display_name": "Python 3 (ipykernel)",
   "language": "python",
   "name": "python3"
  },
  "language_info": {
   "codemirror_mode": {
    "name": "ipython",
    "version": 3
   },
   "file_extension": ".py",
   "mimetype": "text/x-python",
   "name": "python",
   "nbconvert_exporter": "python",
   "pygments_lexer": "ipython3",
   "version": "3.10.12"
  }
 },
 "nbformat": 4,
 "nbformat_minor": 5
}
