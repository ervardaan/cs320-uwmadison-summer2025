{
 "cells": [
  {
   "cell_type": "markdown",
   "metadata": {},
   "source": [
    "# Flask File Structure\n",
    "\n",
    "When first looking at a Flask Python file, you might notice that it looks quite different from the Python scripts you’ve written before — and for the most part, you're right.\n",
    "\n",
    "## Use of Decorators\n",
    "\n",
    "This might be your first time encountering **decorators**, and they can be a bit confusing at first. At a high level, decorators are a way to pass a function into another function. You might be wondering, *“Why would I want to do that?”* Well, decorators aren't used everywhere, but they are incredibly useful in certain contexts.\n",
    "\n",
    "Below is a simple example of decorators, adapted from a GeeksForGeeks article:\n",
    "\n",
    "```python\n",
    "# A simple decorator function\n",
    "def decorator(func):\n",
    "    def wrapper():\n",
    "        print(\"Before calling the function.\")\n",
    "        func()\n",
    "        print(\"After calling the function.\")\n",
    "    return wrapper\n",
    "\n",
    "# Applying the decorator to a function\n",
    "@decorator\n",
    "def greet():\n",
    "    print(\"Hello, World!\")\n",
    "\n",
    "greet()\n",
    "```\n",
    "\n",
    "Output:\n",
    "```\n",
    "Before calling the function.\n",
    "Hello, World!\n",
    "After calling the function.\n",
    "```\n",
    "\n",
    "Because of the @decorator line above the greet function, calling greet() actually calls the wrapper function inside the decorator. The greet function is passed as the argument func, and it's called inside wrapper.\n",
    "\n",
    "In Flask we commonly see decorators like this:\n",
    "```python\n",
    "from flask import Flask\n",
    "\n",
    "app = Flask(__name__)\n",
    "\n",
    "@app.route('/')\n",
    "def home():\n",
    "    return \"Hello, world!\"\n",
    "```\n",
    "\n",
    "In this simple example, the Flask @app.route('/') decorator takes the URL path requested by a visitor. If it ends in /, the client will render the return value of the home() function. \n",
    "\n",
    "## Module-level Entry point check\n",
    "\n",
    "Another new concept you may see is the following line, which is often found at the bottom of Flask apps:\n",
    "\n",
    "```python\n",
    "if __name__ == \"__main__\":\n",
    "    app.run(debug=True)\n",
    "```\n",
    "\n",
    "Since Python is an interpreted language, there is no formal main() function like in more traditional languages such as Java or C. This line tells the interpreter to run the following code only if the file is being executed directly (e.g., with python3 flaskapp.py). In this case, it starts a Flask web server with app.run(debug=True).\n",
    "\n",
    "\n"
   ]
  },
  {
   "cell_type": "markdown",
   "metadata": {},
   "source": [
    "Part 1:\n",
    "\n",
    "Complete the following snippet of code, your expected output is \n",
    "\n",
    "```\n",
    "Function complete.\n",
    "Time taken: ~1.00 seconds\n",
    "```\n"
   ]
  },
  {
   "cell_type": "code",
   "execution_count": null,
   "metadata": {
    "vscode": {
     "languageId": "plaintext"
    }
   },
   "outputs": [],
   "source": [
    "import time\n",
    "\n",
    "def timer_decorator(func):\n",
    "    pass  # Replace this with your code\n",
    "\n",
    "@timer_decorator\n",
    "def slow_function():\n",
    "    time.sleep(1)\n",
    "    print(\"Function complete.\")\n",
    "\n",
    "slow_function()"
   ]
  },
  {
   "cell_type": "markdown",
   "metadata": {},
   "source": [
    "Hint: Use time.time() to capture the time before and after the function runs."
   ]
  }
 ],
 "metadata": {
  "language_info": {
   "name": "python"
  }
 },
 "nbformat": 4,
 "nbformat_minor": 2
}
