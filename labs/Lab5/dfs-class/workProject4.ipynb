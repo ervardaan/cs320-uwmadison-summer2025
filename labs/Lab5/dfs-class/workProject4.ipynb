{
 "cells": [
  {
   "cell_type": "code",
   "execution_count": 62,
   "id": "41443fe7-b3e0-4432-8c4e-c7f3d6bed376",
   "metadata": {},
   "outputs": [],
   "source": [
    "class GraphSearcher:\n",
    "    def __init__(self):\n",
    "        # tracks which nodes have been visited\n",
    "        self.visited = set()\n",
    "        # records the order in which nodes are first seen\n",
    "        self.order = []\n",
    "\n",
    "    def visit_and_get_children(self, node):\n",
    "        \"\"\"\n",
    "        MUST be overridden in subclasses.\n",
    "        Should append `node` to self.order and return an iterable\n",
    "        of its children.\n",
    "        \"\"\"\n",
    "        raise Exception(\"must be overridden in sub classes -- don't change me here!\")\n",
    "\n",
    "    def dfs_search(self, start_node):\n",
    "        \"\"\"\n",
    "        Public entry point: clears state, kicks off the recursion,\n",
    "        and returns the final visitation order.\n",
    "        \"\"\"\n",
    "        # reset visited & order\n",
    "        self.visited.clear()\n",
    "        self.order.clear()\n",
    "\n",
    "        # start the recursive DFS\n",
    "        self.dfs_visit(start_node)\n",
    "\n",
    "        # return the recorded order\n",
    "        return self.order\n",
    "\n",
    "    def dfs_visit(self, node):\n",
    "        \"\"\"\n",
    "        Recursive DFS:\n",
    "          1. If already seen, return immediately.\n",
    "          2. Mark as seen.\n",
    "          3. Ask subclass for children (and record node in order).\n",
    "          4. Recurse on each child.\n",
    "        \"\"\"\n",
    "\n",
    "        # 1) base case\n",
    "        if node in self.visited:\n",
    "            return\n",
    "\n",
    "        # 2) mark visited\n",
    "        self.visited.add(node)\n",
    "\n",
    "        # 3) get children (subclass must record node in self.order here)\n",
    "        children = self.visit_and_get_children(node)\n",
    "\n",
    "        # 4) recurse\n",
    "        for child in children:\n",
    "            self.dfs_visit(child)"
   ]
  },
  {
   "cell_type": "code",
   "execution_count": 63,
   "id": "73bf5ca6-3914-4f61-a8d0-71a785193884",
   "metadata": {},
   "outputs": [
    {
     "ename": "Exception",
     "evalue": "must be overridden in sub classes -- don't change me here!",
     "output_type": "error",
     "traceback": [
      "\u001b[0;31m---------------------------------------------------------------------------\u001b[0m",
      "\u001b[0;31mException\u001b[0m                                 Traceback (most recent call last)",
      "Cell \u001b[0;32mIn[63], line 2\u001b[0m\n\u001b[1;32m      1\u001b[0m g\u001b[38;5;241m=\u001b[39mGraphSearcher()\n\u001b[0;32m----> 2\u001b[0m \u001b[43mg\u001b[49m\u001b[38;5;241;43m.\u001b[39;49m\u001b[43mdfs_search\u001b[49m\u001b[43m(\u001b[49m\u001b[38;5;124;43m\"\u001b[39;49m\u001b[38;5;124;43ma\u001b[39;49m\u001b[38;5;124;43m\"\u001b[39;49m\u001b[43m)\u001b[49m\n",
      "Cell \u001b[0;32mIn[62], line 26\u001b[0m, in \u001b[0;36mGraphSearcher.dfs_search\u001b[0;34m(self, start_node)\u001b[0m\n\u001b[1;32m     23\u001b[0m \u001b[38;5;28mself\u001b[39m\u001b[38;5;241m.\u001b[39morder\u001b[38;5;241m.\u001b[39mclear()\n\u001b[1;32m     25\u001b[0m \u001b[38;5;66;03m# start the recursive DFS\u001b[39;00m\n\u001b[0;32m---> 26\u001b[0m \u001b[38;5;28;43mself\u001b[39;49m\u001b[38;5;241;43m.\u001b[39;49m\u001b[43mdfs_visit\u001b[49m\u001b[43m(\u001b[49m\u001b[43mstart_node\u001b[49m\u001b[43m)\u001b[49m\n\u001b[1;32m     28\u001b[0m \u001b[38;5;66;03m# return the recorded order\u001b[39;00m\n\u001b[1;32m     29\u001b[0m \u001b[38;5;28;01mreturn\u001b[39;00m \u001b[38;5;28mself\u001b[39m\u001b[38;5;241m.\u001b[39morder\n",
      "Cell \u001b[0;32mIn[62], line 48\u001b[0m, in \u001b[0;36mGraphSearcher.dfs_visit\u001b[0;34m(self, node)\u001b[0m\n\u001b[1;32m     45\u001b[0m \u001b[38;5;28mself\u001b[39m\u001b[38;5;241m.\u001b[39mvisited\u001b[38;5;241m.\u001b[39madd(node)\n\u001b[1;32m     47\u001b[0m \u001b[38;5;66;03m# 3) get children (subclass must record node in self.order here)\u001b[39;00m\n\u001b[0;32m---> 48\u001b[0m children \u001b[38;5;241m=\u001b[39m \u001b[38;5;28;43mself\u001b[39;49m\u001b[38;5;241;43m.\u001b[39;49m\u001b[43mvisit_and_get_children\u001b[49m\u001b[43m(\u001b[49m\u001b[43mnode\u001b[49m\u001b[43m)\u001b[49m\n\u001b[1;32m     50\u001b[0m \u001b[38;5;66;03m# 4) recurse\u001b[39;00m\n\u001b[1;32m     51\u001b[0m \u001b[38;5;28;01mfor\u001b[39;00m child \u001b[38;5;129;01min\u001b[39;00m children:\n",
      "Cell \u001b[0;32mIn[62], line 14\u001b[0m, in \u001b[0;36mGraphSearcher.visit_and_get_children\u001b[0;34m(self, node)\u001b[0m\n\u001b[1;32m      8\u001b[0m \u001b[38;5;28;01mdef\u001b[39;00m\u001b[38;5;250m \u001b[39m\u001b[38;5;21mvisit_and_get_children\u001b[39m(\u001b[38;5;28mself\u001b[39m, node):\n\u001b[1;32m      9\u001b[0m \u001b[38;5;250m    \u001b[39m\u001b[38;5;124;03m\"\"\"\u001b[39;00m\n\u001b[1;32m     10\u001b[0m \u001b[38;5;124;03m    MUST be overridden in subclasses.\u001b[39;00m\n\u001b[1;32m     11\u001b[0m \u001b[38;5;124;03m    Should append `node` to self.order and return an iterable\u001b[39;00m\n\u001b[1;32m     12\u001b[0m \u001b[38;5;124;03m    of its children.\u001b[39;00m\n\u001b[1;32m     13\u001b[0m \u001b[38;5;124;03m    \"\"\"\u001b[39;00m\n\u001b[0;32m---> 14\u001b[0m     \u001b[38;5;28;01mraise\u001b[39;00m \u001b[38;5;167;01mException\u001b[39;00m(\u001b[38;5;124m\"\u001b[39m\u001b[38;5;124mmust be overridden in sub classes -- don\u001b[39m\u001b[38;5;124m'\u001b[39m\u001b[38;5;124mt change me here!\u001b[39m\u001b[38;5;124m\"\u001b[39m)\n",
      "\u001b[0;31mException\u001b[0m: must be overridden in sub classes -- don't change me here!"
     ]
    }
   ],
   "source": [
    "g=GraphSearcher()\n",
    "g.dfs_search(\"a\")"
   ]
  },
  {
   "cell_type": "code",
   "execution_count": 64,
   "id": "d72bab07-434d-4a77-82f0-f4e3ddb98a19",
   "metadata": {},
   "outputs": [],
   "source": [
    "import pandas as pd"
   ]
  },
  {
   "cell_type": "code",
   "execution_count": 65,
   "id": "755d9ba4-6398-4f4c-b01c-f46103433be0",
   "metadata": {},
   "outputs": [],
   "source": [
    "df=pd.DataFrame([\n",
    "    [0,1,0,1],[0,0,1,0],[0,0,0,1],[0,0,1,0]],\n",
    "    index=[\"a\",\"b\",\"c\",\"d\"],columns=[\"a\",\"b\",\"c\",\"d\"])"
   ]
  },
  {
   "cell_type": "code",
   "execution_count": 66,
   "id": "b23ac7d5-a921-423d-9b03-2fd434b3871a",
   "metadata": {},
   "outputs": [
    {
     "data": {
      "text/html": [
       "<div>\n",
       "<style scoped>\n",
       "    .dataframe tbody tr th:only-of-type {\n",
       "        vertical-align: middle;\n",
       "    }\n",
       "\n",
       "    .dataframe tbody tr th {\n",
       "        vertical-align: top;\n",
       "    }\n",
       "\n",
       "    .dataframe thead th {\n",
       "        text-align: right;\n",
       "    }\n",
       "</style>\n",
       "<table border=\"1\" class=\"dataframe\">\n",
       "  <thead>\n",
       "    <tr style=\"text-align: right;\">\n",
       "      <th></th>\n",
       "      <th>a</th>\n",
       "      <th>b</th>\n",
       "      <th>c</th>\n",
       "      <th>d</th>\n",
       "    </tr>\n",
       "  </thead>\n",
       "  <tbody>\n",
       "    <tr>\n",
       "      <th>a</th>\n",
       "      <td>0</td>\n",
       "      <td>1</td>\n",
       "      <td>0</td>\n",
       "      <td>1</td>\n",
       "    </tr>\n",
       "    <tr>\n",
       "      <th>b</th>\n",
       "      <td>0</td>\n",
       "      <td>0</td>\n",
       "      <td>1</td>\n",
       "      <td>0</td>\n",
       "    </tr>\n",
       "    <tr>\n",
       "      <th>c</th>\n",
       "      <td>0</td>\n",
       "      <td>0</td>\n",
       "      <td>0</td>\n",
       "      <td>1</td>\n",
       "    </tr>\n",
       "    <tr>\n",
       "      <th>d</th>\n",
       "      <td>0</td>\n",
       "      <td>0</td>\n",
       "      <td>1</td>\n",
       "      <td>0</td>\n",
       "    </tr>\n",
       "  </tbody>\n",
       "</table>\n",
       "</div>"
      ],
      "text/plain": [
       "   a  b  c  d\n",
       "a  0  1  0  1\n",
       "b  0  0  1  0\n",
       "c  0  0  0  1\n",
       "d  0  0  1  0"
      ]
     },
     "execution_count": 66,
     "metadata": {},
     "output_type": "execute_result"
    }
   ],
   "source": [
    "df"
   ]
  },
  {
   "cell_type": "code",
   "execution_count": 20,
   "id": "ac05220f-86da-4b60-9037-28d902c74036",
   "metadata": {},
   "outputs": [
    {
     "data": {
      "text/plain": [
       "np.int64(1)"
      ]
     },
     "execution_count": 20,
     "metadata": {},
     "output_type": "execute_result"
    }
   ],
   "source": [
    "df.loc[\"a\"][\"b\"]"
   ]
  },
  {
   "cell_type": "code",
   "execution_count": 24,
   "id": "5e385181-54b1-4943-8e9d-57c40c079cdc",
   "metadata": {},
   "outputs": [
    {
     "name": "stdout",
     "output_type": "stream",
     "text": [
      "c\n"
     ]
    }
   ],
   "source": [
    "for child in df.loc[\"b\"].items():\n",
    "    if child[1]==1:\n",
    "        print(child[0])"
   ]
  },
  {
   "cell_type": "code",
   "execution_count": 67,
   "id": "0f8754bc-bcba-4074-b041-d032b733eb3e",
   "metadata": {},
   "outputs": [],
   "source": [
    "class MatrixSearcher(GraphSearcher):\n",
    "    def __init__(self, df: pd.DataFrame):\n",
    "        \"\"\"\n",
    "        df should be a square DataFrame whose index and columns\n",
    "        are the same set of node labels, and entries are 0/1.\n",
    "        \"\"\"\n",
    "        super().__init__()\n",
    "        self.df = df\n",
    "\n",
    "    def visit_and_get_children(self, node):\n",
    "        \"\"\"\n",
    "        1) append the node to the visitation order\n",
    "        2) look across df.loc[node] for entries == 1\n",
    "           and return those column‐labels as children\n",
    "        \"\"\"\n",
    "        # record the visitation\n",
    "        self.order.append(node)\n",
    "\n",
    "        # df.loc[node] is a Series of 0/1; .items() yields (col_label, value)\n",
    "        children = [\n",
    "            col\n",
    "            for col, val in self.df.loc[node].items()\n",
    "            if val == 1\n",
    "        ]\n",
    "        return children"
   ]
  },
  {
   "cell_type": "code",
   "execution_count": 71,
   "id": "63a11709-51d5-4d0b-b2e3-2eeb6d60e28a",
   "metadata": {},
   "outputs": [
    {
     "name": "stdout",
     "output_type": "stream",
     "text": [
      "['a', 'b', 'c', 'd']\n"
     ]
    }
   ],
   "source": [
    "m=MatrixSearcher(df)\n",
    "list2=m.dfs_search(\"a\")\n",
    "print(list2)"
   ]
  },
  {
   "cell_type": "code",
   "execution_count": null,
   "id": "0e1dc740-8600-4dca-850a-16b2273c806d",
   "metadata": {},
   "outputs": [],
   "source": [
    "df2 = pd.DataFrame([\n",
    "    [0,1,0,1],\n",
    "    [0,0,1,0],\n",
    "    [0,0,0,1],\n",
    "    [0,0,1,0],\n",
    "], index=[\"A\", \"B\", \"C\", \"D\"], columns=[\"A\", \"B\", \"C\", \"D\"])\n",
    "\n",
    "m3=MatrixSearcher(df2)\n",
    "m.bfs"
   ]
  }
 ],
 "metadata": {
  "kernelspec": {
   "display_name": "Python 3 (ipykernel)",
   "language": "python",
   "name": "python3"
  },
  "language_info": {
   "codemirror_mode": {
    "name": "ipython",
    "version": 3
   },
   "file_extension": ".py",
   "mimetype": "text/x-python",
   "name": "python",
   "nbconvert_exporter": "python",
   "pygments_lexer": "ipython3",
   "version": "3.10.12"
  }
 },
 "nbformat": 4,
 "nbformat_minor": 5
}
