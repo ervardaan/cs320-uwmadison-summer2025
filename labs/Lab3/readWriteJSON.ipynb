{
 "cells": [
  {
   "cell_type": "code",
   "execution_count": 1,
   "id": "0154da6b-0bbf-4b86-be2f-3c64edfdd4cd",
   "metadata": {},
   "outputs": [
    {
     "name": "stdout",
     "output_type": "stream",
     "text": [
      "<class 'str'>\n",
      "{\n",
      "    \"name\": \"Fido\",\n",
      "    \"age\": 1\n",
      "}\n",
      "\n",
      "input2 is \n"
     ]
    }
   ],
   "source": [
    "f = open(\"dog.json\")\n",
    "input1 = f.read()\n",
    "print(type(input1))\n",
    "print(input1)\n",
    "input2 = f.read()\n",
    "print(f\"input2 is {input2}\")\n",
    "f.close()\n"
   ]
  },
  {
   "cell_type": "code",
   "execution_count": 2,
   "id": "6b50077c-0b1b-4e82-a345-6568e18d5f68",
   "metadata": {},
   "outputs": [
    {
     "name": "stdout",
     "output_type": "stream",
     "text": [
      "LINE: {\n",
      "LINE:     \"name\": \"Fido\",\n",
      "LINE:     \"age\": 1\n",
      "LINE: }\n"
     ]
    }
   ],
   "source": [
    "f = open(\"dog.json\")\n",
    "for line in f:\n",
    "    print(\"LINE: \" + line, end=\"\")\n",
    "f.close()\n"
   ]
  },
  {
   "cell_type": "code",
   "execution_count": 3,
   "id": "45932bb1-5572-4662-8ba6-5744a86b49bb",
   "metadata": {},
   "outputs": [
    {
     "name": "stdout",
     "output_type": "stream",
     "text": [
      "GOT 4 lines\n"
     ]
    }
   ],
   "source": [
    "f = open(\"dog.json\")\n",
    "lines = list(f)\n",
    "f.close()\n",
    "\n",
    "print(\"GOT\", len(lines), \"lines\")\n"
   ]
  },
  {
   "cell_type": "code",
   "execution_count": 4,
   "id": "0dd59f2a-b575-409b-a8ca-7a24a48f6484",
   "metadata": {},
   "outputs": [],
   "source": [
    "f = open(\"dog.json\")\n",
    "lines = list(f)\n",
    "f.close()\n"
   ]
  },
  {
   "cell_type": "code",
   "execution_count": 5,
   "id": "3c46796f-ae7c-40fa-9b09-f86e23aee250",
   "metadata": {},
   "outputs": [],
   "source": [
    "with open(\"dog.json\") as f:\n",
    "    lines = list(f)\n",
    "# f is automatically closed after the with block\n"
   ]
  },
  {
   "cell_type": "code",
   "execution_count": 6,
   "id": "bca1df4b-4bae-46f8-8236-7a773a53f573",
   "metadata": {},
   "outputs": [],
   "source": [
    "import json\n",
    "\n",
    "with open(\"dog.json\") as f:\n",
    "    dog = json.load(f) # fixme\n"
   ]
  },
  {
   "cell_type": "code",
   "execution_count": 7,
   "id": "ede31406-0ba8-4b6e-9f92-49dc20db8e8e",
   "metadata": {},
   "outputs": [],
   "source": [
    "data = '{\"name\": \"Fido\", \"age\": 1}'\n",
    "dog = json.loads(data) # fixme\n"
   ]
  },
  {
   "cell_type": "code",
   "execution_count": 8,
   "id": "248f25ab-100c-4d5a-a576-48e8aa15982e",
   "metadata": {},
   "outputs": [],
   "source": [
    "with open(\"dog.json\") as f:\n",
    "    data = f.read()\n",
    "    dog = json.loads(data) # fixme\n"
   ]
  },
  {
   "cell_type": "code",
   "execution_count": 9,
   "id": "00e554ff-ae26-456f-aed8-96a8b1850997",
   "metadata": {},
   "outputs": [],
   "source": [
    "f = open(\"file.txt\",\"w\")\n",
    "f.write(\"line1\")\n",
    "f.write(\"line2\")\n",
    "f.close() # you need the parentheses, even without arguments!\n"
   ]
  },
  {
   "cell_type": "code",
   "execution_count": null,
   "id": "23143e45-d8f0-4156-9264-413a1b988f32",
   "metadata": {},
   "outputs": [],
   "source": []
  }
 ],
 "metadata": {
  "kernelspec": {
   "display_name": "Python 3 (ipykernel)",
   "language": "python",
   "name": "python3"
  },
  "language_info": {
   "codemirror_mode": {
    "name": "ipython",
    "version": 3
   },
   "file_extension": ".py",
   "mimetype": "text/x-python",
   "name": "python",
   "nbconvert_exporter": "python",
   "pygments_lexer": "ipython3",
   "version": "3.10.12"
  }
 },
 "nbformat": 4,
 "nbformat_minor": 5
}
