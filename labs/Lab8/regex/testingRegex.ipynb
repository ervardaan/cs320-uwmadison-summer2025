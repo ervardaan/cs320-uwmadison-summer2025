{
 "cells": [
  {
   "cell_type": "code",
   "execution_count": 10,
   "id": "2a5ed0c8-11bc-4830-b475-dd2e28fce781",
   "metadata": {},
   "outputs": [],
   "source": [
    "s = \"\"\"Lorem ipsum dolor sit amet ;), consectetur adipiscing elit, sed do\n",
    "eiusmod tempor incididunt ut labore et dolore magna aliqua. :) Ut enim ad\n",
    "minim veniam, quis nostrud exercitation ullamco laboris nisi ut\n",
    "aliquip ex ea commodo consequat. :( :( :( Duis aute irure dolor in\n",
    "reprehenderit in voluptate velit esse cillum dolore eu fugiat nulla\n",
    "pariatur. Excepteur sint occaecat cupidatat non proident, sunt in\n",
    "culpa qui officia deserunt mollit anim id est laborum. :P\n",
    "\n",
    "Curabitur pretium tincidunt lacus. :-) Nulla gravida orci a odio. :P Nullam\n",
    "varius, turpis et commodo pharetra, est eros bibendum elit, nec luctus\n",
    "magna felis sollicitudin mauris. ;-) Integer in mauris eu nibh euismod\n",
    "gravida. Duis ac tellus et risus vulputate vehicula. Donec lobortis\n",
    "risus a elit. Etiam tempor. :-( Ut ullamcorper, ligula eu tempor congue,\n",
    "eros est euismod turpis, id tincidunt sapien risus a quam. :) Maecenas\n",
    "fermentum consequat mi. Donec fermentum. Pellentesque malesuada nulla\n",
    "a mi. :) Duis sapien sem, aliquet nec, commodo eget, consequat quis,\n",
    "neque. Aliquam faucibus, elit ut dictum aliquet, felis nisl adipiscing\n",
    "sapien, sed malesuada diam lacus eget erat. :/ Cras mollis scelerisque\n",
    "nunc. Nullam arcu. ;-) Aliquam consequat. Curabitur augue lorem, dapibus\n",
    "quis, laoreet et, pretium ac, nisi. :) Aenean magna nisl, mollis quis,\n",
    "molestie eu, feugiat in, orci. In hac habitasse platea dictumst. :/\"\"\"\n"
   ]
  },
  {
   "cell_type": "code",
   "execution_count": 20,
   "id": "0ecf5ddd-1ede-494a-8121-44dce3eaa0f5",
   "metadata": {},
   "outputs": [
    {
     "name": "stdout",
     "output_type": "stream",
     "text": [
      "Lorem ipsum dolor sit amet \u001b[1;30;43m;)\u001b[m, consectetur adipiscing elit, sed do\n",
      "eiusmod tempor incididunt ut labore et dolore magna aliqua. \u001b[1;30;43m:)\u001b[m Ut enim ad\n",
      "minim veniam, quis nostrud exercitation ullamco laboris nisi ut\n",
      "aliquip ex ea commodo consequat. \u001b[1;30;43m:(\u001b[m \u001b[1;30;43m:(\u001b[m \u001b[1;30;43m:(\u001b[m Duis aute irure dolor in\n",
      "reprehenderit in voluptate velit esse cillum dolore eu fugiat nulla\n",
      "pariatur. Excepteur sint occaecat cupidatat non proident, sunt in\n",
      "culpa qui officia deserunt mollit anim id est laborum. \u001b[1;30;43m:P\u001b[m\n",
      "\n",
      "Curabitur pretium tincidunt lacus. \u001b[1;30;43m:-)\u001b[m Nulla gravida orci a odio. \u001b[1;30;43m:P\u001b[m Nullam\n",
      "varius, turpis et commodo pharetra, est eros bibendum elit, nec luctus\n",
      "magna felis sollicitudin mauris. \u001b[1;30;43m;-)\u001b[m Integer in mauris eu nibh euismod\n",
      "gravida. Duis ac tellus et risus vulputate vehicula. Donec lobortis\n",
      "risus a elit. Etiam tempor. \u001b[1;30;43m:-(\u001b[m Ut ullamcorper, ligula eu tempor congue,\n",
      "eros est euismod turpis, id tincidunt sapien risus a quam. \u001b[1;30;43m:)\u001b[m Maecenas\n",
      "fermentum consequat mi. Donec fermentum. Pellentesque malesuada nulla\n",
      "a mi. \u001b[1;30;43m:)\u001b[m Duis sapien sem, aliquet nec, commodo eget, consequat quis,\n",
      "neque. Aliquam faucibus, elit ut dictum aliquet, felis nisl adipiscing\n",
      "sapien, sed malesuada diam lacus eget erat. \u001b[1;30;43m:/\u001b[m Cras mollis scelerisque\n",
      "nunc. Nullam arcu. \u001b[1;30;43m;-)\u001b[m Aliquam consequat. Curabitur augue lorem, dapibus\n",
      "quis, laoreet et, pretium ac, nisi. \u001b[1;30;43m:)\u001b[m Aenean magna nisl, mollis quis,\n",
      "molestie eu, feugiat in, orci. In hac habitasse platea dictumst. \u001b[1;30;43m:/\u001b[m\n"
     ]
    }
   ],
   "source": [
    "import re\n",
    "import pandas as pd\n",
    "\n",
    "# from DS100 book...\n",
    "def reg(regex, text):\n",
    "    \"\"\"\n",
    "    Prints the string with the regex match highlighted.\n",
    "    \"\"\"\n",
    "    print(re.sub(f'({regex})', r'\\033[1;30;43m\\1\\033[m', text))\n",
    "    \n",
    "reg(r\"[:;]-?[\\)\\(P/]\", s)\n"
   ]
  },
  {
   "cell_type": "code",
   "execution_count": 27,
   "id": "ffaab611-cd7f-437c-8666-9c4a43035ce9",
   "metadata": {},
   "outputs": [
    {
     "data": {
      "text/plain": [
       "<Axes: >"
      ]
     },
     "execution_count": 27,
     "metadata": {},
     "output_type": "execute_result"
    },
    {
     "data": {
      "image/png": "[encoded data removed]",
      "text/plain": [
       "<Figure size 640x480 with 1 Axes>"
      ]
     },
     "metadata": {},
     "output_type": "display_data"
    }
   ],
   "source": [
    "counts={}\n",
    "for face in re.findall(r\"[:;]-?[\\)\\(P/]\", s):\n",
    "    if(face not in counts):\n",
    "        counts[face]=1\n",
    "    else:\n",
    "        counts[face]+=1\n",
    "pd.Series(counts).sort_values().plot.barh(fontsize=20, color=\"k\")"
   ]
  },
  {
   "cell_type": "code",
   "execution_count": 22,
   "id": "d5c3bbf0-4ccc-40cb-83d4-16fae6ff3e13",
   "metadata": {},
   "outputs": [],
   "source": [
    "s2= \"\"\"Lorem ipsum dolor sit amet ;), consectetur adipiscing elit, sed do\n",
    "eiusmod tempor incididunt ut labore et dolore magna aliqua. :) Ut enim ad\n",
    "minim veniam, quis nostrud exercitation ullamco laboris nisi ut\n",
    "aliquip ex ea commodo consequat. :( :( :( Duis aute irure dolor in\n",
    "reprehenderit in voluptate velit esse cillum dolore eu fugiat nulla\n",
    "pariatur. Excepteur sint occaecat cupidatat non proident, sunt in\n",
    "culpa qui officia deserunt mollit anim id est laborum. :P\n",
    "\n",
    "Curabitur pretium tincidunt lacus. :-) Nulla gravida orci a odio. :P Nullam\n",
    "varius, turpis et commodo pharetra, est eros bibendum elit, nec luctus\n",
    "magna felis sollicitudin mauris. ;-) Integer in mauris eu nibh euismod\n",
    "gravida. Duis ac tellus et risus vulputate vehicula. Donec lobortis\n",
    "risus a elit. Etiam tempor. :-( Ut ullamcorper, ligula eu tempor congue,\n",
    "eros est euismod turpis, id tincidunt sapien risus a quam. :) Maecenas\n",
    "fermentum consequat mi. Donec fermentum. Pellentesque malesuada nulla\n",
    "a mi. :) Duis sapien sem, aliquet nec, commodo eget, consequat quis,\n",
    "neque. Aliquam faucibus, elit ut dictum aliquet, felis nisl adipiscing\n",
    "sapien, sed malesuada diam lacus eget erat. :/ Cras mollis scelerisque\n",
    "nunc. Nullam arcu. ;-) Aliquam consequat. Curabitur augue lorem, dapibus\n",
    "quis, laoreet et, pretium ac, nisi. :) Aenean magna nisl, mollis quis,\n",
    "molestie eu, feugiat in, orci. In hac habitasse platea dictumst. :/\"\"\""
   ]
  },
  {
   "cell_type": "code",
   "execution_count": 23,
   "id": "1d435abe-bb37-4dc5-a48e-537e0a89210e",
   "metadata": {},
   "outputs": [],
   "source": [
    "def makeHappy(regex,text):\n",
    "    pass\n",
    "    "
   ]
  },
  {
   "cell_type": "code",
   "execution_count": 25,
   "id": "6a537214-6588-4a15-9e67-ee0f2dd70dbf",
   "metadata": {},
   "outputs": [],
   "source": [
    "face_re = r'([:;])([-~]?)([)DP\\(:/])'\n",
    "\n",
    "\n",
    "s_happy = re.sub(face_re, r'\\1\\2)', s)\n",
    "\n",
    "\n",
    "counts2 = {}\n",
    "for face in re.findall(face_re, s_happy):\n",
    "    smile = \"\".join(face)  # e.g. \":)\", \":-)\"\n",
    "    counts[smile] = counts.get(smile, 0) + 1"
   ]
  },
  {
   "cell_type": "code",
   "execution_count": 26,
   "id": "ad0231cf-8d29-4c0a-bdab-3bb0058af28d",
   "metadata": {},
   "outputs": [
    {
     "data": {
      "text/plain": [
       "<Axes: >"
      ]
     },
     "execution_count": 26,
     "metadata": {},
     "output_type": "execute_result"
    },
    {
     "data": {
      "image/png": "[encoded data removed]",
      "text/plain": [
       "<Figure size 640x480 with 1 Axes>"
      ]
     },
     "metadata": {},
     "output_type": "display_data"
    }
   ],
   "source": [
    "pd.Series(counts).sort_values().plot.barh(fontsize=14, color=\"k\")"
   ]
  },
  {
   "cell_type": "code",
   "execution_count": null,
   "id": "8b845a93-3050-4adf-b79f-90def378e1c0",
   "metadata": {},
   "outputs": [],
   "source": []
  }
 ],
 "metadata": {
  "kernelspec": {
   "display_name": "Python 3 (ipykernel)",
   "language": "python",
   "name": "python3"
  },
  "language_info": {
   "codemirror_mode": {
    "name": "ipython",
    "version": 3
   },
   "file_extension": ".py",
   "mimetype": "text/x-python",
   "name": "python",
   "nbconvert_exporter": "python",
   "pygments_lexer": "ipython3",
   "version": "3.10.12"
  }
 },
 "nbformat": 4,
 "nbformat_minor": 5
}
