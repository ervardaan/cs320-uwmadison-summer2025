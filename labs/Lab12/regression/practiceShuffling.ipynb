{
 "cells": [
  {
   "cell_type": "code",
   "execution_count": 1,
   "id": "e97685a4-85a7-4b43-b72f-16f4a9232700",
   "metadata": {},
   "outputs": [
    {
     "data": {
      "text/html": [
       "<div>\n",
       "<style scoped>\n",
       "    .dataframe tbody tr th:only-of-type {\n",
       "        vertical-align: middle;\n",
       "    }\n",
       "\n",
       "    .dataframe tbody tr th {\n",
       "        vertical-align: top;\n",
       "    }\n",
       "\n",
       "    .dataframe thead th {\n",
       "        text-align: right;\n",
       "    }\n",
       "</style>\n",
       "<table border=\"1\" class=\"dataframe\">\n",
       "  <thead>\n",
       "    <tr style=\"text-align: right;\">\n",
       "      <th></th>\n",
       "      <th>length</th>\n",
       "      <th>ms</th>\n",
       "    </tr>\n",
       "  </thead>\n",
       "  <tbody>\n",
       "    <tr>\n",
       "      <th>0</th>\n",
       "      <td>0.0</td>\n",
       "      <td>NaN</td>\n",
       "    </tr>\n",
       "    <tr>\n",
       "      <th>1</th>\n",
       "      <td>1000.0</td>\n",
       "      <td>NaN</td>\n",
       "    </tr>\n",
       "    <tr>\n",
       "      <th>2</th>\n",
       "      <td>2000.0</td>\n",
       "      <td>NaN</td>\n",
       "    </tr>\n",
       "    <tr>\n",
       "      <th>3</th>\n",
       "      <td>3000.0</td>\n",
       "      <td>NaN</td>\n",
       "    </tr>\n",
       "    <tr>\n",
       "      <th>4</th>\n",
       "      <td>4000.0</td>\n",
       "      <td>NaN</td>\n",
       "    </tr>\n",
       "    <tr>\n",
       "      <th>5</th>\n",
       "      <td>5000.0</td>\n",
       "      <td>NaN</td>\n",
       "    </tr>\n",
       "    <tr>\n",
       "      <th>6</th>\n",
       "      <td>6000.0</td>\n",
       "      <td>NaN</td>\n",
       "    </tr>\n",
       "    <tr>\n",
       "      <th>7</th>\n",
       "      <td>7000.0</td>\n",
       "      <td>NaN</td>\n",
       "    </tr>\n",
       "    <tr>\n",
       "      <th>8</th>\n",
       "      <td>8000.0</td>\n",
       "      <td>NaN</td>\n",
       "    </tr>\n",
       "    <tr>\n",
       "      <th>9</th>\n",
       "      <td>9000.0</td>\n",
       "      <td>NaN</td>\n",
       "    </tr>\n",
       "    <tr>\n",
       "      <th>10</th>\n",
       "      <td>10000.0</td>\n",
       "      <td>NaN</td>\n",
       "    </tr>\n",
       "  </tbody>\n",
       "</table>\n",
       "</div>"
      ],
      "text/plain": [
       "     length  ms\n",
       "0       0.0 NaN\n",
       "1    1000.0 NaN\n",
       "2    2000.0 NaN\n",
       "3    3000.0 NaN\n",
       "4    4000.0 NaN\n",
       "5    5000.0 NaN\n",
       "6    6000.0 NaN\n",
       "7    7000.0 NaN\n",
       "8    8000.0 NaN\n",
       "9    9000.0 NaN\n",
       "10  10000.0 NaN"
      ]
     },
     "execution_count": 1,
     "metadata": {},
     "output_type": "execute_result"
    }
   ],
   "source": [
    "import time, random\n",
    "import pandas as pd\n",
    "from sklearn.linear_model import LinearRegression\n",
    "\n",
    "times_df = pd.DataFrame({\"length\": [i * 1000 for i in range(11)], \"ms\": None}, dtype=float)\n",
    "times_df\n"
   ]
  },
  {
   "cell_type": "code",
   "execution_count": 2,
   "id": "e23da28b-a70d-4882-b33d-87f7b98a570f",
   "metadata": {},
   "outputs": [],
   "source": [
    "def measure_shuffle(list_len):\n",
    "    nums = list(range(list_len))\n",
    "    t0 = time.time()\n",
    "    random.shuffle(nums)\n",
    "    t1 = time.time()\n",
    "    return (t1 - t0) * 1000"
   ]
  },
  {
   "cell_type": "code",
   "execution_count": 3,
   "id": "1045163b-bc0a-4805-adfa-2c1c1f88c5f6",
   "metadata": {},
   "outputs": [
    {
     "data": {
      "text/plain": [
       "<Axes: xlabel='length', ylabel='ms'>"
      ]
     },
     "execution_count": 3,
     "metadata": {},
     "output_type": "execute_result"
    },
    {
     "data": {
      "image/png": "[encoded data removed]",
      "text/plain": [
       "<Figure size 640x480 with 1 Axes>"
      ]
     },
     "metadata": {},
     "output_type": "display_data"
    }
   ],
   "source": [
    "for i in times_df.index:\n",
    "    length = int(times_df.at[i, \"length\"])\n",
    "    times_df.at[i, \"ms\"] = measure_shuffle(length)\n",
    "\n",
    "times_df.plot.scatter(x=\"length\", y=\"ms\")\n"
   ]
  },
  {
   "cell_type": "code",
   "execution_count": 5,
   "id": "4cb69d4d-0d61-4732-a727-053d711fedd5",
   "metadata": {},
   "outputs": [
    {
     "name": "stdout",
     "output_type": "stream",
     "text": [
      "Predicted time to shuffle 1,000,000 elements: 683.1 ms\n"
     ]
    },
    {
     "name": "stderr",
     "output_type": "stream",
     "text": [
      "/home/varda/.local/lib/python3.10/site-packages/sklearn/utils/validation.py:2739: UserWarning: X does not have valid feature names, but LinearRegression was fitted with feature names\n",
      "  warnings.warn(\n"
     ]
    }
   ],
   "source": [
    "lr = LinearRegression()\n",
    "lr.fit(times_df[[\"length\"]], times_df[\"ms\"])\n",
    "prediction = lr.predict([[1000000]])\n",
    "print(f\"Predicted time to shuffle 1,000,000 elements: {prediction[0]:.1f} ms\")"
   ]
  },
  {
   "cell_type": "code",
   "execution_count": 6,
   "id": "ed439c3b-e525-469e-a645-ff6dc2e57711",
   "metadata": {},
   "outputs": [
    {
     "name": "stdout",
     "output_type": "stream",
     "text": [
      "Actual time to shuffle 1,000,000 elements: 764.3 ms\n"
     ]
    }
   ],
   "source": [
    "actual = measure_shuffle(1000000)\n",
    "print(f\"Actual time to shuffle 1,000,000 elements: {actual:.1f} ms\")"
   ]
  },
  {
   "cell_type": "code",
   "execution_count": null,
   "id": "4e9fef57-931c-401b-8929-1f7f4c9b81e9",
   "metadata": {},
   "outputs": [],
   "source": []
  }
 ],
 "metadata": {
  "kernelspec": {
   "display_name": "Python 3 (ipykernel)",
   "language": "python",
   "name": "python3"
  },
  "language_info": {
   "codemirror_mode": {
    "name": "ipython",
    "version": 3
   },
   "file_extension": ".py",
   "mimetype": "text/x-python",
   "name": "python",
   "nbconvert_exporter": "python",
   "pygments_lexer": "ipython3",
   "version": "3.10.12"
  }
 },
 "nbformat": 4,
 "nbformat_minor": 5
}
