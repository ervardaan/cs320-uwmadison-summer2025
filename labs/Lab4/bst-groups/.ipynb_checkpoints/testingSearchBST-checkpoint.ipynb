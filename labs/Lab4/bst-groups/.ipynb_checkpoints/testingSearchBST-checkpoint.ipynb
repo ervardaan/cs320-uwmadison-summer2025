{
 "cells": [
  {
   "cell_type": "code",
   "execution_count": 1,
   "id": "af474f54-cbd4-4e70-ae25-32edaad9ae6c",
   "metadata": {},
   "outputs": [
    {
     "name": "stdout",
     "output_type": "stream",
     "text": [
      "A : [2]\n",
      "B : [3]\n",
      "C : [1, 4]\n"
     ]
    }
   ],
   "source": [
    "from search import BST\n",
    "\n",
    "# build a small tree\n",
    "t = BST()\n",
    "t.add(\"B\", 3)\n",
    "t.add(\"A\", 2)\n",
    "t.add(\"C\", 1)\n",
    "t.add(\"C\", 4)\n",
    "\n",
    "# len at root should count 4 total values\n",
    "assert len(t.root) == 4\n",
    "\n",
    "# lookups\n",
    "assert t.root.lookup(\"A\") == [2]\n",
    "assert t.root.lookup(\"B\") == [3]\n",
    "assert t.root.lookup(\"C\") == [1, 4]\n",
    "assert t.root.lookup(\"Z\") == []\n",
    "\n",
    "# dump in ascending order\n",
    "t.dump()\n",
    "# A : [2]\n",
    "# B : [3]\n",
    "# C : [1, 4]\n"
   ]
  },
  {
   "cell_type": "code",
   "execution_count": null,
   "id": "9ec6a33a-670b-4a40-8edf-d5b0409bdb5d",
   "metadata": {},
   "outputs": [],
   "source": []
  }
 ],
 "metadata": {
  "kernelspec": {
   "display_name": "Python 3 (ipykernel)",
   "language": "python",
   "name": "python3"
  },
  "language_info": {
   "codemirror_mode": {
    "name": "ipython",
    "version": 3
   },
   "file_extension": ".py",
   "mimetype": "text/x-python",
   "name": "python",
   "nbconvert_exporter": "python",
   "pygments_lexer": "ipython3",
   "version": "3.10.12"
  }
 },
 "nbformat": 4,
 "nbformat_minor": 5
}
