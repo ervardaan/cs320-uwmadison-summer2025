{
 "cells": [
  {
   "cell_type": "code",
   "execution_count": null,
   "id": "540c1893-8605-4e29-8507-0e18348b85a0",
   "metadata": {},
   "outputs": [],
   "source": [
    "import pandas as pd\n",
    "from sklearn.model_selection import train_test_split\n",
    "from sklearn.linear_model import LinearRegression"
   ]
  },
  {
   "cell_type": "markdown",
   "id": "6057d5d9-633f-4e76-8d66-f20a5f4603fd",
   "metadata": {},
   "source": [
    "We will be using house price data from Kaggle: https://www.kaggle.com/datasets/ashydv/housing-dataset/code\n",
    "kaggle is a popular site for machine learning, with user-posted datasets, models, and competitions\n"
   ]
  },
  {
   "cell_type": "code",
   "execution_count": null,
   "id": "c5b22160-7046-41f9-839d-592097fbf18d",
   "metadata": {},
   "outputs": [],
   "source": [
    "houses = pd.read_csv(\"Housing.csv\")"
   ]
  },
  {
   "cell_type": "markdown",
   "id": "d9ce792c-8f31-47a0-9665-bf7172696490",
   "metadata": {},
   "source": [
    "It is good practice to have a train and test set.\n",
    "This technique helps us to measure the model's ability to track actual trends\n",
    "If we tested on the same data as we trained the model, memorizing points would score best, but isn't useful"
   ]
  },
  {
   "cell_type": "code",
   "execution_count": null,
   "id": "f4ca1bbd-0274-4bf1-99b1-246864eb9a04",
   "metadata": {},
   "outputs": [],
   "source": [
    "train, test = train_test_split(houses)"
   ]
  },
  {
   "cell_type": "markdown",
   "id": "7e47dba5-62e0-4818-aee1-49b6781ced61",
   "metadata": {},
   "source": [
    "In the modeling process, we first create an empty model, then fit it on training data.\n",
    "Once fit, we can use it to make predictions."
   ]
  },
  {
   "cell_type": "code",
   "execution_count": null,
   "id": "1e5b0a6b-8ab7-4645-80b5-4ce338b34a12",
   "metadata": {},
   "outputs": [],
   "source": [
    "m1 = LinearRegression()"
   ]
  },
  {
   "cell_type": "markdown",
   "id": "58e50daf-0b53-43ec-8452-7d2cde3c4204",
   "metadata": {},
   "source": [
    "Fitting a model will take X columns (what we are making predictions with) and a Y column (what we are trying to predict)."
   ]
  },
  {
   "cell_type": "code",
   "execution_count": null,
   "id": "d59a9330-cdd4-460d-abca-012c8e1b60c1",
   "metadata": {},
   "outputs": [],
   "source": [
    "m1.fit(train[[\"area\"]], train[\"price\"])"
   ]
  },
  {
   "cell_type": "code",
   "execution_count": null,
   "id": "dee8b4f0-d028-4d54-8c05-74db3ece1ee9",
   "metadata": {},
   "outputs": [],
   "source": [
    "# The x columns must be a 2D array, like a Pandas DataFrame, even if you are only using 1 column.\n",
    "# Using [[xcol1, xcol2, ...]] with a DataFrame will trim it to a DataFrame with only the columns listed.\n",
    "# The y column must just be a 1D array, like a Pandas Series.\n",
    "\n",
    "train[[\"area\"]] # this will generate a DataFrame, which is different than train[\"area\"], which would be a Series"
   ]
  },
  {
   "cell_type": "markdown",
   "id": "f919e4d8-7a2a-46b1-84d6-a4976539d172",
   "metadata": {},
   "source": [
    "When using the model to predict, we must pass the x columns in the same format as the fitting process.\n",
    "The model's job is to use the trends learned when fitted to predict a y column, which it does not have access to."
   ]
  },
  {
   "cell_type": "code",
   "execution_count": null,
   "id": "5931a055-4605-4ee3-ae13-d45a94c9f316",
   "metadata": {},
   "outputs": [],
   "source": [
    "predictions = m1.predict(test[[\"area\"]])"
   ]
  },
  {
   "cell_type": "code",
   "execution_count": null,
   "id": "7862a3d3-ce66-4bbd-9ba5-d76026a80d36",
   "metadata": {},
   "outputs": [],
   "source": [
    "# We can compare these predictions with the actual house prices to compare the accuracy of different models.\n",
    "abs(predictions - test[\"price\"]).mean()"
   ]
  },
  {
   "cell_type": "code",
   "execution_count": null,
   "id": "b22d326c-4b32-43b1-b8c8-da6e81c954fb",
   "metadata": {},
   "outputs": [],
   "source": [
    "# On average, we can see that the estimate is off by $1192153 in this base model\n",
    "\n",
    "# try adding new columns in your x columns to increase your prediction accuracy"
   ]
  },
  {
   "cell_type": "code",
   "execution_count": null,
   "id": "0656451d-09fc-4c87-96ce-27fd66f6bf87",
   "metadata": {},
   "outputs": [],
   "source": [
    "m2 = LinearRegression()"
   ]
  }
 ],
 "metadata": {
  "kernelspec": {
   "display_name": "Python 3 (ipykernel)",
   "language": "python",
   "name": "python3"
  },
  "language_info": {
   "codemirror_mode": {
    "name": "ipython",
    "version": 3
   },
   "file_extension": ".py",
   "mimetype": "text/x-python",
   "name": "python",
   "nbconvert_exporter": "python",
   "pygments_lexer": "ipython3",
   "version": "3.10.12"
  }
 },
 "nbformat": 4,
 "nbformat_minor": 5
}
