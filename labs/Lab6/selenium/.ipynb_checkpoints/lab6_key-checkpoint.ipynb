{
 "cells": [
  {
   "cell_type": "code",
   "execution_count": 1,
   "id": "1784c0cf",
   "metadata": {},
   "outputs": [
    {
     "name": "stdout",
     "output_type": "stream",
     "text": [
      "Alert text: You are using Selenium! Welcome, webscraper!\n"
     ]
    }
   ],
   "source": [
    "from selenium import webdriver\n",
    "import time\n",
    "\n",
    "options = webdriver.ChromeOptions()\n",
    "options.add_argument('--headless')  \n",
    "driver = webdriver.Chrome(options=options)\n",
    "\n",
    "# update this with you vm's ip address driver.get(\"http://<VMSIP>:5000\")\n",
    "\n",
    "\n",
    "button = driver.find_element(\"id\", \"BUTTON\")\n",
    "button.click()\n",
    "\n",
    "\n",
    "alert = driver.switch_to.alert\n",
    "print(\"Alert text:\", alert.text)\n",
    "alert.accept()\n",
    "\n",
    "driver.quit()"
   ]
  },
  {
   "cell_type": "code",
   "execution_count": null,
   "id": "d4cdce8e-65e6-4f48-9f8e-5277128e2f5e",
   "metadata": {},
   "outputs": [],
   "source": [
    "from selenium import webdriver\n",
    "from selenium.webdriver.common.by import By\n",
    "import time\n",
    "\n",
    "options = webdriver.ChromeOptions()\n",
    "options.add_argument('--headless')  \n",
    "driver = webdriver.Chrome(options=options)\n",
    "\n",
    "# update this with you vm's ip address driver.get(\"http://<VMSIP>:5000\")\n",
    "time.sleep(1)\n",
    "\n",
    "input_box = driver.find_element(By.ID, \"secret-input\")\n",
    "input_box.send_keys(\"20251106\")\n",
    "\n",
    "button = driver.find_elements(\"tag name\", \"button\")[-1]\n",
    "button.click()\n",
    "\n",
    "time.sleep(2)\n",
    "alert = driver.switch_to.alert\n",
    "print(\"Alert text:\", alert.text)\n",
    "alert.accept()\n",
    "\n",
    "driver.quit()"
   ]
  }
 ],
 "metadata": {
  "kernelspec": {
   "display_name": "Python 3 (ipykernel)",
   "language": "python",
   "name": "python3"
  },
  "language_info": {
   "codemirror_mode": {
    "name": "ipython",
    "version": 3
   },
   "file_extension": ".py",
   "mimetype": "text/x-python",
   "name": "python",
   "nbconvert_exporter": "python",
   "pygments_lexer": "ipython3",
   "version": "3.10.12"
  }
 },
 "nbformat": 4,
 "nbformat_minor": 5
}
