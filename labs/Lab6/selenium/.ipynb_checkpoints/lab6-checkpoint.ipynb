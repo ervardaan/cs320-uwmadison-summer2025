{
 "cells": [
  {
   "cell_type": "markdown",
   "id": "809f4249",
   "metadata": {},
   "source": [
    "## What's the point of Selenium\n",
    "\n",
    "Similar to what the lecture notes touch on, the internet is full of data\n",
    "but unfortunately for us (as data scientists), this data is surrounded by lots of \n",
    "html to be more visually appealing for numerous reasons. But subsequently \n",
    "a lot of the data is embedded within html that is structured the same. Making it a \n",
    "repetitive task, the type of things computers are best at! Hence the reason why\n",
    "web scraping can be a extremely helpful tool, to get data on just about anything\n",
    "on the internet.  \n",
    "\n",
    "Selenium allows us to navigate through websites entirely using code. \n",
    "This means that we are able to automate and scrape from sites without \n",
    "having to do it all ourselves. **It is important to follow restrictions \n",
    "when doing so, but this can be quite powerful.**"
   ]
  },
  {
   "cell_type": "markdown",
   "id": "fab18888",
   "metadata": {},
   "source": [
    "### Part 1\n",
    "\n",
    "In this lab, we will practice some of the basic skills needed to start working with Selenium and collecting data from the web.\n",
    "\n",
    "First, we need an example website to start working on this lab. Please run:\n",
    "\n",
    "```\n",
    "python3 lab6site.py\n",
    "```\n",
    "\n",
    "After the Flask app has launched, you can view the hosted site at `http://<VM IP ADDRESS>:5000`.  \n",
    "From this, you’ll see a very simple website.  \n",
    "Actually, in the backend, the website can detect whether the visitor is a person or a web scraping client!\n",
    "\n",
    "If you click on the button, an alert will pop up… click on it.\n",
    "\n",
    "The first task is to press the button using a Selenium WebDriver and observe the output.  \n",
    "Here is some starter code:\n",
    "\n",
    "I highly recommend poking around in the HTML via inspect element/dev tools—there are other ways to inspect the HTML, but I find this one the simplest."
   ]
  },
  {
   "cell_type": "code",
   "execution_count": 10,
   "id": "1784c0cf",
   "metadata": {},
   "outputs": [
    {
     "name": "stdout",
     "output_type": "stream",
     "text": [
      "Alert text: You are using Selenium! Welcome, webscraper!\n"
     ]
    }
   ],
   "source": [
    "from selenium import webdriver\n",
    "from selenium.webdriver.common.by import By\n",
    "from selenium.webdriver.support.ui import WebDriverWait\n",
    "from selenium.webdriver.support import expected_conditions as EC\n",
    "\n",
    "# — set up headless Chrome\n",
    "options = webdriver.ChromeOptions()\n",
    "options.add_argument('--headless')\n",
    "driver = webdriver.Chrome(options=options)\n",
    "\n",
    "try:\n",
    "    # 1. load page\n",
    "    driver.get(\"http://34.67.179.64:5000\")\n",
    "\n",
    "    # 2. locate & click the button\n",
    "    #    adjust the locator to match the HTML (e.g. ID, class, tag)\n",
    "    button = driver.find_element(By.ID, \"BUTTON\")\n",
    "    button.click()\n",
    "\n",
    "    # 3. wait up to 10s for the alert to be present\n",
    "    WebDriverWait(driver, 10).until(EC.alert_is_present())\n",
    "\n",
    "    # 4. switch to it, print its text, then accept\n",
    "    alert = driver.switch_to.alert\n",
    "    print(\"Alert text:\", alert.text)\n",
    "    alert.accept()\n",
    "\n",
    "finally:\n",
    "    driver.quit()\n",
    "\n"
   ]
  },
  {
   "cell_type": "markdown",
   "id": "d10d697b",
   "metadata": {},
   "source": [
    "Hint: You will need to find a webelement that you can call .click() with"
   ]
  },
  {
   "cell_type": "markdown",
   "id": "36e98ebd",
   "metadata": {},
   "source": [
    "### Part 2\n",
    "\n",
    "For the second part of this lab, we will be working on sending a string to an input box.\n",
    "\n",
    "You might be thinking... *“I didn’t see an input box on that site.”*  \n",
    "Well, look again! You're right—there isn't one that's **visibly** displayed,  \n",
    "but if you inspect the HTML, you’ll find one hidden (what a sneaky TA).\n",
    "\n",
    "There is also a hidden code in the HTML—find it.\n",
    "\n",
    "Then, use Selenium to:\n",
    "1. Enter the string into the hidden input box,\n",
    "2. Press the button,\n",
    "3. Output the alert box.\n",
    "\n",
    "You can reuse the starter code from above to begin this part as well.\n"
   ]
  },
  {
   "cell_type": "code",
   "execution_count": 11,
   "id": "2f426929",
   "metadata": {},
   "outputs": [
    {
     "name": "stdout",
     "output_type": "stream",
     "text": [
      "None\n"
     ]
    },
    {
     "ename": "UnexpectedAlertPresentException",
     "evalue": "Alert Text: Wrong input. Try again!\nMessage: unexpected alert open: {Alert text : Wrong input. Try again!}\n  (Session info: chrome=138.0.7204.49)\nStacktrace:\n#0 0x585bfa5b01da <unknown>\n#1 0x585bfa05aab0 <unknown>\n#2 0x585bfa0f8a00 <unknown>\n#3 0x585bfa0d1f73 <unknown>\n#4 0x585bfa09eaeb <unknown>\n#5 0x585bfa09f751 <unknown>\n#6 0x585bfa574aeb <unknown>\n#7 0x585bfa5788c9 <unknown>\n#8 0x585bfa55b8c9 <unknown>\n#9 0x585bfa579488 <unknown>\n#10 0x585bfa54007f <unknown>\n#11 0x585bfa59d888 <unknown>\n#12 0x585bfa59da66 <unknown>\n#13 0x585bfa5af4f6 <unknown>\n#14 0x7d3273894ac3 <unknown>\n",
     "output_type": "error",
     "traceback": [
      "\u001b[0;31m---------------------------------------------------------------------------\u001b[0m",
      "\u001b[0;31mUnexpectedAlertPresentException\u001b[0m           Traceback (most recent call last)",
      "Cell \u001b[0;32mIn[11], line 20\u001b[0m\n\u001b[1;32m     18\u001b[0m submitButton\u001b[38;5;241m=\u001b[39mdriver\u001b[38;5;241m.\u001b[39mfind_element(By\u001b[38;5;241m.\u001b[39mCSS_SELECTOR, \u001b[38;5;124m\"\u001b[39m\u001b[38;5;124mbutton[onclick=\u001b[39m\u001b[38;5;124m'\u001b[39m\u001b[38;5;124mverifyInput()\u001b[39m\u001b[38;5;124m'\u001b[39m\u001b[38;5;124m]\u001b[39m\u001b[38;5;124m\"\u001b[39m)\u001b[38;5;241m.\u001b[39mclick()\n\u001b[1;32m     19\u001b[0m \u001b[38;5;28mprint\u001b[39m(submitButton)\n\u001b[0;32m---> 20\u001b[0m all_buttons \u001b[38;5;241m=\u001b[39m \u001b[43mdriver\u001b[49m\u001b[38;5;241;43m.\u001b[39;49m\u001b[43mfind_elements\u001b[49m\u001b[43m(\u001b[49m\u001b[43mBy\u001b[49m\u001b[38;5;241;43m.\u001b[39;49m\u001b[43mTAG_NAME\u001b[49m\u001b[43m,\u001b[49m\u001b[43m \u001b[49m\u001b[38;5;124;43m\"\u001b[39;49m\u001b[38;5;124;43mbutton\u001b[39;49m\u001b[38;5;124;43m\"\u001b[39;49m\u001b[43m)\u001b[49m\n\u001b[1;32m     21\u001b[0m \u001b[38;5;28mprint\u001b[39m(all_buttons)\n\u001b[1;32m     23\u001b[0m \u001b[38;5;66;03m# 5. Wait for the alert, print its text, then close it\u001b[39;00m\n",
      "File \u001b[0;32m~/.local/lib/python3.10/site-packages/selenium/webdriver/remote/webdriver.py:926\u001b[0m, in \u001b[0;36mWebDriver.find_elements\u001b[0;34m(self, by, value)\u001b[0m\n\u001b[1;32m    922\u001b[0m     \u001b[38;5;28;01mreturn\u001b[39;00m \u001b[38;5;28mself\u001b[39m\u001b[38;5;241m.\u001b[39mexecute_script(find_element_js, by\u001b[38;5;241m.\u001b[39mto_dict())\n\u001b[1;32m    924\u001b[0m \u001b[38;5;66;03m# Return empty list if driver returns null\u001b[39;00m\n\u001b[1;32m    925\u001b[0m \u001b[38;5;66;03m# See https://github.com/SeleniumHQ/selenium/issues/4555\u001b[39;00m\n\u001b[0;32m--> 926\u001b[0m \u001b[38;5;28;01mreturn\u001b[39;00m \u001b[38;5;28;43mself\u001b[39;49m\u001b[38;5;241;43m.\u001b[39;49m\u001b[43mexecute\u001b[49m\u001b[43m(\u001b[49m\u001b[43mCommand\u001b[49m\u001b[38;5;241;43m.\u001b[39;49m\u001b[43mFIND_ELEMENTS\u001b[49m\u001b[43m,\u001b[49m\u001b[43m \u001b[49m\u001b[43m{\u001b[49m\u001b[38;5;124;43m\"\u001b[39;49m\u001b[38;5;124;43musing\u001b[39;49m\u001b[38;5;124;43m\"\u001b[39;49m\u001b[43m:\u001b[49m\u001b[43m \u001b[49m\u001b[43mby\u001b[49m\u001b[43m,\u001b[49m\u001b[43m \u001b[49m\u001b[38;5;124;43m\"\u001b[39;49m\u001b[38;5;124;43mvalue\u001b[39;49m\u001b[38;5;124;43m\"\u001b[39;49m\u001b[43m:\u001b[49m\u001b[43m \u001b[49m\u001b[43mvalue\u001b[49m\u001b[43m}\u001b[49m\u001b[43m)\u001b[49m[\u001b[38;5;124m\"\u001b[39m\u001b[38;5;124mvalue\u001b[39m\u001b[38;5;124m\"\u001b[39m] \u001b[38;5;129;01mor\u001b[39;00m []\n",
      "File \u001b[0;32m~/.local/lib/python3.10/site-packages/selenium/webdriver/remote/webdriver.py:429\u001b[0m, in \u001b[0;36mWebDriver.execute\u001b[0;34m(self, driver_command, params)\u001b[0m\n\u001b[1;32m    427\u001b[0m response \u001b[38;5;241m=\u001b[39m \u001b[38;5;28mself\u001b[39m\u001b[38;5;241m.\u001b[39mcommand_executor\u001b[38;5;241m.\u001b[39mexecute(driver_command, params)\n\u001b[1;32m    428\u001b[0m \u001b[38;5;28;01mif\u001b[39;00m response:\n\u001b[0;32m--> 429\u001b[0m     \u001b[38;5;28;43mself\u001b[39;49m\u001b[38;5;241;43m.\u001b[39;49m\u001b[43merror_handler\u001b[49m\u001b[38;5;241;43m.\u001b[39;49m\u001b[43mcheck_response\u001b[49m\u001b[43m(\u001b[49m\u001b[43mresponse\u001b[49m\u001b[43m)\u001b[49m\n\u001b[1;32m    430\u001b[0m     response[\u001b[38;5;124m\"\u001b[39m\u001b[38;5;124mvalue\u001b[39m\u001b[38;5;124m\"\u001b[39m] \u001b[38;5;241m=\u001b[39m \u001b[38;5;28mself\u001b[39m\u001b[38;5;241m.\u001b[39m_unwrap_value(response\u001b[38;5;241m.\u001b[39mget(\u001b[38;5;124m\"\u001b[39m\u001b[38;5;124mvalue\u001b[39m\u001b[38;5;124m\"\u001b[39m, \u001b[38;5;28;01mNone\u001b[39;00m))\n\u001b[1;32m    431\u001b[0m     \u001b[38;5;28;01mreturn\u001b[39;00m response\n",
      "File \u001b[0;32m~/.local/lib/python3.10/site-packages/selenium/webdriver/remote/errorhandler.py:231\u001b[0m, in \u001b[0;36mErrorHandler.check_response\u001b[0;34m(self, response)\u001b[0m\n\u001b[1;32m    229\u001b[0m     \u001b[38;5;28;01melif\u001b[39;00m \u001b[38;5;124m\"\u001b[39m\u001b[38;5;124malert\u001b[39m\u001b[38;5;124m\"\u001b[39m \u001b[38;5;129;01min\u001b[39;00m value:\n\u001b[1;32m    230\u001b[0m         alert_text \u001b[38;5;241m=\u001b[39m value[\u001b[38;5;124m\"\u001b[39m\u001b[38;5;124malert\u001b[39m\u001b[38;5;124m\"\u001b[39m]\u001b[38;5;241m.\u001b[39mget(\u001b[38;5;124m\"\u001b[39m\u001b[38;5;124mtext\u001b[39m\u001b[38;5;124m\"\u001b[39m)\n\u001b[0;32m--> 231\u001b[0m     \u001b[38;5;28;01mraise\u001b[39;00m exception_class(message, screen, stacktrace, alert_text)  \u001b[38;5;66;03m# type: ignore[call-arg]  # mypy is not smart enough here\u001b[39;00m\n\u001b[1;32m    232\u001b[0m \u001b[38;5;28;01mraise\u001b[39;00m exception_class(message, screen, stacktrace)\n",
      "\u001b[0;31mUnexpectedAlertPresentException\u001b[0m: Alert Text: Wrong input. Try again!\nMessage: unexpected alert open: {Alert text : Wrong input. Try again!}\n  (Session info: chrome=138.0.7204.49)\nStacktrace:\n#0 0x585bfa5b01da <unknown>\n#1 0x585bfa05aab0 <unknown>\n#2 0x585bfa0f8a00 <unknown>\n#3 0x585bfa0d1f73 <unknown>\n#4 0x585bfa09eaeb <unknown>\n#5 0x585bfa09f751 <unknown>\n#6 0x585bfa574aeb <unknown>\n#7 0x585bfa5788c9 <unknown>\n#8 0x585bfa55b8c9 <unknown>\n#9 0x585bfa579488 <unknown>\n#10 0x585bfa54007f <unknown>\n#11 0x585bfa59d888 <unknown>\n#12 0x585bfa59da66 <unknown>\n#13 0x585bfa5af4f6 <unknown>\n#14 0x7d3273894ac3 <unknown>\n"
     ]
    }
   ],
   "source": [
    "from selenium import webdriver\n",
    "from selenium.webdriver.common.by import By\n",
    "from selenium.webdriver.support.ui import WebDriverWait\n",
    "from selenium.webdriver.support import expected_conditions as EC\n",
    "\n",
    "# ── Set up headless Chrome ─────────────────────────────────────────────────────\n",
    "options = webdriver.ChromeOptions()\n",
    "options.add_argument('--headless')\n",
    "driver = webdriver.Chrome(options=options)\n",
    "\n",
    "try:\n",
    "    driver.get(\"http://34.67.179.64:5000\")\n",
    "\n",
    "    inp = driver.find_element(By.ID, \"secret-input\")\n",
    "\n",
    "    # 4. Type the secret into that hidden input and click the “Submit Hidden Answer” button\n",
    "    inp.send_keys(secret)\n",
    "    nn=driver.findElement(By.cssSelector(\"button[onclick='verifyInput()']\"));\n",
    "\n",
    "    # 5. Wait for the alert, print its text, then close it\n",
    "    alert = WebDriverWait(driver, 5).until(EC.alert_is_present())\n",
    "    print(\"Alert text:\", alert.text)\n",
    "    alert.accept()\n",
    "\n",
    "finally:\n",
    "    driver.quit()\n"
   ]
  },
  {
   "cell_type": "markdown",
   "id": "35dce25b",
   "metadata": {},
   "source": [
    "### Part 3\n",
    "\n",
    "In this part, I want to give you the freedom to explore the power of Selenium and web scraping.\n",
    "\n",
    "Go to **any website** you’re interested in—Amazon, eBay, ESPN, a movie theater, etc.—and try to extract a **meaningful piece of data**.  \n",
    "By \"meaningful,\" I mean something beyond just grabbing the raw HTML—extract something a user would actually care about.\n",
    "\n",
    "Use **Inspect Element** to examine the HTML structure and locate the data you're interested in.  \n",
    "Then, write a short script to extract and print that data using Selenium.\n",
    "\n",
    "#### Example ideas:\n",
    "- The price of an Amazon or eBay listing  \n",
    "- The score of a recent sports game  \n",
    "- The list of movies currently showing at a theater  \n",
    "\n",
    "Feel free to get creative here—just make sure to comment your code and briefly explain what your scraper is doing.\n"
   ]
  },
  {
   "cell_type": "markdown",
   "id": "2628d1a5",
   "metadata": {},
   "source": []
  },
  {
   "cell_type": "code",
   "execution_count": 6,
   "id": "331e5458-996d-4556-bd87-0cbecfb239a1",
   "metadata": {},
   "outputs": [
    {
     "ename": "TimeoutException",
     "evalue": "Message: \nStacktrace:\n#0 0x5b2b0087e1da <unknown>\n#1 0x5b2b00328ab0 <unknown>\n#2 0x5b2b0037a6f0 <unknown>\n#3 0x5b2b0037a8e1 <unknown>\n#4 0x5b2b003c8b94 <unknown>\n#5 0x5b2b003a01cd <unknown>\n#6 0x5b2b003c5fee <unknown>\n#7 0x5b2b0039ff73 <unknown>\n#8 0x5b2b0036caeb <unknown>\n#9 0x5b2b0036d751 <unknown>\n#10 0x5b2b00842aeb <unknown>\n#11 0x5b2b008468c9 <unknown>\n#12 0x5b2b008298c9 <unknown>\n#13 0x5b2b00847488 <unknown>\n#14 0x5b2b0080e07f <unknown>\n#15 0x5b2b0086b888 <unknown>\n#16 0x5b2b0086ba66 <unknown>\n#17 0x5b2b0087d4f6 <unknown>\n#18 0x713b4e294ac3 <unknown>\n",
     "output_type": "error",
     "traceback": [
      "\u001b[0;31m---------------------------------------------------------------------------\u001b[0m",
      "\u001b[0;31mTimeoutException\u001b[0m                          Traceback (most recent call last)",
      "Cell \u001b[0;32mIn[6], line 41\u001b[0m\n\u001b[1;32m     38\u001b[0m driver\u001b[38;5;241m.\u001b[39mget(URL)\n\u001b[1;32m     40\u001b[0m \u001b[38;5;66;03m# ── 3) Grab the product title ────────────────────────────────────────────────\u001b[39;00m\n\u001b[0;32m---> 41\u001b[0m title_el \u001b[38;5;241m=\u001b[39m \u001b[43mWebDriverWait\u001b[49m\u001b[43m(\u001b[49m\u001b[43mdriver\u001b[49m\u001b[43m,\u001b[49m\u001b[43m \u001b[49m\u001b[38;5;241;43m15\u001b[39;49m\u001b[43m)\u001b[49m\u001b[38;5;241;43m.\u001b[39;49m\u001b[43muntil\u001b[49m\u001b[43m(\u001b[49m\n\u001b[1;32m     42\u001b[0m \u001b[43m    \u001b[49m\u001b[43mEC\u001b[49m\u001b[38;5;241;43m.\u001b[39;49m\u001b[43mpresence_of_element_located\u001b[49m\u001b[43m(\u001b[49m\u001b[43m(\u001b[49m\u001b[43mBy\u001b[49m\u001b[38;5;241;43m.\u001b[39;49m\u001b[43mCSS_SELECTOR\u001b[49m\u001b[43m,\u001b[49m\u001b[43m \u001b[49m\u001b[38;5;124;43m\"\u001b[39;49m\u001b[38;5;124;43m#productTitle\u001b[39;49m\u001b[38;5;124;43m\"\u001b[39;49m\u001b[43m)\u001b[49m\u001b[43m)\u001b[49m\n\u001b[1;32m     43\u001b[0m \u001b[43m\u001b[49m\u001b[43m)\u001b[49m\n\u001b[1;32m     44\u001b[0m product_title \u001b[38;5;241m=\u001b[39m title_el\u001b[38;5;241m.\u001b[39mtext\u001b[38;5;241m.\u001b[39mstrip()\n\u001b[1;32m     46\u001b[0m \u001b[38;5;66;03m# ── 4) Grab the price (new CSS selector works in most layouts) ───────────────\u001b[39;00m\n",
      "File \u001b[0;32m~/.local/lib/python3.10/site-packages/selenium/webdriver/support/wait.py:146\u001b[0m, in \u001b[0;36mWebDriverWait.until\u001b[0;34m(self, method, message)\u001b[0m\n\u001b[1;32m    144\u001b[0m         \u001b[38;5;28;01mbreak\u001b[39;00m\n\u001b[1;32m    145\u001b[0m     time\u001b[38;5;241m.\u001b[39msleep(\u001b[38;5;28mself\u001b[39m\u001b[38;5;241m.\u001b[39m_poll)\n\u001b[0;32m--> 146\u001b[0m \u001b[38;5;28;01mraise\u001b[39;00m TimeoutException(message, screen, stacktrace)\n",
      "\u001b[0;31mTimeoutException\u001b[0m: Message: \nStacktrace:\n#0 0x5b2b0087e1da <unknown>\n#1 0x5b2b00328ab0 <unknown>\n#2 0x5b2b0037a6f0 <unknown>\n#3 0x5b2b0037a8e1 <unknown>\n#4 0x5b2b003c8b94 <unknown>\n#5 0x5b2b003a01cd <unknown>\n#6 0x5b2b003c5fee <unknown>\n#7 0x5b2b0039ff73 <unknown>\n#8 0x5b2b0036caeb <unknown>\n#9 0x5b2b0036d751 <unknown>\n#10 0x5b2b00842aeb <unknown>\n#11 0x5b2b008468c9 <unknown>\n#12 0x5b2b008298c9 <unknown>\n#13 0x5b2b00847488 <unknown>\n#14 0x5b2b0080e07f <unknown>\n#15 0x5b2b0086b888 <unknown>\n#16 0x5b2b0086ba66 <unknown>\n#17 0x5b2b0087d4f6 <unknown>\n#18 0x713b4e294ac3 <unknown>\n"
     ]
    }
   ],
   "source": [
    "from selenium import webdriver\n",
    "from selenium.webdriver.common.by import By\n",
    "from selenium.webdriver.support.ui import WebDriverWait\n",
    "from selenium.webdriver.support import expected_conditions as EC\n",
    "\n",
    "# ── 1) Chrome‐options for stealth ───────────────────────────────────────────────\n",
    "options = webdriver.ChromeOptions()\n",
    "options.add_argument('--headless')\n",
    "options.add_argument('--disable-gpu')\n",
    "options.add_argument('--window-size=1920,1080')\n",
    "# Spoof a normal browser User‑Agent:\n",
    "options.add_argument(\n",
    "    \"user-agent=Mozilla/5.0 (Windows NT 10.0; Win64; x64) \"\n",
    "    \"AppleWebKit/537.36 (KHTML, like Gecko) \"\n",
    "    \"Chrome/114.0.0.0 Safari/537.36\"\n",
    ")\n",
    "# Disable the automation flag\n",
    "options.add_experimental_option(\"excludeSwitches\", [\"enable-automation\"])\n",
    "options.add_experimental_option('useAutomationExtension', False)\n",
    "\n",
    "driver = webdriver.Chrome(options=options)\n",
    "\n",
    "# Remove webdriver from the navigator object\n",
    "driver.execute_cdp_cmd(\n",
    "    'Page.addScriptToEvaluateOnNewDocument',\n",
    "    {\n",
    "        'source': '''\n",
    "            Object.defineProperty(navigator, 'webdriver', {\n",
    "              get: () => undefined\n",
    "            })\n",
    "        '''\n",
    "    }\n",
    ")\n",
    "\n",
    "try:\n",
    "    # ── 2) Load your product page ────────────────────────────────────────────────\n",
    "    URL = \"https://www.amazon.com/dp/B08FC5L3RG\"  # change to whatever you like\n",
    "    driver.get(URL)\n",
    "\n",
    "    # ── 3) Grab the product title ────────────────────────────────────────────────\n",
    "    title_el = WebDriverWait(driver, 15).until(\n",
    "        EC.presence_of_element_located((By.CSS_SELECTOR, \"#productTitle\"))\n",
    "    )\n",
    "    product_title = title_el.text.strip()\n",
    "\n",
    "    # ── 4) Grab the price (new CSS selector works in most layouts) ───────────────\n",
    "    price_el = WebDriverWait(driver, 15).until(\n",
    "        EC.presence_of_element_located((By.CSS_SELECTOR, \".a-price .a-offscreen\"))\n",
    "    )\n",
    "    product_price = price_el.text.strip()\n",
    "\n",
    "    # ── 5) Print it out ──────────────────────────────────────────────────────────\n",
    "    print(\"Product:\", product_title)\n",
    "    print(\"Price:  \", product_price)\n",
    "\n",
    "finally:\n",
    "    driver.quit()\n"
   ]
  },
  {
   "cell_type": "code",
   "execution_count": null,
   "id": "6224b4e8-1f01-47a7-9223-6a8981ccb95e",
   "metadata": {},
   "outputs": [],
   "source": []
  }
 ],
 "metadata": {
  "kernelspec": {
   "display_name": "Python 3 (ipykernel)",
   "language": "python",
   "name": "python3"
  },
  "language_info": {
   "codemirror_mode": {
    "name": "ipython",
    "version": 3
   },
   "file_extension": ".py",
   "mimetype": "text/x-python",
   "name": "python",
   "nbconvert_exporter": "python",
   "pygments_lexer": "ipython3",
   "version": "3.10.12"
  }
 },
 "nbformat": 4,
 "nbformat_minor": 5
}
