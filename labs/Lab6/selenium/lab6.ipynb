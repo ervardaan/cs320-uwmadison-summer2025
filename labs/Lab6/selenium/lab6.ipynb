{
 "cells": [
  {
   "cell_type": "markdown",
   "id": "809f4249",
   "metadata": {},
   "source": [
    "## What's the point of Selenium\n",
    "\n",
    "Similar to what the lecture notes touch on, the internet is full of data\n",
    "but unfortunately for us (as data scientists), this data is surrounded by lots of \n",
    "html to be more visually appealing for numerous reasons. But subsequently \n",
    "a lot of the data is embedded within html that is structured the same. Making it a \n",
    "repetitive task, the type of things computers are best at! Hence the reason why\n",
    "web scraping can be a extremely helpful tool, to get data on just about anything\n",
    "on the internet.  \n",
    "\n",
    "Selenium allows us to navigate through websites entirely using code. \n",
    "This means that we are able to automate and scrape from sites without \n",
    "having to do it all ourselves. **It is important to follow restrictions \n",
    "when doing so, but this can be quite powerful.**"
   ]
  },
  {
   "cell_type": "markdown",
   "id": "fab18888",
   "metadata": {},
   "source": [
    "### Part 1\n",
    "\n",
    "In this lab, we will practice some of the basic skills needed to start working with Selenium and collecting data from the web.\n",
    "\n",
    "First, we need an example website to start working on this lab. Please run:\n",
    "\n",
    "```\n",
    "python3 lab6site.py\n",
    "```\n",
    "\n",
    "After the Flask app has launched, you can view the hosted site at `http://<VM IP ADDRESS>:5000`.  \n",
    "From this, you’ll see a very simple website.  \n",
    "Actually, in the backend, the website can detect whether the visitor is a person or a web scraping client!\n",
    "\n",
    "If you click on the button, an alert will pop up… click on it.\n",
    "\n",
    "The first task is to press the button using a Selenium WebDriver and observe the output.  \n",
    "Here is some starter code:\n",
    "\n",
    "I highly recommend poking around in the HTML via inspect element/dev tools—there are other ways to inspect the HTML, but I find this one the simplest."
   ]
  },
  {
   "cell_type": "code",
   "execution_count": 2,
   "id": "1784c0cf",
   "metadata": {},
   "outputs": [
    {
     "name": "stdout",
     "output_type": "stream",
     "text": [
      "Alert text: You are using Selenium! Welcome, webscraper!\n"
     ]
    }
   ],
   "source": [
    "from selenium import webdriver\n",
    "import time\n",
    "\n",
    "options = webdriver.ChromeOptions()\n",
    "options.add_argument('--headless')  \n",
    "driver = webdriver.Chrome(options=options)\n",
    "\n",
    "# update this with you vm's ip address driver.get(\"http://<VMSIP>:5000\")\n",
    "\n",
    "alert = driver.switch_to.alert\n",
    "print(\"Alert text:\", alert.text)\n",
    "alert.accept()\n",
    "\n",
    "driver.quit()\n"
   ]
  },
  {
   "cell_type": "markdown",
   "id": "d10d697b",
   "metadata": {},
   "source": [
    "Hint: You will need to find a webelement that you can call .click() with"
   ]
  },
  {
   "cell_type": "markdown",
   "id": "36e98ebd",
   "metadata": {},
   "source": [
    "### Part 2\n",
    "\n",
    "For the second part of this lab, we will be working on sending a string to an input box.\n",
    "\n",
    "You might be thinking... *“I didn’t see an input box on that site.”*  \n",
    "Well, look again! You're right—there isn't one that's **visibly** displayed,  \n",
    "but if you inspect the HTML, you’ll find one hidden (what a sneaky TA).\n",
    "\n",
    "There is also a hidden code in the HTML—find it.\n",
    "\n",
    "Then, use Selenium to:\n",
    "1. Enter the string into the hidden input box,\n",
    "2. Press the button,\n",
    "3. Output the alert box.\n",
    "\n",
    "You can reuse the starter code from above to begin this part as well.\n"
   ]
  },
  {
   "cell_type": "code",
   "execution_count": 3,
   "id": "2f426929",
   "metadata": {},
   "outputs": [
    {
     "name": "stdout",
     "output_type": "stream",
     "text": [
      "Alert text: Success! You found the secret input.\n"
     ]
    }
   ],
   "source": [
    "from selenium import webdriver\n",
    "from selenium.webdriver.common.by import By\n",
    "import time\n",
    "\n",
    "options = webdriver.ChromeOptions()\n",
    "options.add_argument('--headless')  \n",
    "driver = webdriver.Chrome(options=options)\n",
    "\n",
    "# update this with you vm's ip address driver.get(\"http://<VMSIP>:5000\")\n",
    "\n",
    "time.sleep(2)\n",
    "alert = driver.switch_to.alert\n",
    "print(\"Alert text:\", alert.text)\n",
    "alert.accept()\n",
    "\n",
    "driver.quit()"
   ]
  },
  {
   "cell_type": "markdown",
   "id": "35dce25b",
   "metadata": {},
   "source": [
    "### Part 3\n",
    "\n",
    "In this part, I want to give you the freedom to explore the power of Selenium and web scraping.\n",
    "\n",
    "Go to **any website** you’re interested in—Amazon, eBay, ESPN, a movie theater, etc.—and try to extract a **meaningful piece of data**.  \n",
    "By \"meaningful,\" I mean something beyond just grabbing the raw HTML—extract something a user would actually care about.\n",
    "\n",
    "Use **Inspect Element** to examine the HTML structure and locate the data you're interested in.  \n",
    "Then, write a short script to extract and print that data using Selenium.\n",
    "\n",
    "#### Example ideas:\n",
    "- The price of an Amazon or eBay listing  \n",
    "- The score of a recent sports game  \n",
    "- The list of movies currently showing at a theater  \n",
    "\n",
    "Feel free to get creative here—just make sure to comment your code and briefly explain what your scraper is doing.\n"
   ]
  },
  {
   "cell_type": "markdown",
   "id": "2628d1a5",
   "metadata": {},
   "source": []
  }
 ],
 "metadata": {
  "kernelspec": {
   "display_name": "Python 3 (ipykernel)",
   "language": "python",
   "name": "python3"
  },
  "language_info": {
   "codemirror_mode": {
    "name": "ipython",
    "version": 3
   },
   "file_extension": ".py",
   "mimetype": "text/x-python",
   "name": "python",
   "nbconvert_exporter": "python",
   "pygments_lexer": "ipython3",
   "version": "3.10.12"
  }
 },
 "nbformat": 4,
 "nbformat_minor": 5
}
