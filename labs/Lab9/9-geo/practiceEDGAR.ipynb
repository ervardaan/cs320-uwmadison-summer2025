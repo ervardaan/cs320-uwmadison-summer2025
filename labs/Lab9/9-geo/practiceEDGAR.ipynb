{
 "cells": [
  {
   "cell_type": "code",
   "execution_count": 11,
   "id": "32b7b5e5-2758-433f-a546-9e47170ddd3a",
   "metadata": {},
   "outputs": [],
   "source": [
    "import re\n",
    "import netaddr\n",
    "from bisect import bisect"
   ]
  },
  {
   "cell_type": "code",
   "execution_count": 3,
   "id": "bde95c70-99c0-4c75-a692-47b502d81c0f",
   "metadata": {},
   "outputs": [
    {
     "data": {
      "text/plain": [
       "'101.1.1.000'"
      ]
     },
     "execution_count": 3,
     "metadata": {},
     "output_type": "execute_result"
    }
   ],
   "source": [
    "ipaddr=\"101.1.1.abc\"\n",
    "re.sub(\"[a-z]\",\"0\",ipaddr)"
   ]
  },
  {
   "cell_type": "code",
   "execution_count": 13,
   "id": "7a70fac6-d2e8-4e4e-8b0a-a9027cf32cd5",
   "metadata": {},
   "outputs": [
    {
     "name": "stdout",
     "output_type": "stream",
     "text": [
      "573467417\n"
     ]
    }
   ],
   "source": [
    "ip=netaddr.IPAddress(\"34.46.107.25\")\n",
    "print((int)(ip))"
   ]
  },
  {
   "cell_type": "code",
   "execution_count": 12,
   "id": "3624940a-2d76-4c79-b9b1-23cc451b902b",
   "metadata": {},
   "outputs": [
    {
     "data": {
      "text/plain": [
       "4"
      ]
     },
     "execution_count": 12,
     "metadata": {},
     "output_type": "execute_result"
    }
   ],
   "source": [
    "L=[1,2,100,222,900]\n",
    "idx=bisect(L,225)\n",
    "idx"
   ]
  },
  {
   "cell_type": "code",
   "execution_count": null,
   "id": "c19292c2-cd64-4f90-a95a-ccb4808775f1",
   "metadata": {},
   "outputs": [],
   "source": []
  }
 ],
 "metadata": {
  "kernelspec": {
   "display_name": "Python 3 (ipykernel)",
   "language": "python",
   "name": "python3"
  },
  "language_info": {
   "codemirror_mode": {
    "name": "ipython",
    "version": 3
   },
   "file_extension": ".py",
   "mimetype": "text/x-python",
   "name": "python",
   "nbconvert_exporter": "python",
   "pygments_lexer": "ipython3",
   "version": "3.10.12"
  }
 },
 "nbformat": 4,
 "nbformat_minor": 5
}
